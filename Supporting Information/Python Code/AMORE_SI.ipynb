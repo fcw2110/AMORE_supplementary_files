{
 "cells": [
  {
   "cell_type": "markdown",
   "metadata": {},
   "source": [
    "# Chemical Reaction Network Reduction"
   ]
  },
  {
   "cell_type": "markdown",
   "metadata": {},
   "source": [
    "## Set Up"
   ]
  },
  {
   "cell_type": "code",
   "execution_count": 1,
   "metadata": {
    "code_folding": [
     0
    ]
   },
   "outputs": [],
   "source": [
    "#import necessary packages\n",
    "import numpy as np\n",
    "import sys\n",
    "import math\n",
    "import re\n",
    "import isoprene_rates as rate\n",
    "from math import exp as EXP\n",
    "from copy import deepcopy\n",
    "import sympy as sym\n",
    "import networkx as nx\n",
    "import matplotlib.pyplot as plt\n",
    "import graphviz \n",
    "#import pygraphviz as pgv\n",
    "#import to_precision\n",
    "import time\n",
    "import csv\n",
    "import pandas as pd\n",
    "import random\n",
    "from sklearn.preprocessing import normalize\n"
   ]
  },
  {
   "cell_type": "code",
   "execution_count": 2,
   "metadata": {
    "code_folding": [
     0
    ]
   },
   "outputs": [],
   "source": [
    "#KPP eqns to python (rxn,rate) format\n",
    "#as an input and outputs the reactions as a list in the format of [[reaction, rate],[r2],[r3]...]\n",
    "def read_eqns(eqn_file):\n",
    "    '''Read .eqn files\n",
    "    Parameters\n",
    "    ----------\n",
    "    eqn_file: .eqn file\n",
    "      The .eqn file to read\n",
    "\n",
    "    Returns\n",
    "    ----------\n",
    "    species: list\n",
    "      A list of tuples. The first element in the tuple is an equation.\n",
    "      The second element in the tuple is reaction rate. \n",
    "    '''\n",
    "  \n",
    "    equations = None\n",
    "    with open(eqn_file,'r') as f:\n",
    "        lines = f.readlines()\n",
    "        equantions = lines[:]\n",
    "    equations = [i.strip() for i in equantions[1:]]\n",
    "    equations = [tuple(i.split(':')) for i in equations if len(i)>0]\n",
    "    equations = [(i[0].strip(),i[1].strip().strip(';')) for i in equations]\n",
    "    return(equations)"
   ]
  },
  {
   "cell_type": "code",
   "execution_count": 3,
   "metadata": {
    "code_folding": [
     0
    ]
   },
   "outputs": [],
   "source": [
    "#KPP spc to python \n",
    "#as an input and outputs the reactions as a list in the format of [species1,species2,...]\n",
    "def read_spc(spc_file):\n",
    "    '''Read .spc files and process the raw input into species\n",
    "    Parameters\n",
    "    ----------\n",
    "    spc_file: .eqn file\n",
    "        The .spc file to read\n",
    "    \n",
    "    Returns\n",
    "    ----------\n",
    "    species: list\n",
    "        List of species.\n",
    "    '''\n",
    "    species = None\n",
    "    with open(spc_file,'r') as f:\n",
    "        lines = f.readlines()\n",
    "        species = lines[:]\n",
    "    species = [s.split('=')[0].strip() for s in species]\n",
    "    species = [s for s in species if s and s[0]!='#']\n",
    "    return(species)"
   ]
  },
  {
   "cell_type": "code",
   "execution_count": 4,
   "metadata": {
    "code_folding": [
     0,
     2
    ]
   },
   "outputs": [],
   "source": [
    "#python functions for all of the rate constant functions given in the mechanism file. \n",
    "#These were copied from isoprene_rates.py, made by the DSI team\n",
    "def ISO1(A0, B0, C0, D0, E0, F0, G0):\n",
    "    K0 = D0 * EXP(E0/TEMP) * EXP(1.E8/TEMP**3)\n",
    "    K1 = F0 * EXP(G0/TEMP)\n",
    "    K2 = C0 * K0/(K0+K1)\n",
    "    ISO1 = A0 * EXP(B0/TEMP) * (-(K2-1))\n",
    "    return ISO1\n",
    "def EXP(x):\n",
    "    return(math.exp(x))\n",
    "def LOG10(x):\n",
    "    return(math.log10(x))\n",
    "def TUN(A0, B0, C0):\n",
    "    return(A0 * EXP(-B0/TEMP) * EXP(C0/TEMP**3))\n",
    "def ALK(A0, B0, C0, n, X0, Y0):\n",
    "    K0 = 2.0E-22 * EXP(n)\n",
    "    K1 = 4.3E-1 * (TEMP/298.0) ** (-8)\n",
    "    K0 = K0 * CFACTOR\n",
    "    K1 = K0/K1\n",
    "    K2 = (K0/(1.0 + K1)) * 4.1E-1 ** (1.0/(1.0 + (LOG10(K1)) ** 2))\n",
    "    K3 = C0/(K2 + C0)\n",
    "    K4 = A0 * (X0 - TEMP * Y0)\n",
    "    ALK = K4 * EXP(B0/TEMP) * K3\n",
    "    return(ALK)\n",
    "def NIT(A0, B0, C0, n, X0, Y0):\n",
    "    K0 = 2.0E-22 * EXP(n)\n",
    "    K1 = 4.3E-1 *(TEMP/298.0) ** (-8)\n",
    "    K0 = K0 * CFACTOR\n",
    "    K1 = K0/K1\n",
    "    K2 = (K0/(1.0 + K1)) * 4.1E-1 ** (1.0 /(1.0 +(LOG10(K1)) ** 2))\n",
    "    K3 = K2/(K2 + C0)\n",
    "    K4 = A0*(X0 - TEMP * Y0)\n",
    "    NIT = K4 * EXP(B0/TEMP) * K3\n",
    "    return(NIT)\n",
    "def ISO2(A0, B0, C0, D0, E0, F0, G0):\n",
    "    K0 = D0 * EXP(E0/TEMP) * EXP(1.E8/TEMP**3)\n",
    "    K1 = F0 * EXP(G0/TEMP)\n",
    "    K2 = C0 * K0/(K0+K1)\n",
    "    ISO2 = A0 * EXP(B0/TEMP) * K2\n",
    "    return ISO2\n",
    "def EPO(A1, E1, M1):\n",
    "    K1 = 1 / (M1 * CFACTOR + 1)\n",
    "    EPO = A1 * EXP(E1/TEMP) * K1\n",
    "    return EPO\n",
    "def KCO(A1, M1):\n",
    "    KCO = A1 * (1 + (CFACTOR/M1))\n",
    "    return KCO\n",
    "def FALL(A0,B0,C0,A1,B1,C1,CF):\n",
    "    K0 = A0 * EXP(B0/TEMP) * (TEMP/300)**C0\n",
    "    K1 = A1 * EXP(B1/TEMP) * (TEMP/300)**(C1)\n",
    "    K0 = K0*CFACTOR\n",
    "    K1 = K0/K1\n",
    "    FALL = (K0 / (1.00+K1) * CF**(1 / (1 + LOG10(K1)) **2))\n",
    "    return FALL\n",
    "def TROE(A0, B0, C0, A1, B1, C1, CF):\n",
    "    K0 = A0 * EXP(B0/TEMP) * (TEMP/300) ** C0\n",
    "    K1 = A1 * EXP(B1/TEMP) * (TEMP/300) ** C1\n",
    "    K0 = K0 * CFACTOR\n",
    "    KR = K0/K1\n",
    "    NC = 0.75 - 1.27 * LOG10(CF)\n",
    "    F = 10 ** ((LOG10(CF)) / (1+(LOG10(KR)/NC)**2))\n",
    "    TROE = K0*K1*F / (K0+K1)\n",
    "    return TROE\n",
    "def ARR(A0, B0, C0):\n",
    "    return(A0 * EXP(B0/TEMP) * EXP(C0/TEMP**3))\n",
    "def K_OH_CO(T,M):\n",
    "    T3I = 1/T\n",
    "    KLO1=5.9e-33*(300*T3I)**(1.4)\n",
    "    KHI1=1.1E-12*(300.*T3I)**(-1.3)\n",
    "    XYRAT1=(KLO1*M)/KHI1\n",
    "    BLOG1= np.log10(XYRAT1)\n",
    "    FEXP1=1.0/(1.0+BLOG1*BLOG1)\n",
    "    KCO1=KLO1*M*0.6**(FEXP1)/(1.0+XYRAT1)\n",
    "    KLO2=1.5E-13*(300*T3I)**(-0.6)\n",
    "    KHI2=2.1E9*(300*T3I)**(-6.1)\n",
    "    XYRAT2 = KLO2*M/KHI2\n",
    "    BLOG2=LOG10(XYRAT2)\n",
    "    FEXP2=1.0/(1.0+ BLOG2*BLOG2)\n",
    "    KCO2=KLO2*0.6**(FEXP2/(1.0+XYRAT2))\n",
    "    KCO=KCO1+KCO2\n",
    "    return KCO\n",
    "def KRO2NO3():\n",
    "    return 2.3e-12\n",
    "def KAPHO2(T):\n",
    "    return 5.2e-13*np.exp(980/T) \n",
    "def KAPNO(T):\n",
    "    return 7.5e-12*np.exp(290/T)\n",
    "def KNO3AL(T):\n",
    "    return 1.44e-12*np.exp(-1862/T) ;\n",
    "def KCH3O2(T):\n",
    "    return 1.03e-13*np.exp(365/T)\n",
    "def KBPAN(T,M):\n",
    "    KD0 = 1.10e-05*M*np.exp(-10100/T)\n",
    "    KDI = 1.90e17*np.exp(-14100/T)\n",
    "    KRD = KD0/KDI\n",
    "    FCD = 0.30\n",
    "    NCD = 0.75-1.27*(np.log10(FCD)) ;\n",
    "    FD = 10**(np.log10(FCD)/(1+(np.log10(KRD)/NCD)**2)) ;\n",
    "    return (KD0*KDI)*FD/(KD0+KDI) ;\n",
    "def KFPAN(T,M):\n",
    "    KC0 = 3.28e-28*M*(T/300)**(-6.87) \n",
    "    KCI = 1.125e-11*(T/300)**(-1.105) \n",
    "    KRC = KC0/KCI \n",
    "    FCC = 0.30 \n",
    "    NC = 0.75-1.27*(np.log10(FCC)) \n",
    "    FC = 10**(np.log10(FCC)/(1+(np.log10(KRC)/NC)**2)) ;\n",
    "    return (KC0*KCI)*FC/(KC0+KCI) ;"
   ]
  },
  {
   "cell_type": "markdown",
   "metadata": {},
   "source": [
    "#### Analysis Functions"
   ]
  },
  {
   "cell_type": "code",
   "execution_count": 5,
   "metadata": {
    "code_folding": [
     0
    ]
   },
   "outputs": [],
   "source": [
    "#get_prod_reac(eq_list)\n",
    "#takes eq list and separates into format reac_list2 = [[r1,r2],[r1],...], prod_list2 = [[r1,r2],[r1],...], \n",
    "#reac_coeff_list = [[1,1],[1],...], prod_coeff_list = [[1,1],[2],...] (as examples)\n",
    "def get_prod_reac(eq_list):\n",
    "    nums = ['0','1','2','3','4','5','6','7','8','9']\n",
    "    reac_list = [i[0].split(' = ')[0].split(' + ') for i in eq_list]\n",
    "    prod_list = [i[0].split(' = ')[1].split(' + ') for i in eq_list]\n",
    "    prod_list2 = deepcopy(prod_list)\n",
    "    prod_coeff_list = deepcopy(prod_list)\n",
    "    reac_list2 = deepcopy(reac_list)\n",
    "    reac_coeff_list = deepcopy(reac_list)\n",
    "    a=[]\n",
    "    for i in range(len(prod_list2)):\n",
    "        for j in range(len(prod_list2[i])):\n",
    "            if prod_list2[i][j][:1] in nums:\n",
    "                a=re.split('([a-zA-Z])',prod_list[i][j],1)\n",
    "                prod_list2[i][j]=a[1]+a[2]\n",
    "                prod_coeff_list[i][j]=a[0]\n",
    "            else:\n",
    "                prod_coeff_list[i][j]=1\n",
    "    b=[]\n",
    "    for i in range(len(reac_list2)):\n",
    "        for j in range(len(reac_list2[i])):\n",
    "            if reac_list2[i][j][:1] in nums:\n",
    "                b=re.split('([a-zA-Z])',reac_list[i][j],1)\n",
    "                reac_list2[i][j]=b[1]+b[2]\n",
    "                reac_coeff_list[i][j]=b[0]\n",
    "            else:\n",
    "                reac_coeff_list[i][j]=1\n",
    "    for i in range(len(prod_coeff_list)):\n",
    "        for j in range(len(prod_coeff_list[i])):\n",
    "            prod_coeff_list[i][j] = float(prod_coeff_list[i][j])\n",
    "    for i in range(len(reac_coeff_list)):\n",
    "        for j in range(len(reac_coeff_list[i])):\n",
    "            reac_coeff_list[i][j] = float(reac_coeff_list[i][j])\n",
    "    return reac_list2,reac_coeff_list,prod_list2,prod_coeff_list"
   ]
  },
  {
   "cell_type": "code",
   "execution_count": 6,
   "metadata": {
    "code_folding": [
     0
    ]
   },
   "outputs": [],
   "source": [
    "#get_network(species_list2,reac_list,prod_list,background_spc)\n",
    "#creates reaction network of format network[reactant][product]\n",
    "# in_list gives in_list[species] --> reactants that can react to form this species\n",
    "# out_list gives in_list[species] --> products that are formed from this species\n",
    "def get_network(species_list2,reac_list,prod_list,background_spc):\n",
    "    network = np.zeros((len(species_list2),len(species_list2)))\n",
    "    for i in range(len(reac_list)):\n",
    "        for j in range(len(reac_list[i])):\n",
    "            for k in range(len(prod_list[i])):\n",
    "                if reac_list[i][j] not in  background_spc and prod_list[i][k] not in  background_spc:\n",
    "                    network[species_list2.index(reac_list[i][j]),species_list2.index(prod_list[i][k])] = 1\n",
    "    out_list = network_2_out_list(network,species_list2)\n",
    "    in_list = network_2_in_list(network,species_list2)\n",
    "    return network, in_list, out_list"
   ]
  },
  {
   "cell_type": "code",
   "execution_count": 7,
   "metadata": {
    "code_folding": [
     0
    ]
   },
   "outputs": [],
   "source": [
    "#eqn_to_reactions(reac_list,reac_coeff_list,prod_list,prod_coeff_list,eq_list), with evaluated k\n",
    "#creates list of reactions from eq_list and prod/reac lists\n",
    "# format: [[[reactant,coeff],...], [[product,coeff],...],[rate constant,rate constant equation]]\n",
    "def eqn_to_reactions(reac_list,reac_coeff_list,prod_list,prod_coeff_list,eq_list):\n",
    "    reaction_list = []\n",
    "    k_list = [eval(i[1]) for i in eq_list]\n",
    "    for i in range(len(k_list)):\n",
    "        rec = [[reac_list[i][j],-1*reac_coeff_list[i][j]] for j in range(len(reac_list[i]))]\n",
    "        pro = [[prod_list[i][j],prod_coeff_list[i][j]] for j in range(len(prod_list[i]))]\n",
    "        reaction_list.append([rec+pro,[k_list[i],eq_list[i][1]]])\n",
    "    return reaction_list"
   ]
  },
  {
   "cell_type": "code",
   "execution_count": 8,
   "metadata": {
    "code_folding": [
     0
    ]
   },
   "outputs": [],
   "source": [
    "#eqn_to_reactions2(reac_list,reac_coeff_list,prod_list,prod_coeff_list,eq_list), no evaluated k\n",
    "#creates list of reactions from eq_list and prod/reac lists\n",
    "# format: [[[reactant,coeff],...], [[product,coeff],...],rate constant equation]\n",
    "def eqn_to_reactions2(reac_list,reac_coeff_list,prod_list,prod_coeff_list,eq_list):\n",
    "    reaction_list = []\n",
    "    for i in range(len(eq_list)):\n",
    "        rec = [[reac_list[i][j],-1*reac_coeff_list[i][j]] for j in range(len(reac_list[i]))]\n",
    "        pro = [[prod_list[i][j],prod_coeff_list[i][j]] for j in range(len(prod_list[i]))]\n",
    "        reaction_list.append([rec+pro,eq_list[i][1]])\n",
    "    return reaction_list"
   ]
  },
  {
   "cell_type": "code",
   "execution_count": 9,
   "metadata": {
    "code_folding": [
     0
    ]
   },
   "outputs": [],
   "source": [
    "#network_to_reactions(network,out_list, species_list,reac_list, prod_list, background_spc, reaction_list)\n",
    "#the confusing part addresses the situation in which a reaction is still there, but one of the products is \n",
    "#removed because the edge connected said product to the reactant is removed\n",
    "def network_to_reactions(network,out_list, species_list,reac_list, prod_list, background_spc, reaction_list):\n",
    "    species_list_new = get_species(network,species_list)\n",
    "    species_list_new.extend(background_spc)\n",
    "    reaction_list_new = []\n",
    "    for i in range(len(reac_list)):\n",
    "        reaction = reaction_list[i]\n",
    "        if all(j in species_list_new for j in reac_list[i]):\n",
    "            edge_list = []\n",
    "            for m in reac_list[i]:\n",
    "                for n in prod_list[i]:\n",
    "                    edge_list.append(is_edge(m,n,out_list,species_list))\n",
    "            if any(edge_list) or all(f in background_spc for f in prod_list[i]):\n",
    "                for b in prod_list[i]:\n",
    "                    if not any([is_edge(a,b,out_list,species_list) for a in reac_list[i]]):\n",
    "                        for l in reaction[0]:\n",
    "                            if l[0] is b and l[1]>0:\n",
    "                                if l[0] not in background_spc:\n",
    "                                    reaction[0].remove(l)\n",
    "                reaction_list_new.append(reaction)\n",
    "    return reaction_list_new"
   ]
  },
  {
   "cell_type": "code",
   "execution_count": 10,
   "metadata": {
    "code_folding": [
     0
    ]
   },
   "outputs": [],
   "source": [
    "#out_list_2_network(out_list,species_list)\n",
    "def out_list_2_network(out_list,species_list):\n",
    "    network1 = np.zeros((len(species_list),len(species_list)))\n",
    "    for i in range(len(out_list)):\n",
    "        for j in range(len(out_list[i])):\n",
    "            network1[i][out_list[i][j]] = 1\n",
    "    return network1"
   ]
  },
  {
   "cell_type": "code",
   "execution_count": 11,
   "metadata": {
    "code_folding": [
     0
    ]
   },
   "outputs": [],
   "source": [
    "#in_list_2_network(in_list,species_list)\n",
    "def in_list_2_network(in_list,species_list):\n",
    "    network1 = np.zeros((len(species_list),len(species_list)))\n",
    "    for i in range(len(in_list)):\n",
    "        for j in range(len(in_list[i])):\n",
    "            network1[in_list[i][j]][i] = 1\n",
    "    return network1"
   ]
  },
  {
   "cell_type": "code",
   "execution_count": 12,
   "metadata": {
    "code_folding": [
     0
    ]
   },
   "outputs": [],
   "source": [
    "#network_2_out_list(network,species_list)\n",
    "def network_2_out_list(network,species_list):\n",
    "    out_list=[]\n",
    "    for i in range(len(network)):\n",
    "        a=[]\n",
    "        for j in range(len(network)):\n",
    "            if network[i][j] >0:\n",
    "                a.append(j)\n",
    "        out_list.append(a)     \n",
    "    return out_list"
   ]
  },
  {
   "cell_type": "code",
   "execution_count": 13,
   "metadata": {
    "code_folding": [
     0
    ]
   },
   "outputs": [],
   "source": [
    "#network_2_in_list(network,species_list)\n",
    "def network_2_in_list(network,species_list):\n",
    "    in_list=[]\n",
    "    for i in range(len(network)):\n",
    "        a=[]\n",
    "        for j in range(len(network)):\n",
    "            if network[j][i] >0:\n",
    "                a.append(j)\n",
    "        in_list.append(a)     \n",
    "    return in_list"
   ]
  },
  {
   "cell_type": "code",
   "execution_count": 14,
   "metadata": {
    "code_folding": [
     0,
     1
    ]
   },
   "outputs": [],
   "source": [
    "#out_list_2_in_list(out_list,species_list)\n",
    "def out_list_2_in_list(out_list,species_list):\n",
    "    network = out_list_2_network(out_list,species_list)\n",
    "    a = []\n",
    "    for i in range(len(network)):\n",
    "        b =[]\n",
    "        for j in range(len(network[i])):\n",
    "            if network[j][i]==1:\n",
    "                b.append(j)\n",
    "        a.append(b)\n",
    "                \n",
    "    return a"
   ]
  },
  {
   "cell_type": "code",
   "execution_count": 15,
   "metadata": {
    "code_folding": [
     0
    ]
   },
   "outputs": [],
   "source": [
    "#in_list_2_out_list(in_list,species_list)\n",
    "def in_list_2_out_list(in_list,species_list):\n",
    "    network = in_list_2_network(in_list,species_list)\n",
    "    a = []\n",
    "    for i in range(len(network)):\n",
    "        b =[]\n",
    "        for j in range(len(network[i])):\n",
    "            if network[j][i]==1:\n",
    "                b.append(j)\n",
    "        a.append(b)\n",
    "                \n",
    "    return a"
   ]
  },
  {
   "cell_type": "code",
   "execution_count": 16,
   "metadata": {
    "code_folding": [
     0
    ]
   },
   "outputs": [],
   "source": [
    "#reaction_list_2_eq_list(reaction_list), includes rate\n",
    "def reaction_list_2_eq_list(reaction_list):\n",
    "    eq_list = []\n",
    "    for i in reaction_list:\n",
    "        length = len(i[0])\n",
    "        eq_string = ''\n",
    "        coeff = -1\n",
    "        counter = 0\n",
    "        while coeff < 0:\n",
    "            eq_string = eq_string + str(-1*i[0][counter][0])+i[0][counter][0]\n",
    "            if counter < length-1:\n",
    "                coeff = i[0][counter + 1][1]\n",
    "            else:\n",
    "                break\n",
    "            if coeff < 0:\n",
    "                eq_string = eq_string + ' + '\n",
    "            else:\n",
    "                eq_string = eq_string + ' = '\n",
    "            counter = counter + 1\n",
    "        while counter < len(i[0]):\n",
    "            eq_string = eq_string + str(-1*i[0][counter][0])+i[0][counter][0]\n",
    "            counter = counter + 1\n",
    "            if counter < len(i[0]):\n",
    "                eq_string = eq_string + ' + '\n",
    "        eq_list.append([eq_string,i[1]])\n",
    "    return eq_list"
   ]
  },
  {
   "cell_type": "code",
   "execution_count": 17,
   "metadata": {
    "code_folding": [
     0
    ]
   },
   "outputs": [],
   "source": [
    "#eqn_to_reactions(reac_list,reac_coeff_list,prod_list,prod_coeff_list,eq_list), accounts for j rates\n",
    "#creates list of reactions from eq_list and prod/reac lists\n",
    "# format: [[[reactant,coeff],...], [[product,coeff],...],[rate constant,rate constant equation]]\n",
    "def eqn_to_reactions(reac_list,reac_coeff_list,prod_list,prod_coeff_list,eq_list):\n",
    "    reaction_list = []\n",
    "    for i in eq_list:\n",
    "        if i[1] == 'J(22) ':\n",
    "            I = 5.804e-6;\n",
    "            m = 1.092;\n",
    "            n = 0.377;\n",
    "            k_list.append(j_func(sza,I,m,n))\n",
    "        elif i[1] == 'J(34) ':\n",
    "            I = 1.537e-4;\n",
    "            m = 0.170;\n",
    "            n = 0.208;\n",
    "            k_list.append(j_func(sza,I,m,n))\n",
    "        elif i[1] == 'J(41) ':\n",
    "            I = 7.649e-6;\n",
    "            m = 0.682;\n",
    "            n = 0.279;\n",
    "            k_list.append(j_func(sza,I,m,n))\n",
    "        else:\n",
    "            k_list.append(eval(i[1])) \n",
    "    for i in range(len(k_list)):\n",
    "        rec = [[reac_list[i][j],-1*reac_coeff_list[i][j]] for j in range(len(reac_list[i]))]\n",
    "        pro = [[prod_list[i][j],prod_coeff_list[i][j]] for j in range(len(prod_list[i]))]\n",
    "        reaction_list.append([rec+pro,[k_list[i],eq_list[i][1]]])\n",
    "    return reaction_list"
   ]
  },
  {
   "cell_type": "code",
   "execution_count": 18,
   "metadata": {
    "code_folding": [
     0,
     3
    ]
   },
   "outputs": [],
   "source": [
    "#pressure_to_m(P,T)\n",
    "#number density is molecules per cubic centimeter\n",
    "#it is n = p/kT, if p is in mbar, then that is equivalent to 100 pascals, so we multiple k by \n",
    "def pressure_to_m(P,T):\n",
    "    Na = 6.022e23; #molecules per mole\n",
    "    R = 8.314e4; # cm^3 mbar /K /mol\n",
    "    M = Na*P/(R*T)\n",
    "    return M"
   ]
  },
  {
   "cell_type": "code",
   "execution_count": 19,
   "metadata": {
    "code_folding": [
     0,
     2
    ]
   },
   "outputs": [],
   "source": [
    "#j_func(sza,I,m,n)\n",
    "#J = I * cos(SZA)^m * exp(-n * sec(SZA))\n",
    "def j_func(sza,I,m,n):\n",
    "    a = I*(np.cos(sza*(2*np.pi)/360)**m)\n",
    "    b = np.exp(-n/(np.cos(sza*(2*np.pi)/360)))\n",
    "    return a*b"
   ]
  },
  {
   "cell_type": "code",
   "execution_count": 20,
   "metadata": {
    "code_folding": [
     0
    ]
   },
   "outputs": [],
   "source": [
    "#network_to_reactions(network,out_list, species_list,reac_list, prod_list, background_spc, reaction_list)\n",
    "def network_to_reactions(network,out_list, species_list,reac_list, prod_list, background_spc, reaction_list):\n",
    "    species_list_new = get_species(network,species_list)\n",
    "    species_list_new.extend(background_spc)\n",
    "    reaction_list_new = []\n",
    "    for i in range(len(reac_list)):\n",
    "        reaction = reaction_list[i]\n",
    "        if all(j in species_list_new for j in reac_list[i]):\n",
    "            edge_list = []\n",
    "            for m in reac_list[i]:\n",
    "                for n in prod_list[i]:\n",
    "                    edge_list.append(is_edge(m,n,out_list,species_list))\n",
    "            if any(edge_list) or all(f in background_spc for f in prod_list[i]):\n",
    "                for b in prod_list[i]:\n",
    "                    if not any([is_edge(a,b,out_list,species_list) for a in reac_list[i]]):\n",
    "                        for l in reaction[0]:\n",
    "                            if l[0] is b and l[1]>0:\n",
    "                                if l[0] not in background_spc:\n",
    "                                    reaction[0].remove(l)\n",
    "                reaction_list_new.append(reaction)\n",
    "    return reaction_list_new"
   ]
  },
  {
   "cell_type": "code",
   "execution_count": 21,
   "metadata": {
    "code_folding": [
     0
    ]
   },
   "outputs": [],
   "source": [
    "#edge_to_reactions(edge,reac_list,reac_coeff_list,prod_list,prod_coeff_list,k_list)\n",
    "def edge_to_reactions(edge,reac_list,reac_coeff_list,prod_list,prod_coeff_list,k_list):\n",
    "    reactions = []\n",
    "    for i in range(len(reac_list)):\n",
    "        if species_list[edge[0]] in reac_list[i] and species_list[edge[1]] in prod_list[i]:\n",
    "            reac_str = ''\n",
    "            reac = []\n",
    "            prod = []\n",
    "            rate = [k_list[i]]\n",
    "            for j in range(len(reac_list[i])):\n",
    "                reac_str = reac_str + str(reac_coeff_list[i][j]) + reac_list[i][j] + ' + '\n",
    "                reac.append([reac_list[i][j],reac_coeff_list[i][j]])\n",
    "                if reac_list[i][j] != species_list[edge[0]]:\n",
    "                    rate.append(reac_list[i][j])\n",
    "            reac_str = reac_str + '='\n",
    "            for k in range(len(prod_list[i])):\n",
    "                reac_str = reac_str + ' + ' + str(prod_coeff_list[i][k]) + prod_list[i][k]\n",
    "                prod.append([prod_list[i][k],prod_coeff_list[i][k]])\n",
    "            reactions.append([reac_str,reac,prod,rate])\n",
    "    return reactions"
   ]
  },
  {
   "cell_type": "code",
   "execution_count": 22,
   "metadata": {
    "code_folding": [
     0
    ]
   },
   "outputs": [],
   "source": [
    "#get_sequences(species_list,out_list,in_list)\n",
    "def get_sequences(species_list,out_list,in_list):\n",
    "    sequences = []\n",
    "    for i in range(len(species_list)):\n",
    "        if len(out_list[i]) == 1 and len(in_list[i]) == 1:\n",
    "            check = 1\n",
    "            seq = [i]\n",
    "            j = i\n",
    "            b = i\n",
    "            while check > 0:\n",
    "                if len(out_list[out_list[j][0]]) == 1 and len(in_list[out_list[j][0]]) == 1:\n",
    "                    seq.append(out_list[j][0])\n",
    "                    j = out_list[j][0]\n",
    "                    check1 = 1\n",
    "                else:\n",
    "                    check1 = 0\n",
    "                if seq not in sequences:\n",
    "                    sequences.append(seq)\n",
    "                if len(in_list[in_list[b][0]]) == 1 and len(out_list[in_list[b][0]]) == 1:\n",
    "                    seq.insert(0,in_list[b][0])\n",
    "                    b = in_list[b][0]\n",
    "                    check2 = 1\n",
    "                else:\n",
    "                    check2 = 0\n",
    "                if check2 == 1 or check1 == 1:\n",
    "                    check = 1\n",
    "                else:\n",
    "                    check = 0\n",
    "            if seq not in sequences:\n",
    "                sequences.append(seq)\n",
    "    sequences2 = []\n",
    "    for i in sequences:\n",
    "        if i not in sequences2:\n",
    "            sequences2.append(i)\n",
    "    return sequences2"
   ]
  },
  {
   "cell_type": "code",
   "execution_count": 23,
   "metadata": {
    "code_folding": [
     0
    ]
   },
   "outputs": [],
   "source": [
    "#reduce_sequences(species_list, net, out_list, in_list)\n",
    "def reduce_sequences(species_list, net, out_list, in_list):\n",
    "    sequences = get_sequences(species_list,out_list,in_list)\n",
    "    actions = []\n",
    "    net_working = deepcopy(net)\n",
    "    in_list_working = deepcopy(in_list)\n",
    "    out_list_working = deepcopy(out_list)\n",
    "    for i in sequences:\n",
    "        giver = in_list[i[0]][0]\n",
    "        reciever = out_list_working[i[-1]][0]\n",
    "        if reciever not in out_list_working[giver]:\n",
    "            out_list_working[giver].append(reciever)\n",
    "            net_working[giver][reciever] = 1\n",
    "            in_list_working[reciever].append(giver)\n",
    "        action_node = []\n",
    "        action_edge = []\n",
    "        for j in i:\n",
    "            action_node.append(j)\n",
    "            if i.index(j) == 0:\n",
    "                action_edge.append([in_list_working[j][0],j])\n",
    "                action_edge.append([j,out_list_working[j][0]])\n",
    "            else:\n",
    "                action_edge.append([j,out_list_working[j][0]])\n",
    "            del out_list_working[j][:]\n",
    "            del in_list_working[j][:]\n",
    "            for a in range(len(net_working)):\n",
    "                for b in range(len(net_working[i])):\n",
    "                                    \n",
    "                    if a == j or b == j:\n",
    "                        net_working[a][b] == 0\n",
    "        actions.append([action_node,action_edge])\n",
    "    return actions, out_list_working, in_list_working, net_working"
   ]
  },
  {
   "cell_type": "code",
   "execution_count": 24,
   "metadata": {
    "code_folding": [
     0
    ]
   },
   "outputs": [],
   "source": [
    "#get_super_nodes(species_list, net, out_list, in_list)\n",
    "def get_super_nodes(species_list, net, out_list, in_list):\n",
    "    matches = []\n",
    "    for i in range(len(species_list)):\n",
    "        for j in range(len(species_list)):\n",
    "            if i != j:\n",
    "                if out_list[i] == out_list[j]:\n",
    "                    matches.append([i,j])\n",
    "    super_nodes = []\n",
    "    counted = []\n",
    "    for i in matches:\n",
    "        if i[0] not in counted and i[1] not in counted:\n",
    "            counted.append(i[0])\n",
    "            counted.append(i[1])\n",
    "            super_nodes.append(i)\n",
    "        elif i[0] not in counted and i[1] in counted:\n",
    "            counted.append(i[0])\n",
    "            for k in range(len(super_nodes)):\n",
    "                if i[1] in super_nodes[k]:\n",
    "                    super_nodes[k].append(i[0])\n",
    "        elif i[1] not in counted and i[0] in counted:\n",
    "            counted.append(i[1])\n",
    "            for k in range(len(super_nodes)):\n",
    "                if i[0] in super_nodes[k]:\n",
    "                    super_nodes[k].append(i[1])\n",
    "    return super_nodes"
   ]
  },
  {
   "cell_type": "code",
   "execution_count": 25,
   "metadata": {
    "code_folding": [
     0
    ]
   },
   "outputs": [],
   "source": [
    "#reduce_super_nodes(species_list,net,out_list,in_list)\n",
    "def reduce_super_nodes(species_list,net,out_list,in_list):\n",
    "    super_nodes = get_super_nodes(species_list,net,out_list,in_list)\n",
    "    actions = []\n",
    "    out_list_working = deepcopy(out_list)\n",
    "    in_list_working = deepcopy(in_list)\n",
    "    net_working = deepcopy(net)\n",
    "    for i in super_nodes:\n",
    "        for j in range(len(i)-1):\n",
    "            actions.append([i[j+1],i[0]])\n",
    "            for k in in_list_working[i[j+1]]:\n",
    "                if k not in in_list_working[i[0]]:\n",
    "                    in_list_working[i[0]].append(k)\n",
    "                    out_list_working[k].append(i[0])\n",
    "                #actions.append([[k,i[j+1]],[k,i[0]]])\n",
    "            del out_list_working[i[j+1]][:]\n",
    "            del in_list_working[i[j+1]][:]\n",
    "            for a in range(len(net_working)):\n",
    "                for b in range(len(net_working[a])):\n",
    "                    if a == i[j+1] or b == i[j+1]:\n",
    "                        net_working[a][b] == 0\n",
    "    return actions, out_list_working, in_list_working, net_working"
   ]
  },
  {
   "cell_type": "code",
   "execution_count": 26,
   "metadata": {
    "code_folding": [
     0
    ]
   },
   "outputs": [],
   "source": [
    "#create_f0am_file(network,reaction_list,species_list,name)\n",
    "def create_f0am_file(network,reaction_list,species_list,name):\n",
    "    spec_list2  = get_species(network,species_list)\n",
    "    spec_2_add = \"SpeciesToAdd = {'CH3OO';'CH3NO3';'CH3O';'CH3OOH';'IDNOO';'IHNEOO';'NO3CH2PAN';'NPAH';'NO3CH2CO2H';'NCH2CO3';'NCH2CO2H';'NCH2CO3H';'PNAN';'IDHNBOO';'MPANHN';'MACRNO2';'PAN';'CH3CO3H';'CH3CO2H';'MACRNOOH';'MACRNOH';'PHAN';'HOCH2CO3H';'HOCH2CO2H';'HOCH2COCHO';'HOCH2CO3';'HCOCO';'MO2';'OH';'CH3OOH';'N2O5';'HNO3';'CH3NO3';'SO2';'O1D';'H2'; 'O';'SO3';'CH3OONO2';'CH3O';'HONO';'SA';'HSO3';'NA';'HO2NO2';'ISOP';'ISOP1OHt';'ISOP1OHc';'ISOP4OHt';'ISOP4OHc';'ISOP1OH2OO';'ISOP1OH4OOt';'ISOP1OH4OOc';'ISOP1OO4OHt';'ISOP1OO4OHc';'ISOP3OO4OH';'ISOP1OH2OOH';'ISOP3OOH4OH';'MVK';'MACR';'ISOP1CO4OH';'ISOP1OH4CO';'ISOP1OH2N';'ISOP1OH4Nc';'ISOP1OH4Nt';'ISOP3N4OH';'ISOP1N4OHc';'ISOP1N4OHt';'ISOP1CO2OOH3OO4OH';'ISOP1CO2OO3OOH4OH';'ISOP1CO2N3OOH4OH';'ISOP1CO2OOH3N4OH';'MVK3OOH4OH';'MGLY';'GLYC';'HCHO';'GLYX';'HAC';'ISOP1OH2OOH3OO4CO';'ISOP1OH2OO3OOH4CO';'ISOP1OH2OOH3N4CO';'ISOP1OH2N3OOH4CO';'ISOP1OH2OOH3OOH4CO';'ISOP1CO2OOH3OOH4OH';'MACR2OOH3OH';'MVK3OH4OH';'MACR3CO';'MACR2OH3OH';'ISOP3CO4OH';'ISOP1OH2OO3CO4OH';'MVK3CO4OH';'HPA';'ISOP1OH2N3CO4OH';'ISOP3OH4OH';'ISOP1OH2OH';'ISOP1OH2OOH3CO4OH';'ISOP1OH4OH';'CH3OO';'CH3OH';'ISOP1OOH4OHc';'ISOP1OH4OOHc';'ISOP1OOH4OHt';'ISOP1OH4OOHt';'ISOP1CO4OOHc';'ISOP1CO2R3OOH4OOH';'ISOP1CO2OO3OOH4OOH';'ISOP1CO23O4OOH';'ISOP1CO2OOH3OO4OOH';'ISOP1CO2OOH3OOH4OO';'MVK3OOH4OOH';'MVK3OOH4CO4OOH';'MACR2OOH3CO3OOH';'ISOP1CO2N3OOH4OOH';'HPETHNL';'ISOP1CO2OOH3N4OOH';'ISOP1CO2OOH3OOH4OOH';'ISOP1CO2OOH3OOH4N';'MACR2OOH3CO';'HCOOH';'ISOP1OOH4COc';'ISOP1OOH2OOH3R4CO';'ISOP1OOH2OOH3OO4CO';'ISOP1OOH23O4CO';'ISOP1OOH2OO3OOH4CO';'ISOP1OO2OOH3OOH4CO';'MACR2OOH3OOH';'ISOP1OOH2OOH3N4CO';'ISOP1OOH2OOH3OOH4CO';'ISOP1OOH2N3OOH4CO';'ISOP1N2OOH3OOH4CO';'ISOP1OOH23O3OH4N';'ISOP1N2OOH34O4OH';'ISOP1OH12O3OOH4N';'ISOP1CO2OOH3OOH4CO';'ISOP1OOH2OOH3CO4CO';'ISOP1CO2OOH34O4OH';'ISOP1OH12O3OOH4CO';'HPAC';'MVK3OOH4CO';'MVK3OO4OH';'MVK3OH4OO';'CH3CO3';'MVK3OOH4OH4OH';'MVK3OH4OOH';'MVK3N4OH';'MVK3N4OH4OH';'MVK3OH4N';'ETHLN';'MACR2OO3OH';'MACR2OH3OO';'MACR1OO';'MACR2OH3OOH';'MACR1OOH';'CH3COOCH2';'MACR1OH';'MACR2N3OH';'MACR2OH3N';'MPAN';'MPAN1OHx';'MPAN1OH2OO';'HMMLx';'MPAN1OH';'HMML';'MPAN1OH2O';'MPAN1OH2OOH';'ISOP1OH2OOH3R4OH';'ISOP1OH2OOH3OO4OH';'ISOP1OH23O4OHt';'ISOP1OH23O4OHc';'ISOP1OH2R3OOH4OH';'ISOP1OH2OO3OOH4OH';'ISOP12O3OH4OH';'ISOP1OH2OOH3OH4CO';'ISOP1OH2OOH3OH4OO';'ISOP1OH2OO3OH4OOH';'ISOP1OH2OOH3OH4N';'ISOP1OH2N3OH4OOH';'ISOP1OH2OOH3OH4OOH';'ISOP1OO2OH3OOH4OH';'ISOP1OOH2OH3CO4OH';'ISOP1OOH2OH34O4OH';'ISOP1OOH2OH3OO4OH';'ISOP1N2OH3OOH4OH';'ISOP1OOH2OH3N4OH';'ISOP1OOH2OH3OOH4OH';'ISOP1CO2OH3OOH4OH';'ISOP1OH2OOH3N4OH';'ISOP1OH2OOH3OOH4OH';'ISOP1OH12O3OOH4OH';'ISOP1OH12O3OH4OOH';'ISOP1OH2N3OOH4OH';'ISOP1OH2OOH34O4OH';'ISOP1N2OOH3OH4CO';'ISOP1CO2OH3OOH4N';'ISOP1OOH2OH3CO4N';'ISOP1N4R4OH';'ISOP1OH1R4N';'ISOP3OH3R4N';'ISOP1OOH2R3CO4N';'ISOP1N2OOH3OO4CO';'ISOP1N2OO3OOH4CO';'ISOP1CO2OO3OOH4N';'ISOP1CO2OOH3OO4N';'ISOP1CO2OOH';'ISO1OH12O';'ISOP3OOH4CO';'ISOP1OH23O4R4OHc';'ISOP1OH23O4CO';'ISOP1OH2OH3OO4CO';'ISOP1OH1R23O4OHc';'ISOP1CO23O4OH';'ISOP1CO2OO3OH4OH';'ISOP1OH23O4R4OHt';'ISOP1OH1R23O4OHt';'ISOP1OH2OH34O';'ISOP1CO2OH34O';'ISOP12O3OH4CO';'ISOP12O3OH3R4OH';'ISOP12O3CO4OH';'ISOP1OH3OH4CO';'ISOP1CO3OH4OH';'ISOP1OH2OH3N4CO';'ISOP1OH2OH3OOH4CO';'ISOP1CO2OOH3OH4OH';'ISOP1CO2N3OH4OH';'MVK3OH4CO';'MACR2OH3CO';'MVKENOL';'C4HVP1';'ISOP1CO4CO';'ISOP1CO2OO3OOH4CO';'MACRENOL';'C4HVP2';'ISOP1CO2OOH3OO4CO';'MVK3OO4OH4OH';'DHA';'PPYRAC';'PYRAC';'ciHCHOO';'ciMVKOO';'ciMACROO';'H2SO4';'HPMF';'HMHP';'H2O2';'MACR3OH3OOH';'MVK3OH3OOH';'FAH';'ISOP1CO4OOc';'ISOP1CO2OH3R4OOH';'ISOP1CO2OO3OH4OOH';'ISOP1CO2OOH3OH4CO';'ISOP1CO2OH3OO4OOH';'ISOP1OH2OOH3CO4CO';'ISOP1CO3R4OOH';'ISOP1CO2OH3OOH4OO';'ISOP1CO2OOH3OH4OO';'ISOP1CO2OO';'ISOP1OO4COc';'ISOP1OOH2OH3OO4CO';'ISOP1CO2OH3OOH4CO';'ISOP1OOH2OH3CO4CO';'ISOP1OOH2R3OH4CO';'ISOP1OOH2OO3OH4CO';'ISOP1OOH2R4CO';'ISOP1OO2OH3OOH4CO';'ISOP1OO2OOH3OH4CO';'ISOP3OO4CO';'ISOP1OH2N3R4OH';'ISOP1OH2N3OO4OH';'ISOP1OH2N3OH4OO';'ISOP1OH2N3OH4N';'ISOP1OH2N3N4OH';'ISOP1CO2N3OH4OOH';'ISOP1OH2R3N4OH';'ISOP1OH2OO3N4OH';'ISOP1OO2OH3N4OH';'ISOP1N2OH3N4OH';'ISOP1OOH2OH3N4CO';'ISOP1N2OO';'ISOP3OO4N';'ISOP1N4OO';'ISOP1OO4N';'ISOP1N2OOH';'ISOP1N4OOH';'ISOP3OOH4N';'ISOP1OOH4N';'ISOP1N2OOISOP1N2';'ISOP1N2OH';'ISOP3OO4NISOP1N2';'ISOP3CO4N';'ISOP1CO4N';'ISOP1O4N';'ISOP1OO4NISOP1N2';'ISOP1N4CO';'ISOP1N4O';'ISOP1N2OOISOP1N4';'ISOP1N4OOISOP1N4';'ISOP3OH4N';'ISOP3OO4NISOP1N4';'ISOP1OO4NISOP1N4';'ISOP1N2N';'ISOP1N4N';'ISOP3N4N';'ISOP1N253OO4OH';'ISOP1N253O4OH';'ISOP1N253N4OH';'MACR4N';'ISOP1N253OOH4OH';'ISOP1N253CO4OH';'ISOP1N253OH4OH';'ISOP1N253OO4OHISOP1N4';'ISOP1N253OO4OHISOP1N2';'ISOP1N2OOH3R4OH';'ISOP1N2OOH3OO4OH';'ISOP1N23O4OH';'ISOP1N2OOH3OH4OO';'ISOP1N2OH3R4OOH';'ISOP1N2OH3OO4OOH';'ISOP1N2OH34O';'ISOP1N2R3OH4OOH';'ISOP1N2OO3OH4OOH';'ISOP12O3OH4OOH';'ISOP1OH2R3OOH4N';'ISOP1OH2OO3OOH4N';'ISOP1OH23O4N';'ISOP1OO2OH3OOH4N';'ISOP1OOH2R3OH4N';'ISOP1OOH2OO3OH4N';'ISOP12O3OH4N';'ISOP1OOH2OH3R4N';'ISOP1OOH2OH3OO4N';'ISOP1OOH2OH34O';'ISOP1N2OOH3N4OH';'PROPNN';'MACR2OOH3N';'ISOP1N2OOH3OOH4OH';'ISOP1N2OOH3OH4N';'ISOP1N2OOH3OH4OOH';'ISOP1N2OH3N4OOH';'ISOP1N2OH3OOH4OOH';'ISOP1N2N3OH4OOH';'ISOP1OH2N3OOH4N';'MVK3OOH4N';'ISOP1OH2OOH3OOH4N';'ISOP1N2OH3OOH4N';'ISOP1OOH2OH3OOH4N';'ISOP1OOH2N3OH4N';'ISOP1OOH2OOH3OH4N';'ISOP1OOH2OH3N4N';'ISOP1N2OO3OOH4OH';'ISOP1N2OH3OOH4OO';'ISOP1OH2OOH3OO4N';'ISOP1OO2OOH3OH4N';'ISOP1N2N3OOH4OH';'ISOP1OH2OOH3N4N';'ISOP1N23O4OH4R';'ISOP1N23O4CO';'ISOP1N2OH3OO4CO';'ISOP1OH1R23O4N';'ISOP1CO23O4N';'ISOP1CO2OO3OH4N';'ISOP1N2OH3CO4OO';'ISOP1N2OH3CO4OOH';'ISOP12O3OH3R4N';'ISOP12O3CO4N';'ISOP1OH2OO3CO4N';'ISOP1N2OH3CO4N';'ISOP1OH2OOH3CO4N';'NPA';'MVK3CO4N';'ISOP1OH2N3CO4N';'ISOP1N2OO3CO4OH';'ISOP1N2N3CO4OH';'ISOP1N4R4CO';'ISOP1N4CO4OO';'ISOP1N4PAN';'C4NVP2';'ISOP1N4CO4OOH';'ISOP1N4CO4OH';'MACR2OO3N';'MACR2N3N';'ISOP1CO1R4N';'ISOP1CO1OO4N';'ISOP1PAN4N';'C4NVP1';'ISOP1CO1OOH4N';'ISOP1CO1OH4N';'MVK3OO4N';'MVK3N4N';'ISOP1N2R3OH4CO';'ISOP1N2OO3OH4CO';'ISOP1CO2OH3R4N';'ISOP1CO2OH3OO4N';'ISOP1N2OH3OOH4CO';'ISOP1N2OH3N4CO';'ISOP1CO2OOH3OH4N';'ISOP1CO2N3OH4N';'ISOP1N2OH3OO4OH';'ISOP1N2OH3OH4OO';'ISOP1N2R3OH4OH';'ISOP1N2OO3OH4OH';'ISOP1OH2OO3OH4N';'ISOP1OO2OH3OH4N';'ISOP1OH2OH3R4N';'ISOP1OH2OH3OO4N';'ISOP1N2OOH3OH4OH';'ISOP1OH2OH3OOH4N';'ISOP1N2N3OH4OH';'ISOP1OH2OH3N4N';'ISOP1N2OH3OH4OOH';'ISOP1OOH2OH3OH4N';'ISOP1N2OH3OH4N';'ISOP1CO1OO4OOH';'ISOP1CO1OOH4OO';'ISOP1CO1OOH2OO';'ISOP1CO1OOH';'ISOP4CO4OOH';'ISOP1OOH4CO4OO';'ISOP1OO4CO4OOH';'ISOP3OO4CO4OOH';'ISOP1CO1R4OH';'ISOP1OH4CO4R';'ISOP1CO1OO4OH';'ISOP1OH4CO4OO';'ISOP1PAN4OH';'ISOP1OH4PAN';'ISOP1CO1OH4OH';'ISOP1OH4CO4OH';'ISOP1CO1OOH4OH';'ISOP1OH4CO4OOH';'CO';'CO2';'M';'O2';'OH';'HO2';'NO';'NO2';'NO3';'H2O';'H2Od';'O3';'SO2';'CH3OH'};\"\n",
    "    '''for i in node_list:\n",
    "        spec_2_add = spec_2_add + \"'\" + i +\"'\"+ ';'\n",
    "    spec_2_add = spec_2_add[:-1]   \n",
    "    spec_2_add = spec_2_add  + \"};\"'''\n",
    "    #adds equations to string\n",
    "    eq_str_a = ''\n",
    "    for i in range(len(eq_list_addition)):\n",
    "        eq_str_a = eq_str_a + \"\\ni=i+1;\\nRnames{i} = '\" + eq_list_addition[i][0] + \"';\\nk(:,i) = \"+eq_list_addition[i][1] + ';\\n'\n",
    "        for j in range(len(reac_list2_a[i])):\n",
    "            if reac_list2_a[i][j]!='hv':\n",
    "                eq_str_a = eq_str_a + 'Gstr{i,'+str(j+1)+\"} = '\"+reac_list2_a[i][j]+\"'; \"\n",
    "        eq_str_a = eq_str_a +'\\n'\n",
    "        for j in range(len(reac_list2_a[i])):\n",
    "            if reac_list2_a[i][j]!='hv':\n",
    "                eq_str_a = eq_str_a + 'f'+ reac_list2_a[i][j]+'(i)'+'='+'f'+ reac_list2_a[i][j]+'(i)'+str(-1*reac_coeff_list_a[i][j]) + '; '\n",
    "        for j in range(len(prod_list2_a[i])):\n",
    "            eq_str_a = eq_str_a + 'f'+ prod_list2_a[i][j]+'(i)'+'='+'f'+ prod_list2_a[i][j]+'(i)'+'+'+str(prod_coeff_list_a[i][j]) + '; '\n",
    "        eq_str_a = eq_str_a +'\\n'\n",
    "        eq_str_a = eq_str_a +'\\n'\n",
    "    eq_str = ''\n",
    "    eq_list_r = reaction_list_2_eq_list(reaction_list)\n",
    "    for i in range(len(reaction_list)):\n",
    "        eq_str = eq_str + \"\\ni=i+1;\\nRnames{i} = '\" + eq_list_r[i][0] + \"';\\nk(:,i) = \"+reaction_list[i][1] + ';\\n'\n",
    "        counter = 1\n",
    "        for j in reaction_list[i][0]:\n",
    "            if j[1]<0:\n",
    "                eq_str = eq_str + 'Gstr{i,'+str(counter)+\"} = '\"+j[0]+\"'; \"\n",
    "                counter = counter + 1\n",
    "        eq_str = eq_str +'\\n'\n",
    "        for k in reaction_list[i][0]:\n",
    "            if k[1]<0:\n",
    "                eq_str = eq_str + 'f'+ k[0]+'(i)'+'='+'f'+ k[0]+'(i)'+str(k[1]) + '; '\n",
    "            else:\n",
    "                eq_str = eq_str + 'f'+ k[0]+'(i)'+'='+'f'+ k[0]+'(i)'+'+'+str(k[1]) + '; '\n",
    "        \n",
    "        eq_str = eq_str +'\\n'\n",
    "        eq_str = eq_str +'\\n'\n",
    "    eq_str = eq_str.replace('CH2O','HCHO')\n",
    "    eq_str = eq_str.replace('.*RO2',';%.*RO2')\n",
    "    eq_str = eq_str.replace('J(22)','J22')\n",
    "    eq_str = eq_str.replace('J(34)','J34')\n",
    "    eq_str = eq_str.replace('J(41)','J41')\n",
    "    eq_str = eq_str.replace('ALK(','F0AM_isop_ALK(T,M,')\n",
    "    eq_str = eq_str.replace('EPO(','F0AM_isop_EPO(T,M,')\n",
    "    eq_str = eq_str.replace('NIT(','F0AM_isop_NIT(T,M,')\n",
    "    eq_str = eq_str.replace('TROE(','F0AM_isop_TROE2(T,M,')\n",
    "    eq_str = eq_str.replace('TUN(','F0AM_isop_TUN(T,M,')\n",
    "    eq_str = eq_str.replace('ISO1(','F0AM_isop_ISO1(T,')\n",
    "    eq_str = eq_str.replace('ISO2(','F0AM_isop_ISO2(T,')\n",
    "    eq_str = eq_str.replace('KCO(','F0AM_isop_KCO(T,M,')\n",
    "    eq_str = eq_str.replace('FALL(','F0AM_isop_FALL(T,M,')\n",
    "    eq_str = eq_str.replace('TEMP','T')\n",
    "    eq_str = eq_str.replace('**','.^')\n",
    "    eq_str = eq_str.replace('EXP','exp')\n",
    "    eq_str = eq_str.replace('*','.*')\n",
    "    eq_str = eq_str.replace('KAPHO2(T)','KAPHO2')\n",
    "    eq_str = eq_str.replace('KFPAN(T,M)','KFPAN')\n",
    "    eq_str = eq_str.replace('KNO3AL(T)','KNO3AL')\n",
    "    eq_str = eq_str.replace('KAPNO(T)','KAPNO')\n",
    "    eq_str = eq_str.replace('KBPAN(T,M)','KBPAN')\n",
    "    eq_str = eq_str.replace('KRO2NO3()','KRO2NO3')\n",
    "    full = spec_2_add + '\\n'+'RO2ToAdd = {};'+'\\n'+'AddSpecies'+'\\n'+ eq_str_a + eq_str\n",
    "    f0am_file = open(\"f0am_\"+name+\".txt\",\"w+\")\n",
    "    f0am_file.write(full)"
   ]
  },
  {
   "cell_type": "code",
   "execution_count": 27,
   "metadata": {
    "code_folding": [
     0
    ]
   },
   "outputs": [],
   "source": [
    "#just_plot(species_list1,eq_list1,background_spc,name)\n",
    "def just_plot(species_list1,eq_list1,background_spc,name):\n",
    "    reac_list,reac_coeff_list,prod_list,prod_coeff_list = get_prod_reac(eq_list1)\n",
    "    conc_max = np.zeros(len(species_list1))\n",
    "    reaction_list = eqn_to_reactions(reac_list,reac_coeff_list,prod_list,prod_coeff_list,eq_list1)\n",
    "    network, in_list, out_list = get_network(species_list1,reac_list,prod_list,background_spc)\n",
    "    plot_mechanism(out_list,species_list1,name)"
   ]
  },
  {
   "cell_type": "code",
   "execution_count": 28,
   "metadata": {
    "code_folding": [
     0
    ]
   },
   "outputs": [],
   "source": [
    "#plot_mechanism(net,species_list,name)\n",
    "def plot_mechanism(net,species_list,name):\n",
    "    species_list_new = get_species(net,species_list)\n",
    "    G=pgv.AGraph(directed=True)\n",
    "    for i in range(len(species_list_new)):\n",
    "        G.add_node(species_list_new[i],label=species_list_new[i])\n",
    "    for i in range(len(net)):\n",
    "        for j in range(len(net[i])):\n",
    "            if net[i][j]>0:\n",
    "                G.add_edge(species_list[i],species_list[j])\n",
    "    G.layout(prog=\"dot\")\n",
    "    G.draw(name + '.png')"
   ]
  },
  {
   "cell_type": "code",
   "execution_count": 29,
   "metadata": {
    "code_folding": [
     0
    ]
   },
   "outputs": [],
   "source": [
    "#reduce_nodes(species_list, net, out_list, in_list)\n",
    "def reduce_nodes(species_list, net, out_list, in_list):\n",
    "    matches = []\n",
    "    for i in range(len(species_list)):\n",
    "        for j in range(len(species_list)):\n",
    "            if out_list[i] == out_list[j]:\n",
    "                matches.append([i,j])\n",
    "    super_nodes = []\n",
    "    counted = []\n",
    "    for i in matches:\n",
    "        if i[0] not in counted and i[1] not in counted:\n",
    "            counted.append(i[0])\n",
    "            counted.append(i[1])\n",
    "            super_nodes.append(i)\n",
    "        elif i[0] not in counted and i[1] in counted:\n",
    "            counted.append(i[0])\n",
    "            for k in range(len(super_nodes)):\n",
    "                if i[1] in super_nodes[k]:\n",
    "                    super_nodes[k].append(a)"
   ]
  },
  {
   "cell_type": "code",
   "execution_count": 30,
   "metadata": {
    "code_folding": [
     0
    ]
   },
   "outputs": [],
   "source": [
    "#get_drg2(species_list,reac_list,prod_list,background_spc,rates,method)\n",
    "def get_drg2(species_list,reac_list,prod_list,background_spc,rates,method):\n",
    "    matrix_p = np.zeros((len(species_list),len(species_list)))\n",
    "    matrix_c = np.zeros((len(species_list),len(species_list)))\n",
    "    for i in range(len(prod_list)):\n",
    "        for j in range(len(prod_list[i])):\n",
    "            for k in range(len(reac_list[i])):\n",
    "                if prod_list[i][j] not in  background_spc and reac_list[i][k] not in  background_spc:\n",
    "                    matrix_p[int(species_list.index(prod_list[i][j])),int(species_list.index(reac_list[i][k]))] = matrix_p[int(species_list.index(prod_list[i][j])),int(species_list.index(reac_list[i][k]))]+ rates[i]\n",
    "    for i in range(len(reac_list)):\n",
    "        for j in range(len(reac_list[i])):\n",
    "            for k in range(len(prod_list[i])):\n",
    "                if reac_list[i][j] not in  background_spc and prod_list[i][k] not in  background_spc:\n",
    "                    matrix_c[int(species_list.index(reac_list[i][j])),int(species_list.index(prod_list[i][k]))] = matrix_c[int(species_list.index(reac_list[i][j])),int(species_list.index(prod_list[i][k]))]+ rates[i]\n",
    "    x_a = [sum(matrix_c[i,:]) for i in range(len(species_list))]\n",
    "    p_a = [sum(matrix_p[i,:]) for i in range(len(species_list))]\n",
    "    p_ab = deepcopy(matrix_p)\n",
    "    x_ab = deepcopy(matrix_c)\n",
    "    rp_ab = deepcopy(p_ab)\n",
    "    for i in range(len(species_list)):\n",
    "        for j in range(len(species_list)):\n",
    "            if p_a[i] != 0:\n",
    "                rp_ab[i][j] = p_ab[i][j]/p_a[i]\n",
    "            else:\n",
    "                rp_ab[i][j]           \n",
    "    rm_ab = deepcopy(x_ab)\n",
    "    for i in range(len(species_list)):\n",
    "        for j in range(len(species_list)):\n",
    "            if x_a[i] != 0:\n",
    "                rm_ab[i][j] = x_ab[i][j]/x_a[i]\n",
    "            else:\n",
    "                rm_ab[i][j]\n",
    "    if method == 'produced':\n",
    "        drg_mat = np.transpose(rp_ab)\n",
    "    # lu and law\n",
    "    elif method == 'consumed':\n",
    "        drg_mat = rm_ab\n",
    "    elif method == 'sum':\n",
    "        drg_mat = rm_ab + np.transpose(rp_ab)\n",
    "    order_list = []\n",
    "    for i in range(len(drg_mat)):\n",
    "        for j in range(len(drg_mat[i])):\n",
    "            if drg_mat[i][j]>0:\n",
    "                order_list.append([drg_mat[i][j],i,j])\n",
    "    order_list = sorted(order_list, key=lambda x: x[0])\n",
    "    return drg_mat"
   ]
  },
  {
   "cell_type": "code",
   "execution_count": 31,
   "metadata": {
    "code_folding": [
     0
    ]
   },
   "outputs": [],
   "source": [
    "#is_last(species,out_list)\n",
    "def is_last(species,out_list):\n",
    "    if len(out_list[species]) == 0:\n",
    "        return True\n",
    "    else:\n",
    "        return False"
   ]
  },
  {
   "cell_type": "code",
   "execution_count": 32,
   "metadata": {
    "code_folding": [
     0
    ]
   },
   "outputs": [],
   "source": [
    "#is_first(species,in_list)\n",
    "def is_first(species,in_list):\n",
    "    if len(in_list[species])==0:\n",
    "        return True\n",
    "    else:\n",
    "        return False"
   ]
  },
  {
   "cell_type": "code",
   "execution_count": 33,
   "metadata": {
    "code_folding": [
     0
    ]
   },
   "outputs": [],
   "source": [
    "#is_similar(species_A,species_B,network)\n",
    "def is_similar(species_A,species_B,network):\n",
    "    nt = np.transpose(network)\n",
    "    if all(map(lambda x, y: x == y, network[i], network[j])):\n",
    "        if all(map(lambda x, y: x == y, nt[i], nt[j])):\n",
    "            return True\n",
    "    else:\n",
    "        return False"
   ]
  },
  {
   "cell_type": "code",
   "execution_count": 34,
   "metadata": {
    "code_folding": [
     0
    ]
   },
   "outputs": [],
   "source": [
    "#get_rand_path(network,species)\n",
    "def get_rand_path(network,species):\n",
    "    ide = species\n",
    "    nt = np.transpose(network)\n",
    "    check = nt[ide]\n",
    "    path = [species]\n",
    "    while sum(nt[ide]) > 0:\n",
    "        list_check = []\n",
    "        for i in range(len(nt[ide])):\n",
    "            if nt[ide][i]>0:\n",
    "                list_check.append(i)\n",
    "        if 0 in list_check:\n",
    "            ide = 0\n",
    "        else:\n",
    "            ide = random.choice(list_check)\n",
    "        path.append(ide)\n",
    "    return path"
   ]
  },
  {
   "cell_type": "code",
   "execution_count": 35,
   "metadata": {
    "code_folding": [
     0
    ]
   },
   "outputs": [],
   "source": [
    "#get_oxidants(path,networ)\n",
    "def get_oxidants(path,networ):\n",
    "    oxidants = []\n",
    "    for i in range(len(path)-1):\n",
    "        oxidants.extend(networ[path[i+1]][path[i]])\n",
    "    return oxidants"
   ]
  },
  {
   "cell_type": "code",
   "execution_count": 36,
   "metadata": {
    "code_folding": [
     0
    ]
   },
   "outputs": [],
   "source": [
    "#get_oxidation(species,in_list,out_list,network)\n",
    "def get_oxidation(species,in_list,out_list,network):\n",
    "    if is_last(species,out_list):\n",
    "        oxidation = 1\n",
    "    elif is_first(species, in_list):\n",
    "        oxidation = 0\n",
    "    else:\n",
    "        paths_to = []\n",
    "        paths_from = []\n",
    "        for i in range(100):\n",
    "            paths_to.append(len(clean_path(get_rand_path(network,species),in_list)))\n",
    "            paths_from.append(len(clean_path(get_rand_path_from(network,species,out_list),in_list)))\n",
    "        oxidation = sum(paths_from)/(sum(paths_to) + sum(paths_from))\n",
    "    return oxidation"
   ]
  },
  {
   "cell_type": "code",
   "execution_count": 37,
   "metadata": {
    "code_folding": [
     0
    ]
   },
   "outputs": [],
   "source": [
    "#clean_path(path,in_list)\n",
    "def clean_path(path,in_list):\n",
    "    new_path = list(dict.fromkeys(path))\n",
    "    for j in range(6):\n",
    "        for i in range(len(new_path)-1):\n",
    "            if new_path[i+1] not in in_list[new_path[i]]:\n",
    "                new_path_new = new_path[0:i]\n",
    "                new_path_new.extend(new_path[i+1:len(new_path)])\n",
    "                break\n",
    "            else:\n",
    "                new_path_new = deepcopy(new_path)\n",
    "        new_path = deepcopy(new_path_new)\n",
    "    return new_path"
   ]
  },
  {
   "cell_type": "code",
   "execution_count": 38,
   "metadata": {
    "code_folding": [
     0
    ]
   },
   "outputs": [],
   "source": [
    "#get_rand_path_from(network,species,out_list)\n",
    "def get_rand_path_from(network,species,out_list):\n",
    "    ide = species\n",
    "    nt = np.transpose(network)\n",
    "    check = nt[ide]\n",
    "    path = [species]\n",
    "    while sum(network[ide]) > 0:\n",
    "        list_check = []\n",
    "        for i in range(len(network[ide])):\n",
    "            if network[ide][i]>0:\n",
    "                list_check.append(i)\n",
    "        ide = random.choice(list_check)\n",
    "        path.append(ide)\n",
    "    return path"
   ]
  },
  {
   "cell_type": "code",
   "execution_count": 39,
   "metadata": {
    "code_folding": [
     0
    ]
   },
   "outputs": [],
   "source": [
    "#get_set_distance(sample_start,samples)\n",
    "def get_set_distance(sample_start,samples):\n",
    "    sample_set = [samples[i] for i in sample_start]\n",
    "    sample_set2 = np.transpose(sample_set)   \n",
    "    l = len(sample_set2)\n",
    "    dev = []\n",
    "    for i in sample_set2:\n",
    "        m = np.abs(np.mean(i))\n",
    "        s = np.std(i)\n",
    "    dev.append(s/m)\n",
    "    return np.mean(dev)/l"
   ]
  },
  {
   "cell_type": "code",
   "execution_count": 40,
   "metadata": {
    "code_folding": [
     0
    ]
   },
   "outputs": [],
   "source": [
    "#wide_set(tries,start,samples)\n",
    "def wide_set(tries,start,samples):\n",
    "    #get_set_distance(start)\n",
    "    for i in range(tries):\n",
    "        r = random.randint(1,100)\n",
    "        if r not in start:\n",
    "            for i in range(len(start)):\n",
    "                startnew = deepcopy(start)\n",
    "                startnew.remove(startnew[i])\n",
    "                startnew.append(r)\n",
    "                if get_set_distance(startnew,samples)>get_set_distance(start,samples):\n",
    "                    start = deepcopy(startnew)\n",
    "                    break\n",
    "    return start"
   ]
  },
  {
   "cell_type": "code",
   "execution_count": 41,
   "metadata": {
    "code_folding": [
     0
    ]
   },
   "outputs": [],
   "source": [
    "#list_diff(l1,l2)\n",
    "def list_diff(l1,l2):\n",
    "    a = []\n",
    "    for i in range(len(l1)):\n",
    "        if i in l1 and i in l2:\n",
    "            a.append(np.abs(l1.index(i)-l2.index(i)))\n",
    "    return np.mean(a)"
   ]
  },
  {
   "cell_type": "code",
   "execution_count": 42,
   "metadata": {
    "code_folding": [
     0
    ]
   },
   "outputs": [],
   "source": [
    "#list_diff_sq(l1,l2)\n",
    "def list_diff_sq(l1,l2):\n",
    "    a = []\n",
    "    for i in range(len(l1)):\n",
    "        if i in l1 and i in l2:\n",
    "            a.append((l1.index(i)-l2.index(i))**2)\n",
    "    return np.mean(a)"
   ]
  },
  {
   "cell_type": "code",
   "execution_count": 43,
   "metadata": {
    "code_folding": [
     0
    ]
   },
   "outputs": [],
   "source": [
    "#get_network_labelled(species_list2,reac_list,prod_list,background_spc)\n",
    "def get_network_labelled(species_list2,reac_list,prod_list,background_spc):\n",
    "    network = np.zeros((len(species_list2),len(species_list2)))\n",
    "    network_labels = np.zeros((len(species_list2),len(species_list2)))\n",
    "    for i in range(len(reac_list)):\n",
    "        for j in range(len(reac_list[i])):\n",
    "            for k in range(len(prod_list[i])):\n",
    "                if reac_list[i][j] not in  background_spc and prod_list[i][k] not in  background_spc:\n",
    "                    network[species_list2.index(reac_list[i][j]),species_list2.index(prod_list[i][k])] = 1\n",
    "                    network_labels[species_list2.index(reac_list[i][j]),species_list2.index(prod_list[i][k])] = network_labels[species_list2.index(reac_list[i][j]),species_list2.index(prod_list[i][k])]+ [k if k in background_spc else 'none' for k in reac_list[i]]\n",
    "    return network_labels"
   ]
  },
  {
   "cell_type": "code",
   "execution_count": 44,
   "metadata": {
    "code_folding": [
     0
    ]
   },
   "outputs": [],
   "source": [
    "#get_reactions(reac_list,prod_list,reactions,reactants,product)\n",
    "def get_reactions(reac_list,prod_list,reactions,reactants,product):\n",
    "    reacs = []\n",
    "    for i in range(len(reac_list)):\n",
    "        if sorted(reac_list[i]) == sorted(reactants):\n",
    "            if product in prod_list[i]:\n",
    "                reacs.append(reactions[i])\n",
    "    return reacs"
   ]
  },
  {
   "cell_type": "code",
   "execution_count": 45,
   "metadata": {
    "code_folding": [
     0
    ]
   },
   "outputs": [],
   "source": [
    "#reaction_list_2_eq_list(reaction_list)\n",
    "def reaction_list_2_eq_list(reaction_list):\n",
    "    eq_list = []\n",
    "    for i in reaction_list:\n",
    "        length = len(i[0])\n",
    "        eq_string = ''\n",
    "        coeff = -1\n",
    "        counter = 0\n",
    "        while coeff < 0:\n",
    "            eq_string = eq_string + str(-1*i[0][counter][0])+i[0][counter][0]\n",
    "            if counter < length-1:\n",
    "                coeff = i[0][counter + 1][1]\n",
    "            else:\n",
    "                break\n",
    "            if coeff < 0:\n",
    "                eq_string = eq_string + ' + '\n",
    "            else:\n",
    "                eq_string = eq_string + ' = '\n",
    "            counter = counter + 1\n",
    "        while counter < len(i[0]):\n",
    "            eq_string = eq_string + str(-1*i[0][counter][0])+i[0][counter][0]\n",
    "            counter = counter + 1\n",
    "            if counter < len(i[0]):\n",
    "                eq_string = eq_string + ' + '\n",
    "        eq_list.append(eq_string)\n",
    "    return eq_list"
   ]
  },
  {
   "cell_type": "code",
   "execution_count": 46,
   "metadata": {
    "code_folding": []
   },
   "outputs": [],
   "source": [
    "#eq_list\n",
    "#list of equations, for full mechanism\n",
    "eq_list = read_eqns(\"C:/Users/woods/OneDrive/Documents/Python/isoprene_full_v5_update_1-13-22.txt\")"
   ]
  },
  {
   "cell_type": "code",
   "execution_count": 47,
   "metadata": {
    "code_folding": [
     0
    ]
   },
   "outputs": [],
   "source": [
    "#species_list\n",
    "#list of species, for full mechanism\n",
    "species_list = read_spc('/Users/woods/OneDrive/Documents/Python/isoprene_full_v5_spc_update_1-13-22.txt')"
   ]
  },
  {
   "cell_type": "code",
   "execution_count": 48,
   "metadata": {},
   "outputs": [],
   "source": [
    "species_list.append('MGLYOX')"
   ]
  },
  {
   "cell_type": "code",
   "execution_count": 49,
   "metadata": {
    "code_folding": [
     0
    ]
   },
   "outputs": [],
   "source": [
    "#background_spc\n",
    "#a list of background species to be excluded from our reaction network for visual clarity (and also because they will mess with the drg reduction method)\n",
    "background_spc = ['OH','NO','NO2','NO3','HO2','O3','CH3OO','CO2','CO','O2','N2O5','H2O','H2O2','H2Od','SO2',\n",
    "                  'H2S','HF','H2S','N2H4','HN3','HI','HBr',\n",
    "                  'HCl','HCN','H2Se','H2Te','NH2OH','HBrO','HClO','H3PO2','HPO3',\n",
    "                  'H2O3','OF2','O2F2','NOHSO4','COS','N2F4','N2O4','N2O3','HNO3',\n",
    "                  'HNO2','N2O','NF5','NI3','H2SO4','CS2','H2CO3','H2SO3','SO2Cl2','S4N4','H2SO5',\n",
    "                  'H2S2O7','S2F10','H3NO3S','Br2S','SF6','SF4', 'CH3CO3']"
   ]
  },
  {
   "cell_type": "code",
   "execution_count": 50,
   "metadata": {},
   "outputs": [],
   "source": [
    "reac_list,reac_coeff_list,prod_list,prod_coeff_list = get_prod_reac(eq_list)"
   ]
  },
  {
   "cell_type": "code",
   "execution_count": 51,
   "metadata": {},
   "outputs": [],
   "source": [
    "network, in_list, out_list = get_network(species_list,reac_list,prod_list,background_spc)"
   ]
  },
  {
   "cell_type": "code",
   "execution_count": 52,
   "metadata": {},
   "outputs": [],
   "source": [
    "edge_list = []\n",
    "for i in range(len(out_list)):\n",
    "    for j in out_list[i]:\n",
    "        edge_list.append([i,j])"
   ]
  },
  {
   "cell_type": "code",
   "execution_count": 53,
   "metadata": {},
   "outputs": [],
   "source": [
    "protected2 = ['ISOP1OH23O4OHt','ISOP1OH23O4OHc', 'ISOP1OH2OH34O', 'HCHO', 'GLYC','HAC','PYRAC','MGLY','HCOOH','MACR','MPAN','GLYX','MVK','PAN']"
   ]
  },
  {
   "cell_type": "markdown",
   "metadata": {},
   "source": [
    "### Yield Estimation Algorithm Functions"
   ]
  },
  {
   "cell_type": "code",
   "execution_count": 54,
   "metadata": {
    "code_folding": [
     0
    ]
   },
   "outputs": [],
   "source": [
    "#get_scc_fluxes(scc, in_list,out_list,net)\n",
    "#output:\n",
    "# [species,[[species,flux],[species,flux]...]]\n",
    "def get_scc_fluxes(scc, in_list,out_list,net):\n",
    "    ins_0 = []\n",
    "    for i in scc:\n",
    "        for j in in_list[i]:\n",
    "            if j not in scc:\n",
    "                ins_0.append(i)\n",
    "    output = []\n",
    "    for v in ins_0:\n",
    "        ins = [v]\n",
    "        old_list = []\n",
    "        while len(ins)>0:\n",
    "            for k in ins:\n",
    "                k_l = []\n",
    "                sum1 = 0\n",
    "                for b in out_list[k]:\n",
    "                    if b not in old_list:\n",
    "                        if b not in ins_0:\n",
    "                            if b in scc:\n",
    "                                ins.append(b)\n",
    "                            if k not in out_list[b]:\n",
    "                                sum1 = sum1 + net[k][b]\n",
    "                            else:\n",
    "                                if net[b][k]>0:\n",
    "                                    sum1 = sum1 + (net[k][b]/net[b][k])*0.0000001\n",
    "                for c in out_list[k]:\n",
    "                    if c not in old_list:\n",
    "                        if c not in ins_0:\n",
    "                            if k not in out_list[c]:\n",
    "                                if sum1>0:\n",
    "                                    k_l.append([c,net[k][c]/sum1])\n",
    "                                else:\n",
    "                                    k_l.append([c,0])\n",
    "                            else:\n",
    "                                if sum1>0:\n",
    "                                    if net[c][k]>0:\n",
    "                                        k_l.append([c,(0.0000001*net[k][c]/net[c][k])/sum1])\n",
    "                                else:\n",
    "                                    k_l.append([c,0])\n",
    "                               \n",
    "                output.append([k,k_l])\n",
    "                ins.remove(k)\n",
    "                old_list.append(k)\n",
    "    output2 = []\n",
    "    for z in output:\n",
    "        if z not in output2:\n",
    "            output2.append(z)\n",
    "    return output2 "
   ]
  },
  {
   "cell_type": "code",
   "execution_count": 55,
   "metadata": {
    "code_folding": [
     0
    ]
   },
   "outputs": [],
   "source": [
    "#get_network_flux(species_list2,reac_list,prod_list,background_spc,conc_list,k_list), weighted network\n",
    "#creates reaction network of format network[reactant][product]\n",
    "# in_list gives in_list[species] --> reactants that can react to form this species\n",
    "# out_list gives in_list[species] --> products that are formed from this species\n",
    "def get_network_flux(species_list2,reac_list,prod_list,background_spc,conc_list,k_list):\n",
    "    n1 = time.time()\n",
    "    network = np.zeros((len(species_list2),len(species_list2)))\n",
    "    factor = pressure_to_m(1000,295)/1000000000\n",
    "    for i in range(len(reac_list)):\n",
    "        bcks = 1\n",
    "        for p in reac_list[i]:\n",
    "            if p in background_spc:\n",
    "                bcks = conc_list[background_spc.index(p)]*factor\n",
    "        for j in range(len(reac_list[i])):\n",
    "            for k in range(len(prod_list[i])):\n",
    "                if reac_list[i][j] not in  background_spc and prod_list[i][k] not in  background_spc:\n",
    "                    network[species_list2.index(reac_list[i][j]),species_list2.index(prod_list[i][k])] = network[species_list2.index(reac_list[i][j]),species_list2.index(prod_list[i][k])] + k_list[i]*bcks\n",
    "    x2 = time.time()\n",
    "    out_list = network_2_out_list(network,species_list2)\n",
    "    in_list = network_2_in_list(network,species_list2)\n",
    "    x3 = time.time()\n",
    "    times = [x2-n1,x3-x2]\n",
    "    return network, in_list, out_list"
   ]
  },
  {
   "cell_type": "code",
   "execution_count": 56,
   "metadata": {
    "code_folding": [
     0
    ]
   },
   "outputs": [],
   "source": [
    "#get_network_flux_quick(species_list2,reac_list_n,prod_list_n,bspc,conc_list,k_list)\n",
    "#creates reaction network of format network[reactant][product]\n",
    "# in_list gives in_list[species] --> reactants that can react to form this species\n",
    "# out_list gives in_list[species] --> products that are formed from this species\n",
    "def get_network_flux_quick(species_list2,reac_list_n,prod_list_n,bspc,conc_list,k_list):\n",
    "    network = np.zeros((len(species_list2),len(species_list2)))\n",
    "    factor = pressure_to_m(1000,295)/1000000000\n",
    "    for i in range(len(reac_list_n)):\n",
    "        bcks = 1\n",
    "        for p in reac_list_n[i]:\n",
    "            if species_list[p] in bspc:\n",
    "                bcks = conc_list[background_spc.index(species_list[p])]*factor\n",
    "        for j in reac_list_n[i]:\n",
    "            for k in prod_list_n[i]:\n",
    "                if species_list[j] not in bspc and species_list[k] not in bspc:\n",
    "                    network[j,k] = network[j,k] + k_list[i]*bcks         \n",
    "    return network"
   ]
  },
  {
   "cell_type": "code",
   "execution_count": 57,
   "metadata": {
    "code_folding": [
     0
    ]
   },
   "outputs": [],
   "source": [
    "#get_fluxes_init(species_list,reac_list,prod_list,background_spc,conc_mean,k_list)\n",
    "def get_fluxes_init(species_list,reac_list,prod_list,background_spc,conc_mean,k_list):\n",
    "    x1 = time.time()\n",
    "    net,in_list,out_list = get_network_flux(species_list,reac_list,prod_list,background_spc,conc_mean,k_list)\n",
    "    net2 = deepcopy(net)\n",
    "    x2 = time.time()\n",
    "    l = len(net[0])\n",
    "    for i in range(len(net)):\n",
    "        s = sum(net[i])\n",
    "        if s > 0:\n",
    "            for j in range(l):\n",
    "                net2[i][j] = net[i][j]/s\n",
    "        else:\n",
    "            for j in range(l):\n",
    "                net2[i][j] = net[i][j]\n",
    "    x3 = time.time()\n",
    "    #r_m = get_reachability_matrix(species_list,out_list)\n",
    "    c_p = get_connected_pairs(out_list)\n",
    "    cluster_out = edge_list_2_out_list(c_p,species_list)\n",
    "    scc = get_scc(cluster_out,c_p)\n",
    "    cycle_flux = []\n",
    "    x4 = time.time()\n",
    "    for i in scc:\n",
    "        cycle_flux.extend(get_scc_fluxes(i, in_list,out_list,net))\n",
    "    cycle_part = []\n",
    "    for i in cycle_flux:\n",
    "        cycle_part.append(i[0])\n",
    "    new_visit = [0]\n",
    "    old_list = []\n",
    "    visit_list = [[] for i in range(len(species_list))]\n",
    "    flux_list = np.zeros(len(species_list))\n",
    "    flux_list[0] = 1\n",
    "    x5 = time.time()\n",
    "    for i in range(len(species_list)):\n",
    "        visit_list.append([])\n",
    "    while len(new_visit)>0:\n",
    "        for i in new_visit:\n",
    "            old_list.append(i)\n",
    "            if i in cycle_part:\n",
    "                for c in cycle_flux[cycle_part.index(i)][1]:\n",
    "                    if c[0] not in visit_list[i]:\n",
    "                        visit_list[i].append(c[0])\n",
    "                    flux_list[c[0]] = flux_list[c[0]] + c[1]*flux_list[i]\n",
    "                    if all(x in old_list+cycle_part for x in in_list[c[0]]):\n",
    "                        new_visit.append(c[0])\n",
    "            else:              \n",
    "                for j in out_list[i]:\n",
    "                    flux_list[j] = flux_list[j] + net2[i][j]*flux_list[i]\n",
    "                    if j not in visit_list[i]:\n",
    "                        visit_list[i].append(j)\n",
    "                    if j not in old_list:\n",
    "                        if all(x in old_list+cycle_part for x in in_list[j]):\n",
    "                            new_visit.append(j)\n",
    "            new_visit.remove(i)\n",
    "    x6 = time.time()\n",
    "    times = [x2-x1,x3-x2,x4-x3,x5-x4,x6-x5]\n",
    "    return flux_list,net,c_p, cycle_part,scc,net2, times"
   ]
  },
  {
   "cell_type": "code",
   "execution_count": 58,
   "metadata": {
    "code_folding": [
     0
    ]
   },
   "outputs": [],
   "source": [
    "#get_connected_pairs(out_list,in_list,species_list)\n",
    "def get_connected_pairs(out_list):\n",
    "    connected_pairs = []\n",
    "    for i in range(len(out_list)):\n",
    "        for j in out_list[i]:\n",
    "            if i in out_list[j]:\n",
    "                if [i,j] not in connected_pairs:\n",
    "                    connected_pairs.append([i,j])\n",
    "    return connected_pairs"
   ]
  },
  {
   "cell_type": "code",
   "execution_count": 59,
   "metadata": {
    "code_folding": [
     0
    ]
   },
   "outputs": [],
   "source": [
    "#edge_list_2_out_list(edge_list,species_list)\n",
    "def edge_list_2_out_list(edge_list,species_list):\n",
    "    out_list = []\n",
    "    for i in range(len(species_list)):\n",
    "        out_list.append([])\n",
    "    for j in edge_list:\n",
    "        out_list[j[0]].append(j[1])\n",
    "    return out_list"
   ]
  },
  {
   "cell_type": "code",
   "execution_count": 60,
   "metadata": {
    "code_folding": [
     0
    ]
   },
   "outputs": [],
   "source": [
    "#get_cluster(species_A,out_list)\n",
    "def get_cluster(species_A,out_list):\n",
    "    test_list=[species_A]\n",
    "    test_list_up = test_list\n",
    "    visited_list = []\n",
    "    while len(test_list)>0:\n",
    "        for i in test_list:\n",
    "            visited_list.append(i)\n",
    "            for j in out_list[i]:\n",
    "                if j not in visited_list:\n",
    "                    test_list_up.append(j)\n",
    "            test_list_up.remove(i)\n",
    "    return visited_list"
   ]
  },
  {
   "cell_type": "code",
   "execution_count": 61,
   "metadata": {
    "code_folding": [
     0
    ]
   },
   "outputs": [],
   "source": [
    "#get_scc(cluster_out,connected_pairs)\n",
    "def get_scc(cluster_out,connected_pairs):\n",
    "    specs = []\n",
    "    scc = []\n",
    "    for i in connected_pairs:\n",
    "        for j in i:\n",
    "            specs.append(j)\n",
    "    specs = list(set(specs))\n",
    "    while len(specs)>0:\n",
    "        cluster = get_cluster(specs[0],cluster_out)\n",
    "        for k in cluster:\n",
    "            if k in specs:\n",
    "                specs.remove(k)\n",
    "        scc.append(sorted(cluster))\n",
    "    return scc"
   ]
  },
  {
   "cell_type": "code",
   "execution_count": 62,
   "metadata": {
    "code_folding": [
     0
    ]
   },
   "outputs": [],
   "source": [
    "#get_fluxes_quick(species_list,in_list,out_list,scc,c_p,reac_list_n,prod_list_n,bspc,conc_list,k_list)\n",
    "def get_fluxes_quick_groups(species_list,in_list,out_list,scc,c_p,reac_list_n,prod_list_n,bspc,conc_list,k_list,groups,edge_list, reaction_species):\n",
    "    net = get_network_flux_quick(species_list,reac_list_n,prod_list_n,bspc,conc_list,k_list)\n",
    "    np.seterr('raise')\n",
    "    ls = len(species_list)\n",
    "    net2 = normalize(net, norm='l1', axis=1)\n",
    "    cycle_flux = []\n",
    "    for i in scc:\n",
    "        cycle_flux.extend(get_scc_fluxes(i, in_list,out_list,net))\n",
    "    cycle_part = [i[0] for i in cycle_flux]\n",
    "    cycle_part_set = set(cycle_part)\n",
    "    new_visit = [0]\n",
    "    old_list = set([])\n",
    "    visit_list = [[] for i in range(ls)]\n",
    "    flux_list = np.zeros(ls)\n",
    "    flux_list[0] = 1\n",
    "    flux_groups = np.zeros(len(groups))\n",
    "    net_flux = np.zeros((len(species_list),len(species_list)))\n",
    "    while len(new_visit)>0:\n",
    "        for i in new_visit:\n",
    "            old_list.add(i)\n",
    "            oc = old_list.union(cycle_part_set)\n",
    "            if i in cycle_part_set:\n",
    "                for c in cycle_flux[cycle_part.index(i)][1]:\n",
    "                    f = c[1]*flux_list[i]\n",
    "                    if c[0] not in visit_list[i]:\n",
    "                        visit_list[i].append(c[0])\n",
    "                    flux_list[c[0]] = flux_list[c[0]] + f\n",
    "                    for g in range(len(groups)):\n",
    "                        if c[0] in groups[g] and i not in groups[g]:\n",
    "                            flux_groups[g] = flux_groups[g] + f\n",
    "                    if all(x in oc for x in in_list[c[0]]):\n",
    "                        new_visit.append(c[0])\n",
    "            else:              \n",
    "                for j in out_list[i]:\n",
    "                    f = net2[i][j]*flux_list[i]\n",
    "                    flux_list[j] = flux_list[j] + f\n",
    "                    for g in range(len(groups)):\n",
    "                        if j in groups[g] and i not in groups[g]:\n",
    "                            flux_groups[g] = flux_groups[g] + f\n",
    "                    if j not in visit_list[i]:\n",
    "                        visit_list[i].append(j)\n",
    "                    if j not in old_list:\n",
    "                        if all(x in oc for x in in_list[j]):\n",
    "                            new_visit.append(j)\n",
    "            new_visit.remove(i)\n",
    "    bckg_fluxes = np.zeros(len(background_spc))\n",
    "    factor = pressure_to_m(1000,295)/1000000000\n",
    "    rates = [np.prod(np.array([flux_list[m] if species_list[m] not in bspc else 1 for m in reac_list_n[n]])) for n in range(len(reac_list))]\n",
    "    k_factors = [sum([rates_0[i] for i in j]) for j in reaction_species]\n",
    "    k_factor_list = []\n",
    "    for i in range(len(reac_list)):\n",
    "        for j in reac_list[i]:\n",
    "            if j not in bspc:\n",
    "                val = k_factors[species_list.index(j)]\n",
    "                if val !=0:\n",
    "                    k_factor = rates_0[i]/k_factors[species_list.index(j)]\n",
    "                else:\n",
    "                    k_factor = 0\n",
    "                k_factor_list.append(k_factor)\n",
    "        for j in reac_list[i]:\n",
    "            if j in bspc:\n",
    "                ind = background_spc.index(j)\n",
    "                bckg_fluxes[ind] = bckg_fluxes[ind] + rates[i]*bckg_coeff[i][ind]*k_factor\n",
    "    return cycle_flux,flux_list, flux_groups, bckg_fluxes"
   ]
  },
  {
   "cell_type": "code",
   "execution_count": 63,
   "metadata": {},
   "outputs": [],
   "source": [
    "def get_delt(z1,z2):\n",
    "    return np.mean([abs(z1[0][i] - z2[0][i])/n[i] for i in range(len(z[0][0]))])\n"
   ]
  },
  {
   "cell_type": "code",
   "execution_count": 64,
   "metadata": {},
   "outputs": [],
   "source": [
    "def get_delt(z1,z2):\n",
    "    return np.mean([abs(z1[0][i] - z2[0][i])/n[i] for i in range(len(z[0][0]))])\n"
   ]
  },
  {
   "cell_type": "code",
   "execution_count": 65,
   "metadata": {},
   "outputs": [
    {
     "data": {
      "text/plain": [
       "122"
      ]
     },
     "execution_count": 65,
     "metadata": {},
     "output_type": "execute_result"
    }
   ],
   "source": [
    "species_list.index('ISOP1OH23O4OHt')"
   ]
  },
  {
   "cell_type": "code",
   "execution_count": 66,
   "metadata": {},
   "outputs": [
    {
     "data": {
      "text/plain": [
       "[['ISOP1OHc'],\n",
       " ['ISOP1OHt'],\n",
       " ['ISOP4OHc'],\n",
       " ['ISOP4OHt'],\n",
       " ['ISOP1OH4OOt'],\n",
       " ['ISOP1OH2OO'],\n",
       " ['ISOP1OH2OO'],\n",
       " ['ISOP1OH4OOc'],\n",
       " ['ISOP1OO4OHt'],\n",
       " ['ISOP3OO4OH'],\n",
       " ['ISOP3OO4OH'],\n",
       " ['ISOP1OO4OHc'],\n",
       " ['ISOP1OHt'],\n",
       " ['ISOP1OHt'],\n",
       " ['ISOP1OHc'],\n",
       " ['ISOP1OHc'],\n",
       " ['ISOP4OHt'],\n",
       " ['ISOP4OHt'],\n",
       " ['ISOP4OHc'],\n",
       " ['ISOP4OHc'],\n",
       " ['NO2', 'MVK', 'HO2', 'HCHO'],\n",
       " ['ISOP1OH2N'],\n",
       " ['NO2', 'HO2', 'ISOP1CO4OH'],\n",
       " ['NO2', 'ISOP1CO2OO3OOH4OH'],\n",
       " ['ISOP1OH4Nc'],\n",
       " ['NO2', 'HO2', 'ISOP1CO4OH'],\n",
       " ['NO2', 'ISOP1CO2OO3OOH4OH'],\n",
       " ['ISOP1OH4Nt'],\n",
       " ['ISOP1CO2OOH3OO4OH'],\n",
       " ['ISOP1CO2OO3OOH4OH'],\n",
       " ['NO2', 'MGLY', 'GLYC', 'OH'],\n",
       " ['ISOP1CO2N3OOH4OH'],\n",
       " ['MVK3OOH4OH', 'CO', 'OH'],\n",
       " ['OH', 'GLYC', 'MGLY'],\n",
       " ['NO2', 'MGLY', 'GLYC', 'OH'],\n",
       " ['ISOP1CO2OOH3N4OH'],\n",
       " ['MVK3OOH4OH', 'CO', 'OH'],\n",
       " ['ISOP1CO2OOH3OOH4OH'],\n",
       " ['OH', 'GLYC', 'MGLY'],\n",
       " ['NO2', 'MACR', 'HO2', 'HCHO'],\n",
       " ['ISOP3N4OH'],\n",
       " ['NO2', 'HO2', 'ISOP1OH4CO'],\n",
       " ['NO2', 'ISOP1OH2OOH3OO4CO'],\n",
       " ['ISOP1N4OHc'],\n",
       " ['NO2', 'HO2', 'ISOP1OH4CO'],\n",
       " ['NO2', 'ISOP1OH2OOH3OO4CO'],\n",
       " ['ISOP1N4OHt'],\n",
       " ['ISOP1OH2OO3OOH4CO'],\n",
       " ['ISOP1OH2OOH3OO4CO'],\n",
       " ['NO2', 'GLYX', 'HAC', 'OH'],\n",
       " ['ISOP1OH2OOH3N4CO'],\n",
       " ['MACR2OOH3OH', 'CO', 'OH'],\n",
       " ['ISOP1OH2OOH3OOH4CO'],\n",
       " ['OH', 'GLYX', 'HAC'],\n",
       " ['NO2', 'GLYX', 'HAC', 'OH'],\n",
       " ['ISOP1OH2N3OOH4CO'],\n",
       " ['MACR2OOH3OH', 'CO', 'OH'],\n",
       " ['ISOP1OH2OOH3OOH4CO'],\n",
       " ['OH', 'GLYX', 'HAC'],\n",
       " ['ISOP1CO2OO3OH4OH'],\n",
       " ['MVK3OOH4OH', 'CO', 'HO2'],\n",
       " ['ISOP1CO1R4OH'],\n",
       " ['MACR2OOH3OH', 'HO2', 'CO'],\n",
       " ['ISOP1OH2OH3OO4CO'],\n",
       " ['ISOP1OH4CO4R'],\n",
       " ['ISOP1CO1OO4OH'],\n",
       " ['ISOP1PAN4OH'],\n",
       " ['ISOP1CO1OO4OH', 'NO2'],\n",
       " ['NO2', 'CO2', 'C4HVP1'],\n",
       " ['OH', 'CO2', 'C4HVP1'],\n",
       " ['O3', 'ISOP1CO1OH4OH'],\n",
       " ['ISOP1CO1OOH4OH'],\n",
       " ['CO', 'OH', 'MACR2OOH3CO3OOH'],\n",
       " ['ISOP1OH4CO4OO'],\n",
       " ['ISOP1OH4PAN'],\n",
       " ['ISOP1OH4CO4OO', 'NO2'],\n",
       " ['NO2', 'CO2', 'C4HVP2'],\n",
       " ['OH', 'CO2', 'C4HVP2'],\n",
       " ['ISOP1OH4CO4OH', 'O3'],\n",
       " ['ISOP1OH4CO4OOH'],\n",
       " ['CO', 'OH', 'MVK3OOH4CO4OOH'],\n",
       " ['ISOP1OH2OO3CO4OH'],\n",
       " ['ISOP1OH2OOH3CO4OH'],\n",
       " ['OH', 'HO2', 'HCHO', 'MVK3CO4OH'],\n",
       " ['OH', 'HAC', 'HPA'],\n",
       " ['ISOP1OH2N3CO4OH'],\n",
       " ['NO2', 'HAC', 'HPA'],\n",
       " ['NO2', 'HO2', 'HCHO', 'MVK3CO4OH'],\n",
       " ['HO2', 'ISOP1OH2OOH3CO4CO'],\n",
       " ['MVK', 'MVK', 'HO2', 'HO2', 'HCHO', 'HCHO'],\n",
       " ['MACR', 'MACR', 'HO2', 'HO2', 'HCHO', 'HCHO'],\n",
       " ['ISOP3CO4OH', 'ISOP3OH4OH'],\n",
       " ['MVK', 'MACR', 'HO2', 'HO2', 'HCHO', 'HCHO'],\n",
       " ['ISOP1OH2OH', 'ISOP3CO4OH'],\n",
       " ['MVK', 'HO2', 'HCHO', 'HO2', 'ISOP1OH4CO'],\n",
       " ['MVK', 'HO2', 'HCHO', 'ISOP1OH2OOH3OO4CO'],\n",
       " ['ISOP1OH2OH', 'ISOP1CO4OH'],\n",
       " ['MVK', 'HO2', 'HCHO', 'HO2', 'ISOP1OH4CO'],\n",
       " ['MVK', 'HO2', 'HCHO', 'ISOP1OH2OOH3OO4CO'],\n",
       " ['ISOP1OH2OH', 'ISOP1CO4OH'],\n",
       " ['MVK', 'HO2', 'HCHO', 'HO2', 'ISOP1CO4OH'],\n",
       " ['MVK', 'HO2', 'HCHO', 'ISOP1CO2OO3OOH4OH'],\n",
       " ['ISOP1OH2OH', 'ISOP1OH4CO'],\n",
       " ['MVK', 'HO2', 'HCHO', 'HO2', 'ISOP1CO4OH'],\n",
       " ['MVK', 'HO2', 'HCHO', 'ISOP1CO2OO3OOH4OH'],\n",
       " ['ISOP1OH2OH', 'ISOP1OH4CO'],\n",
       " ['MACR', 'HO2', 'HCHO', 'HO2', 'ISOP1OH4CO'],\n",
       " ['MACR', 'HO2', 'HCHO', 'ISOP1OH2OOH3OO4CO'],\n",
       " ['ISOP3OH4OH', 'ISOP1CO4OH'],\n",
       " ['ISOP1OH4OH', 'ISOP3CO4OH'],\n",
       " ['MACR', 'HO2', 'HCHO', 'HO2', 'ISOP1OH4CO'],\n",
       " ['MACR', 'HO2', 'HCHO', 'ISOP1OH2OOH3OO4CO'],\n",
       " ['ISOP3OH4OH', 'ISOP1CO4OH'],\n",
       " ['ISOP1OH4OH', 'ISOP3CO4OH'],\n",
       " ['MACR', 'HO2', 'HCHO', 'HO2', 'ISOP1CO4OH'],\n",
       " ['MACR', 'HO2', 'HCHO', 'ISOP1CO2OO3OOH4OH'],\n",
       " ['ISOP3OH4OH', 'ISOP1OH4CO'],\n",
       " ['ISOP1OH4OH', 'ISOP3CO4OH'],\n",
       " ['MACR', 'HO2', 'HCHO', 'HO2', 'ISOP1CO4OH'],\n",
       " ['MACR', 'HO2', 'HCHO', 'ISOP1CO2OO3OOH4OH'],\n",
       " ['ISOP3OH4OH', 'ISOP1OH4CO'],\n",
       " ['ISOP1OH4OH', 'ISOP3CO4OH'],\n",
       " ['MVK', 'HO2', 'HCHO'],\n",
       " ['ISOP1OH2OH', 'HCHO'],\n",
       " ['MACR', 'HO2', 'HCHO'],\n",
       " ['ISOP3OH4OH', 'HCHO'],\n",
       " ['ISOP3CO4OH', 'CH3OH'],\n",
       " ['ISOP1OH4OH', 'HCHO'],\n",
       " ['ISOP1CO2OO3OOH4OH', 'HCHO', 'HO2'],\n",
       " ['HO2', 'ISOP1CO4OH', 'HCHO'],\n",
       " ['ISOP1OH4OH', 'HCHO'],\n",
       " ['ISOP1CO2OO3OOH4OH', 'HCHO', 'HO2'],\n",
       " ['HO2', 'ISOP1CO4OH', 'HCHO'],\n",
       " ['ISOP1OH4OH', 'HCHO'],\n",
       " ['ISOP1OH2OOH3OO4CO', 'HCHO', 'HO2'],\n",
       " ['HO2', 'ISOP1OH4CO', 'HCHO'],\n",
       " ['ISOP1OH4OH', 'HCHO'],\n",
       " ['ISOP1OH2OOH3OO4CO', 'HCHO', 'HO2'],\n",
       " ['HO2', 'ISOP1OH4CO', 'HCHO'],\n",
       " ['ISOP1OH2OOH', 'O2'],\n",
       " ['MVK', 'OH', 'HO2', 'HCHO'],\n",
       " ['ISOP3OOH4OH', 'O2'],\n",
       " ['MACR', 'OH', 'HO2', 'HCHO'],\n",
       " ['ISOP1OOH4OHc', 'O2'],\n",
       " ['ISOP1OOH4OHt', 'O2'],\n",
       " ['ISOP1OH4OOHc', 'O2'],\n",
       " ['ISOP1OH4OOHt', 'O2'],\n",
       " ['ISOP1CO4OOHc', 'HO2'],\n",
       " ['ISOP1CO2OOH', 'HO2'],\n",
       " ['ISOP1CO2R3OOH4OOH'],\n",
       " ['ISOP1CO2OO3OOH4OOH'],\n",
       " ['ISOP1CO23O4OOH'],\n",
       " ['ISOP1CO2OOH3OO4OOH'],\n",
       " ['ISOP1CO2OOH3OOH4OO'],\n",
       " ['ISOP1CO2OO3OOH4OOH'],\n",
       " ['ISOP1CO2OOH3OOH4OO'],\n",
       " ['ISOP1CO2OO3OOH4OOH'],\n",
       " ['ISOP1CO2OOH3OO4OOH'],\n",
       " ['ISOP1CO2OOH3OOH4CO', 'OH'],\n",
       " ['MVK3OOH4OOH', 'OH', 'CO'],\n",
       " ['MVK3OOH4OOH', 'OH', 'CO'],\n",
       " ['MVK3OOH4OOH', 'OH', 'CO'],\n",
       " ['ISOP1CO2N3OOH4OOH'],\n",
       " ['NO2', 'CO', 'HO2', 'MVK3OOH4OOH'],\n",
       " ['NO2', 'OH', 'MGLY', 'HPETHNL'],\n",
       " ['OH', 'OH', 'MGLY', 'HPETHNL'],\n",
       " ['OH', 'CO', 'HO2', 'MVK3OOH4OOH'],\n",
       " ['ISOP1CO2OOH3N4OOH'],\n",
       " ['NO2', 'CO', 'HO2', 'MVK3OOH4OOH'],\n",
       " ['NO2', 'OH', 'MGLY', 'HPETHNL'],\n",
       " ['OH', 'OH', 'MGLY', 'HPETHNL'],\n",
       " ['OH', 'CO', 'HO2', 'MVK3OOH4OOH'],\n",
       " ['ISOP1CO2OOH3OOH4OOH'],\n",
       " ['ISOP1CO2OOH3OOH4N'],\n",
       " ['OH', 'NO2', 'HCHO', 'MACR2OOH3CO'],\n",
       " ['ISOP1CO2OOH3OOH4OOH'],\n",
       " ['OH', 'OH', 'HCHO', 'MACR2OOH3CO'],\n",
       " ['ISOP1OOH4COc', 'HO2'],\n",
       " ['ISOP3OOH4CO', 'HO2'],\n",
       " ['ISOP1OOH2OOH3R4CO'],\n",
       " ['ISOP1OOH2OOH3OO4CO'],\n",
       " ['ISOP1OOH23O4CO'],\n",
       " ['ISOP1OOH2OO3OOH4CO'],\n",
       " ['ISOP1OO2OOH3OOH4CO'],\n",
       " ['ISOP1OOH2OOH3OO4CO'],\n",
       " ['ISOP1OO2OOH3OOH4CO'],\n",
       " ['ISOP1OOH2OOH3OO4CO'],\n",
       " ['ISOP1OOH2OO3OOH4CO'],\n",
       " ['ISOP1CO2OOH3OOH4CO', 'OH'],\n",
       " ['ISOP1OOH2OOH3CO4CO', 'OH'],\n",
       " ['MACR2OOH3OOH', 'OH', 'CO'],\n",
       " ['MACR2OOH3OOH', 'OH', 'CO'],\n",
       " ['MACR2OOH3OOH', 'OH', 'CO'],\n",
       " ['ISOP1OOH2OOH3N4CO'],\n",
       " ['NO2', 'CO', 'HO2', 'MACR2OOH3OOH'],\n",
       " ['NO2', 'OH', 'GLYX', 'HPAC'],\n",
       " ['HO2', 'OH', 'GLYX', 'HPAC'],\n",
       " ['HO2', 'CO', 'HO2', 'MACR2OOH3OOH'],\n",
       " ['ISOP1OOH2OOH3OOH4CO'],\n",
       " ['ISOP1OOH2N3OOH4CO'],\n",
       " ['NO2', 'CO', 'HO2', 'MACR2OOH3OOH'],\n",
       " ['NO2', 'OH', 'GLYX', 'HPAC'],\n",
       " ['HO2', 'OH', 'GLYX', 'HPAC'],\n",
       " ['HO2', 'CO', 'HO2', 'MACR2OOH3OOH'],\n",
       " ['ISOP1N2OOH3OOH4CO'],\n",
       " ['NO2', 'OH', 'HCHO', 'MVK3OOH4CO'],\n",
       " ['ISOP1OOH2OOH3OOH4CO'],\n",
       " ['OH', 'OH', 'HCHO', 'MVK3OOH4CO'],\n",
       " ['MGLY', 'OH', 'OH', 'HCHO'],\n",
       " ['HPETHNL', 'CH3CO3', 'OH'],\n",
       " ['MGLY', 'OH', 'OH', 'HCHO'],\n",
       " ['HPAC', 'CO', 'OH', 'HO2'],\n",
       " ['CO', 'OH', 'MVK'],\n",
       " ['CO', 'OH', 'MVK'],\n",
       " ['ISOP1CO23O4OH', 'OH'],\n",
       " ['ISOP1CO2OOH3OH4OO'],\n",
       " ['CO', 'OH', 'HO2', 'MVK'],\n",
       " ['CO', 'OH', 'MACR'],\n",
       " ['CO', 'OH', 'MACR'],\n",
       " ['ISOP1OH23O4CO', 'OH'],\n",
       " ['ISOP1OO2OH3OOH4CO'],\n",
       " ['CO', 'OH', 'HO2', 'MACR'],\n",
       " ['HCHO', 'OH', 'MVK'],\n",
       " ['MACR', 'OH', 'HCHO'],\n",
       " ['MVK3OO4OH'],\n",
       " ['MVK3OH4OO'],\n",
       " ['CH3CO3', 'GLYC', 'OH'],\n",
       " ['MVK3CO4OH', 'OH', 'HO2'],\n",
       " ['MVK3OOH4OH'],\n",
       " ['MVK3OH4OOH'],\n",
       " ['MGLY', 'HCHO', 'OH', 'HO2'],\n",
       " ['CH3CO3', 'GLYC', 'OH'],\n",
       " ['CH3CO3', 'GLYC', 'NO2'],\n",
       " ['MVK3N4OH'],\n",
       " ['MGLY', 'HCHO', 'HO2', 'NO2'],\n",
       " ['MVK3OH4N'],\n",
       " ['CH3CO3', 'GLYC', 'NO2'],\n",
       " ['CH3CO3', 'ETHLN', 'HO2'],\n",
       " ['MACR2OO3OH'],\n",
       " ['MACR2OH3OO'],\n",
       " ['MACR1OO'],\n",
       " ['MACR2OOH3OH'],\n",
       " ['HAC', 'CO', 'HO2', 'OH'],\n",
       " ['MGLY', 'HCHO', 'OH'],\n",
       " ['MACR2OH3OOH'],\n",
       " ['MGLY', 'HCHO', 'HO2', 'OH'],\n",
       " ['MACR1OOH'],\n",
       " ['CH3COOCH2', 'CO2', 'OH'],\n",
       " ['MACR1OH', 'O3'],\n",
       " ['HAC', 'CO', 'HO2', 'NO2'],\n",
       " ['MGLY', 'HCHO', 'NO2'],\n",
       " ['MACR2N3OH'],\n",
       " ['MGLY', 'HCHO', 'HO2', 'NO2'],\n",
       " ['MACR2OH3N'],\n",
       " ['CH3COOCH2', 'CO2', 'NO2'],\n",
       " ['MPAN'],\n",
       " ['MACR1OO', 'NO2'],\n",
       " ['HAC', 'CO', 'OH'],\n",
       " ['HPAC', 'CO', 'HO2'],\n",
       " ['MPAN1OHx'],\n",
       " ['MPAN1OH2OO'],\n",
       " ['HMMLx'],\n",
       " ['MPAN1OH'],\n",
       " ['HMMLx'],\n",
       " ['MPAN1OH2OO'],\n",
       " ['HMML', 'NO3'],\n",
       " ['HAC', 'CO', 'NO3'],\n",
       " ['MPAN1OH2O', 'NO2'],\n",
       " ['MPAN1OH2OOH'],\n",
       " ['MPAN1OH2O', 'OH'],\n",
       " ['HAC', 'CO2', 'NO3'],\n",
       " ['ISOP1OH2OOH3R4OH'],\n",
       " ['ISOP1OH2OOH3OO4OH'],\n",
       " ['ISOP1OH23O4OHt', 'OH'],\n",
       " ['ISOP1OH23O4OHc', 'OH'],\n",
       " ['ISOP1OH2R3OOH4OH'],\n",
       " ['ISOP1OH2OO3OOH4OH'],\n",
       " ['ISOP1OH23O4OHt', 'OH'],\n",
       " ['ISOP1OH23O4OHc', 'OH'],\n",
       " ['ISOP1OH2OOH3OH4OO'],\n",
       " ['ISOP1OH2OO3OH4OOH'],\n",
       " ['ISOP1OH2OOH3OH4OO'],\n",
       " ['MACR2OOH3OH', 'NO2', 'HO2', 'HCHO'],\n",
       " ['ISOP1OH2OOH3OH4N'],\n",
       " ['HPETHNL', 'HAC', 'NO2', 'HO2'],\n",
       " ['ISOP1OH2N3OH4OOH'],\n",
       " ['ISOP1OH2OOH3OH4OOH'],\n",
       " ['MACR2OOH3OH', 'OH', 'HO2', 'HCHO'],\n",
       " ['ISOP1OH2OOH3OH4OOH'],\n",
       " ['HPETHNL', 'HAC', 'OH', 'HO2'],\n",
       " ['ISOP1OH2OOH3OH4CO', 'OH'],\n",
       " ['ISOP1OH12O3OH4OOH', 'OH'],\n",
       " ['ISOP1OO2OH3OOH4OH'],\n",
       " ['ISOP1OOH2OH3OO4OH'],\n",
       " ['ISOP1OO2OH3OOH4OH'],\n",
       " ['MVK3OOH4OH', 'HO2', 'HCHO', 'NO2'],\n",
       " ['ISOP1N2OH3OOH4OH'],\n",
       " ['HPAC', 'GLYC', 'NO2', 'HO2'],\n",
       " ['ISOP1OOH2OH3N4OH'],\n",
       " ['ISOP1OOH2OH3OOH4OH'],\n",
       " ['MVK3OOH4OH', 'HO2', 'HCHO', 'OH'],\n",
       " ['ISOP1OOH2OH3OOH4OH'],\n",
       " ['HPAC', 'GLYC', 'OH', 'HO2'],\n",
       " ['ISOP1OOH2OH3CO4OH', 'OH'],\n",
       " ['ISOP1OOH2OH34O4OH', 'OH'],\n",
       " ['ISOP1CO2OH3OOH4OH', 'OH'],\n",
       " ['ISOP1OH2OO3OOH4OH'],\n",
       " ['ISOP1OH2OOH3OO4OH'],\n",
       " ['ISOP1OH2OOH3N4OH'],\n",
       " ['GLYC', 'HAC', 'NO2', 'OH'],\n",
       " ['GLYC', 'HAC', 'OH'],\n",
       " ['ISOP1OH2OOH3OOH4OH'],\n",
       " ['ISOP1OH12O3OOH4OH', 'OH'],\n",
       " ['ISOP1OH2N3OOH4OH'],\n",
       " ['HAC', 'GLYC', 'NO2', 'OH'],\n",
       " ['ISOP1OH2OOH3OOH4OH'],\n",
       " ['HAC', 'GLYC', 'OH'],\n",
       " ['ISOP1OH2OOH34O4OH', 'OH'],\n",
       " ['ISOP1OH2OO'],\n",
       " ['ISOP1CO2OOH', 'HO2'],\n",
       " ['ISO1OH12O', 'OH'],\n",
       " ['ISOP3OO4OH'],\n",
       " ['ISOP3CO4OH', 'OH'],\n",
       " ['ISOP3OOH4CO', 'HO2'],\n",
       " ['MVK', 'HCHO', 'HO2', 'OH'],\n",
       " ['MACR', 'HCHO', 'HO2', 'OH'],\n",
       " ['OH', 'HO2', 'ISOP1CO4OH'],\n",
       " ['OH', 'HO2', 'ISOP1OH4CO'],\n",
       " ['OH', 'HO2', 'ISOP1CO4OH'],\n",
       " ['OH', 'OH', 'CO', 'MACR2OOH3OH'],\n",
       " ['OH', 'HO2', 'ISOP1OH4CO'],\n",
       " ['OH', 'OH', 'CO', 'MVK3OOH4OH'],\n",
       " ['ISOP1OH2OO3OH4OOH'],\n",
       " ['ISOP1OH2OH34O', 'OH'],\n",
       " ['ISOP1OH4OOc'],\n",
       " ['ISOP1OH4CO', 'OH'],\n",
       " ['ISOP1CO2OOH', 'HO2'],\n",
       " ['ISOP1CO4OOHc', 'HO2'],\n",
       " ['ISOP1CO2R3OOH4OOH'],\n",
       " ['ISOP1OH2OO3OH4OOH'],\n",
       " ['ISOP1OH2OH34O', 'OH'],\n",
       " ['ISOP1OH4OOt'],\n",
       " ['ISOP1OH4CO', 'OH'],\n",
       " ['ISOP1CO2OOH', 'HO2'],\n",
       " ['ISOP1CO4OOHc', 'HO2'],\n",
       " ['ISOP1CO2R3OOH4OOH'],\n",
       " ['ISOP1OOH2OH3OO4OH'],\n",
       " ['ISOP12O3OH4OH', 'OH'],\n",
       " ['ISOP1OO4OHc'],\n",
       " ['ISOP1CO4OH', 'OH'],\n",
       " ['ISOP3OOH4CO', 'HO2'],\n",
       " ['ISOP1OOH4COc', 'HO2'],\n",
       " ['ISOP1OOH2OOH3R4CO'],\n",
       " ['ISOP1OOH2OH3OO4OH'],\n",
       " ['ISOP12O3OH4OH', 'OH'],\n",
       " ['ISOP1OO4OHt'],\n",
       " ['ISOP1CO4OH', 'OH'],\n",
       " ['ISOP3OOH4CO', 'HO2'],\n",
       " ['ISOP1OOH4COc', 'HO2'],\n",
       " ['ISOP1OOH2OOH3R4CO'],\n",
       " ['ISOP1OH23O4R4OHc'],\n",
       " ['ISOP1OH23O4CO', 'H2O', 'HO2'],\n",
       " ['ISOP1OH2OH3OO4CO'],\n",
       " ['ISOP1OH1R23O4OHc'],\n",
       " ['ISOP1CO23O4OH', 'H2O', 'HO2'],\n",
       " ['ISOP1CO2OO3OH4OH'],\n",
       " ['ISOP1OH23O4R4OHt'],\n",
       " ['ISOP1OH23O4CO', 'H2O', 'HO2'],\n",
       " ['ISOP1OH2OH3OO4CO'],\n",
       " ['ISOP1OH1R23O4OHt'],\n",
       " ['ISOP1CO23O4OH', 'H2O', 'HO2'],\n",
       " ['ISOP1CO2OO3OH4OH'],\n",
       " ['ISOP1CO2OH34O', 'HO2'],\n",
       " ['ISOP12O3OH4CO', 'HO2'],\n",
       " ['ISOP12O3OH3R4OH'],\n",
       " ['ISOP12O3CO4OH', 'HO2'],\n",
       " ['ISOP1OH3OH4CO', 'HO2'],\n",
       " ['ISOP1CO3OH4OH', 'HO2'],\n",
       " ['ISOP1OH2OO3CO4OH'],\n",
       " ['ISOP1CO2OH3OOH4CO', 'HO2'],\n",
       " ['CO', 'OH', 'MACR2OH3OH'],\n",
       " ['CO', 'NO2', 'HO2', 'MACR2OH3OH'],\n",
       " ['NO2', 'HO2', 'GLYX', 'HAC'],\n",
       " ['ISOP1OH2OH3N4CO'],\n",
       " ['CO', 'OH', 'HO2', 'MACR2OH3OH'],\n",
       " ['OH', 'HO2', 'GLYX', 'HAC'],\n",
       " ['ISOP1OH2OH3OOH4CO'],\n",
       " ['ISOP1CO2OOH3OH4CO', 'HO2'],\n",
       " ['OH', 'CO', 'MVK3OH4OH'],\n",
       " ['CO', 'OH', 'HO2', 'MVK3OH4OH'],\n",
       " ['OH', 'HO2', 'GLYC', 'MGLY'],\n",
       " ['ISOP1CO2OOH3OH4OH'],\n",
       " ['MVK3OH4OH', 'HO2', 'NO2', 'CO'],\n",
       " ['NO2', 'HO2', 'GLYC', 'MGLY'],\n",
       " ['ISOP1CO2N3OH4OH'],\n",
       " ['MVK3OH4CO', 'HO2'],\n",
       " ['MVK3CO4OH', 'HO2'],\n",
       " ['OH', 'MGLY', 'CO2'],\n",
       " ['CO', 'HO2', 'HO2', 'MGLY'],\n",
       " ['GLYX', 'HO2', 'CH3CO3'],\n",
       " ['CO', 'CO', 'HO2', 'CH3CO3'],\n",
       " ['CO', 'HO2', 'HCHO', 'CH3CO3'],\n",
       " ['MACR2OH3CO', 'HO2'],\n",
       " ['HAC', 'HO2', 'CO', 'CO2', 'OH', 'CH3CO3'],\n",
       " ['CO2', 'OH', 'CO', 'HO2', 'CH3CO3'],\n",
       " ['MVKENOL', 'OH', 'OH', 'CO'],\n",
       " ['C4HVP1', 'OH', 'CO'],\n",
       " ['ISOP1CO4CO', 'HO2', 'OH'],\n",
       " ['ISOP1CO2OO3OOH4CO', 'OH'],\n",
       " ['MACRENOL', 'OH', 'OH', 'CO'],\n",
       " ['C4HVP2', 'OH', 'CO'],\n",
       " ['ISOP1CO4CO', 'HO2', 'OH'],\n",
       " ['ISOP1CO2OOH3OO4CO', 'OH'],\n",
       " ['ISOP1CO2OOH3OO4CO'],\n",
       " ['ISOP1CO2OO3OOH4CO'],\n",
       " ['MACR2OOH3CO', 'OH', 'CO'],\n",
       " ['MVK3OOH4CO', 'OH', 'CO'],\n",
       " ['MACR2OOH3CO', 'OH', 'CO'],\n",
       " ['MVK3OOH4CO', 'OH', 'CO'],\n",
       " ['HO2', 'MVK3OH4CO'],\n",
       " ['MVK3OO4OH4OH'],\n",
       " ['CH3CO3', 'GLYX', 'OH'],\n",
       " ['MGLY', 'HO2', 'CO', 'OH'],\n",
       " ['MVK3N4OH4OH'],\n",
       " ['NO2', 'HO2', 'HCOOH', 'MGLY'],\n",
       " ['OH', 'HO2', 'HCOOH', 'MGLY'],\n",
       " ['MVK3OOH4OH4OH'],\n",
       " ['DHA', 'CO', 'OH'],\n",
       " ['PPYRAC', 'OH', 'CO'],\n",
       " ['HO2', 'PYRAC'],\n",
       " ['MACR3CO', 'OH', 'OH'],\n",
       " ['PYRAC', 'OH', 'CO'],\n",
       " ['NO2', 'MVK3OO4OH'],\n",
       " ['OH', 'MVK3OO4OH'],\n",
       " ['MVK3N4OH'],\n",
       " ['NO2', 'MACR2OO3OH'],\n",
       " ['OH', 'MACR2OO3OH'],\n",
       " ['MACR2N3OH'],\n",
       " ['OH', 'MGLY', 'HO2', 'CO'],\n",
       " ['OH', 'CO', 'MGLY'],\n",
       " ['OH', 'GLYX', 'CH3CO3'],\n",
       " ['OH', 'CO', 'MGLY'],\n",
       " ['ISOP1CO4CO', 'OH'],\n",
       " ['ISOP1CO4OOc'],\n",
       " ['ISOP1CO2OO3OH4OOH'],\n",
       " ['ISOP1CO2OH3R4OOH'],\n",
       " ['ISOP1CO2OH3OO4OOH'],\n",
       " ['ISOP1CO2OH34O'],\n",
       " ['ISOP1CO3R4OOH'],\n",
       " ['ISOP1CO1OO4OOH'],\n",
       " ['MVK3OOH4OOH', 'CO', 'HO2'],\n",
       " ['MVK3OOH4OOH', 'CO', 'HO2'],\n",
       " ['ISOP1CO2OH3OOH4OO'],\n",
       " ['ISOP1CO2OH3OO4OOH'],\n",
       " ['ISOP1CO2OOH3OH4CO', 'OH'],\n",
       " ['MVK3OH4OOH', 'CO', 'OH'],\n",
       " ['MVK3OH4OOH', 'CO', 'OH'],\n",
       " ['ISOP1CO2OOH3OH4OO'],\n",
       " ['ISOP1CO2OO3OH4OOH'],\n",
       " ['ISOP1CO2OO'],\n",
       " ['MVK', 'OH', 'CO'],\n",
       " ['ISOP1CO3R4OOH'],\n",
       " ['ISOP1CO1OOH4OO'],\n",
       " ['ISOP1CO1OOH'],\n",
       " ['ISOP1CO1OOH2OO'],\n",
       " ['MVK', 'CO2', 'NO2', 'OH'],\n",
       " ['MVK', 'CO2', 'OH', 'OH'],\n",
       " ['ISOP1CO4CO', 'OH'],\n",
       " ['ISOP1OO4COc'],\n",
       " ['ISOP1OOH2OH3OO4CO'],\n",
       " ['ISOP1OOH2R3OH4CO'],\n",
       " ['ISOP1OOH2OO3OH4CO'],\n",
       " ['ISOP12O3OH4CO'],\n",
       " ['ISOP1OOH2R4CO'],\n",
       " ['ISOP1OOH4CO4OO'],\n",
       " ['ISOP1CO2OH3OOH4CO', 'OH'],\n",
       " ['MACR2OH3OOH', 'OH', 'CO'],\n",
       " ['ISOP1OOH2OH3CO4CO', 'OH'],\n",
       " ['MACR2OH3OOH', 'OH', 'CO'],\n",
       " ['ISOP1OO2OH3OOH4CO'],\n",
       " ['ISOP1OOH2OH3OO4CO'],\n",
       " ['MACR2OOH3OOH', 'CO', 'HO2'],\n",
       " ['MACR2OOH3OOH', 'CO', 'HO2'],\n",
       " ['ISOP1OO2OOH3OH4CO'],\n",
       " ['ISOP1OOH2OO3OH4CO'],\n",
       " ['ISOP3OO4CO'],\n",
       " ['MACR', 'CO', 'OH'],\n",
       " ['ISOP1OOH2R4CO'],\n",
       " ['ISOP1OO4CO4OOH'],\n",
       " ['ISOP4CO4OOH'],\n",
       " ['ISOP3OO4CO4OOH'],\n",
       " ['MACR', 'CO2', 'NO2', 'OH'],\n",
       " ['MACR', 'CO2', 'OH', 'OH'],\n",
       " ['ISOP1OH2N3R4OH'],\n",
       " ['ISOP1OH2N3OO4OH'],\n",
       " ['ISOP1OH23O4OHt'],\n",
       " ['ISOP1OH23O4OHc'],\n",
       " ['ISOP1OH2N3OH4OO'],\n",
       " ['ISOP1OH2N3OH4N'],\n",
       " ['MACR2N3OH', 'HO2', 'HCHO', 'NO2'],\n",
       " ['ISOP1OH2N3N4OH'],\n",
       " ['GLYC', 'NO2', 'NO2', 'HAC'],\n",
       " ['ISOP1CO2N3OOH4OH', 'HO2'],\n",
       " ['ISOP1CO2N3OH4OOH', 'HO2'],\n",
       " ['ISOP1OH2N3OH4OOH'],\n",
       " ['MACR2N3OH', 'HO2', 'HCHO', 'OH'],\n",
       " ['ISOP1OH2N3OOH4OH'],\n",
       " ['GLYC', 'HAC', 'OH', 'NO2'],\n",
       " ['ISOP1OH2R3N4OH'],\n",
       " ['ISOP1OH2OO3N4OH'],\n",
       " ['ISOP1OH23O4OHt'],\n",
       " ['ISOP1OH23O4OHc'],\n",
       " ['ISOP1OO2OH3N4OH'],\n",
       " ['ISOP1OH2N3N4OH'],\n",
       " ['MVK3N4OH', 'HO2', 'NO2', 'HCHO'],\n",
       " ['ISOP1N2OH3N4OH'],\n",
       " ['MVK3N4OH', 'HO2', 'NO2', 'HCHO'],\n",
       " ['ISOP1OOH2OH3N4CO', 'HO2'],\n",
       " ['ISOP1OH2OOH3N4CO', 'HO2'],\n",
       " ['MVK3N4OH', 'HO2', 'OH', 'HCHO'],\n",
       " ['ISOP1OH2OOH3N4OH'],\n",
       " ['ISOP1OOH2OH3N4OH'],\n",
       " ['MVK3N4OH', 'HO2', 'OH', 'HCHO'],\n",
       " ['MACR', 'ciCH2OO'],\n",
       " ['MVK', 'ciCH2OO'],\n",
       " ['OH'],\n",
       " ['ciMVKOO'],\n",
       " ['ciMACROO'],\n",
       " ['HO2'],\n",
       " ['HCHO', 'CO2', 'HCHO', 'CO', 'CH3OO'],\n",
       " ['HCHO', 'H2SO4'],\n",
       " ['HPMF'],\n",
       " ['HMHP'],\n",
       " ['HCOOH'],\n",
       " ['HCHO'],\n",
       " ['H2O2'],\n",
       " ['HMHP'],\n",
       " ['HCOOH'],\n",
       " ['HCHO'],\n",
       " ['H2O2'],\n",
       " ['HCHO'],\n",
       " ['MACR3OH3OOH'],\n",
       " ['MVK3OH3OOH'],\n",
       " ['HCHO', 'HO2'],\n",
       " ['HCOOH', 'OH'],\n",
       " ['HO2', 'FAH'],\n",
       " ['CO', 'HO2', 'CO2'],\n",
       " ['ISOP1N2OO'],\n",
       " ['ISOP3OO4N'],\n",
       " ['ISOP1N4OO'],\n",
       " ['ISOP1OO4N'],\n",
       " ['ISOP1N2OOH'],\n",
       " ['MVK', 'OH', 'HCHO', 'NO2'],\n",
       " ['ISOP1N4OOH'],\n",
       " ['ISOP3OOH4N'],\n",
       " ['MACR', 'OH', 'HCHO', 'NO2'],\n",
       " ['ISOP1OOH4N'],\n",
       " ['MVK', 'HCHO', 'NO2', 'MVK', 'HCHO', 'NO2'],\n",
       " ['ISOP1N2OOISOP1N2'],\n",
       " ['ISOP1N2OH', 'ISOP3CO4N'],\n",
       " ['MVK', 'MACR', 'HCHO', 'HCHO', 'NO2', 'NO2'],\n",
       " ['ISOP3OO4NISOP1N2'],\n",
       " ['ISOP1N2OH', 'ISOP1CO4N'],\n",
       " ['MVK', 'HCHO', 'NO2', 'ISOP1O4N'],\n",
       " ['ISOP1OO4NISOP1N2'],\n",
       " ['ISOP1N4CO', 'ISOP1N2OH'],\n",
       " ['MVK', 'HCHO', 'NO2', 'ISOP1N4O'],\n",
       " ['ISOP1N2OOISOP1N4'],\n",
       " ['ISOP1N4CO', 'ISOP1N4OHc'],\n",
       " ['ISOP1N4CO', 'ISOP1N4OHt'],\n",
       " ['ISOP1N4O', 'ISOP1N4O'],\n",
       " ['ISOP1N4OOISOP1N4'],\n",
       " ['ISOP3OH4N', 'ISOP1N4CO'],\n",
       " ['ISOP3CO4N', 'ISOP1N4OHc'],\n",
       " ['ISOP3CO4N', 'ISOP1N4OHt'],\n",
       " ['MACR', 'HCHO', 'NO2', 'ISOP1N4O'],\n",
       " ['ISOP3OO4NISOP1N4'],\n",
       " ['ISOP1CO4N', 'ISOP1N4OHc'],\n",
       " ['ISOP1CO4N', 'ISOP1N4OHt'],\n",
       " ['ISOP1OH4Nc', 'ISOP1N4CO'],\n",
       " ['ISOP1OH4Nt', 'ISOP1N4CO'],\n",
       " ['ISOP1O4N', 'ISOP1N4O'],\n",
       " ['ISOP1OO4NISOP1N4'],\n",
       " ['HCHO', 'ISOP1N2OH'],\n",
       " ['MVK', 'HCHO', 'NO2', 'HO2'],\n",
       " ['ISOP1N4CO', 'CH3OH'],\n",
       " ['ISOP1N4OHc', 'HCHO'],\n",
       " ['ISOP1N4OHt', 'HCHO'],\n",
       " ['ISOP1N4O', 'HO2', 'HCHO'],\n",
       " ['ISOP3OH4N', 'HCHO'],\n",
       " ['ISOP3CO4N', 'CH3OH'],\n",
       " ['MACR', 'HCHO', 'NO2', 'HO2'],\n",
       " ['ISOP1CO4N', 'CH3OH'],\n",
       " ['ISOP1OH4Nc', 'HCHO'],\n",
       " ['ISOP1OH4Nt', 'HCHO'],\n",
       " ['ISOP1O4N', 'HO2', 'HCHO'],\n",
       " ['MVK', 'HCHO', 'NO2', 'NO2'],\n",
       " ['ISOP1N2N'],\n",
       " ['ISOP1N4O', 'NO2'],\n",
       " ['ISOP1N4N'],\n",
       " ['MACR', 'HCHO', 'NO2', 'NO2'],\n",
       " ['ISOP3N4N'],\n",
       " ['ISOP1O4N', 'NO2'],\n",
       " ['ISOP1N4N'],\n",
       " ['MVK', 'HCHO', 'NO2', 'NO2'],\n",
       " ['ISOP1N4O', 'NO2'],\n",
       " ['MACR', 'HCHO', 'NO2', 'NO2'],\n",
       " ['ISOP1O4N', 'NO2'],\n",
       " ['ISOP1N4CO', 'HO2'],\n",
       " ['ISOP1CO4N', 'HO2'],\n",
       " ['ISOP1N253OO4OH'],\n",
       " ['ISOP1N253O4OH', 'NO2'],\n",
       " ['ISOP1N253O4OH', 'NO2'],\n",
       " ['ISOP1N253N4OH', 'NO2'],\n",
       " ['MACR4N', 'HCHO', 'HO2'],\n",
       " ['ISOP1N253OOH4OH'],\n",
       " ['ISOP1N253O4OH', 'OH'],\n",
       " ['ISOP1N253CO4OH', 'ISOP1N4OHc'],\n",
       " ['ISOP1N253CO4OH', 'ISOP1N4OHt'],\n",
       " ['ISOP1N253OH4OH', 'ISOP1N4CO'],\n",
       " ['ISOP1N253O4OH', 'ISOP1N4O'],\n",
       " ['ISOP1N253OO4OHISOP1N4'],\n",
       " ['MVK', 'HCHO', 'NO2', 'ISOP1N253O4OH'],\n",
       " ['ISOP1N2OH', 'ISOP1N253CO4OH'],\n",
       " ['ISOP1N253OO4OHISOP1N2'],\n",
       " ['ISOP1N253OH4OH', 'HCHO'],\n",
       " ['ISOP1N253CO4OH', 'CH3OH'],\n",
       " ['ISOP1N253O4OH', 'HCHO', 'HO2'],\n",
       " ['ISOP1N2OOH3R4OH'],\n",
       " ['ISOP1N2OOH3OO4OH'],\n",
       " ['ISOP1N23O4OH', 'OH'],\n",
       " ['ISOP1N2OOH3OH4OO'],\n",
       " ['ISOP1N2OH3R4OOH'],\n",
       " ['ISOP1N2OH3OO4OOH'],\n",
       " ['ISOP1N2OH34O', 'OH'],\n",
       " ['ISOP1N2R3OH4OOH'],\n",
       " ['ISOP1N2OO3OH4OOH'],\n",
       " ['ISOP12O3OH4OOH', 'NO2'],\n",
       " ['ISOP1OH2R3OOH4N'],\n",
       " ['ISOP1OH2OO3OOH4N'],\n",
       " ['ISOP1OH23O4N', 'OH'],\n",
       " ['ISOP1OO2OH3OOH4N'],\n",
       " ['ISOP1OOH2R3OH4N'],\n",
       " ['ISOP1OOH2OO3OH4N'],\n",
       " ['ISOP12O3OH4N', 'OH'],\n",
       " ['ISOP1OOH2OH3R4N'],\n",
       " ['ISOP1OOH2OH3OO4N'],\n",
       " ['ISOP1OOH2OH34O', 'NO2'],\n",
       " ['ISOP1N2OO', 'H2O'],\n",
       " ['ISOP1N4OO', 'H2O'],\n",
       " ['ISOP3OO4N', 'H2O'],\n",
       " ['ISOP1OO4N', 'H2O'],\n",
       " ['OH', 'ISOP1N4CO'],\n",
       " ['OH', 'ISOP1CO4N'],\n",
       " ['OH', 'ISOP3CO4N'],\n",
       " ['ISOP1N2OOH3N4OH'],\n",
       " ['NO2', 'PROPNN', 'GLYC', 'OH'],\n",
       " ['NO2', 'HO2', 'HCHO', 'MACR2OOH3N'],\n",
       " ['OH', 'HO2', 'HCHO', 'MACR2OOH3N'],\n",
       " ['OH', 'PROPNN', 'GLYC', 'OH'],\n",
       " ['ISOP1N2OOH3OOH4OH'],\n",
       " ['ISOP1N2OOH3OH4N'],\n",
       " ['NO2', 'HO2', 'HCHO', 'MACR2OOH3N'],\n",
       " ['ISOP1N2OOH3OH4OOH'],\n",
       " ['OH', 'HO2', 'HCHO', 'MACR2OOH3N'],\n",
       " ['ISOP1N2OH3N4OOH'],\n",
       " ['NO2', 'MACR2OH3N', 'HCHO', 'OH'],\n",
       " ['NO2', 'PROPNN', 'HPETHNL', 'HO2'],\n",
       " ['OH', 'PROPNN', 'HPETHNL', 'HO2'],\n",
       " ['OH', 'MACR2OH3N', 'HCHO', 'OH'],\n",
       " ['ISOP1N2OH3OOH4OOH'],\n",
       " ['ISOP1N2N3OH4OOH'],\n",
       " ['NO2', 'PROPNN', 'HPETHNL', 'HO2'],\n",
       " ['OH', 'PROPNN', 'HPETHNL', 'HO2'],\n",
       " ['ISOP1N2OOH3OH4OOH'],\n",
       " ['ISOP1OH2N3OOH4N'],\n",
       " ['NO2', 'HO2', 'HCHO', 'MVK3OOH4N'],\n",
       " ['NO2', 'HAC', 'ETHLN', 'OH'],\n",
       " ['OH', 'HAC', 'ETHLN', 'OH'],\n",
       " ['OH', 'HO2', 'HCHO', 'MVK3OOH4N'],\n",
       " ['ISOP1OH2OOH3OOH4N'],\n",
       " ['ISOP1N2OH3OOH4N'],\n",
       " ['HO2', 'NO2', 'HCHO', 'MVK3OOH4N'],\n",
       " ['ISOP1OOH2OH3OOH4N'],\n",
       " ['OH', 'HO2', 'HCHO', 'MVK3OOH4N'],\n",
       " ['ISOP1OOH2N3OH4N'],\n",
       " ['NO2', 'HPAC', 'ETHLN', 'HO2'],\n",
       " ['NO2', 'MVK3OH4N', 'HCHO', 'OH'],\n",
       " ['OH', 'MVK3OH4N', 'HCHO', 'OH'],\n",
       " ['OH', 'HPAC', 'ETHLN', 'HO2'],\n",
       " ['ISOP1OOH2OOH3OH4N'],\n",
       " ['ISOP1OOH2OH3N4N'],\n",
       " ['NO2', 'HPAC', 'ETHLN', 'HO2'],\n",
       " ['OH', 'HPAC', 'ETHLN', 'HO2'],\n",
       " ['ISOP1OOH2OH3OOH4N'],\n",
       " ['ISOP1N2OO3OOH4OH'],\n",
       " ['ISOP1N2OO3OH4OOH'],\n",
       " ['ISOP1N2OH3OOH4OO'],\n",
       " ['ISOP1N2OOH3OH4OO'],\n",
       " ['ISOP1OH2OOH3OO4N'],\n",
       " ['ISOP1OOH2OH3OO4N'],\n",
       " ['ISOP1OO2OOH3OH4N'],\n",
       " ['ISOP1OO2OH3OOH4N'],\n",
       " ['ISOP1N2OOH3OO4OH'],\n",
       " ['ISOP1N2OH3OO4OOH'],\n",
       " ['ISOP1OH2OO3OOH4N'],\n",
       " ['ISOP1OOH2OO3OH4N'],\n",
       " ['MVK3OOH4OH', 'NO2', 'HCHO', 'OH'],\n",
       " ['OH', 'OH', 'GLYC', 'PROPNN'],\n",
       " ['ISOP1N2N3OOH4OH'],\n",
       " ['MVK3OOH4OH', 'NO2', 'NO2', 'HCHO'],\n",
       " ['NO2', 'OH', 'GLYC', 'PROPNN'],\n",
       " ['ISOP1N2OH3OOH4OOH'],\n",
       " ['OH', 'OH', 'HCHO', 'MACR2OH3N'],\n",
       " ['ISOP1N2OH3OOH4N'],\n",
       " ['MACR2OH3N', 'OH', 'NO2', 'HCHO'],\n",
       " ['ISOP1OH2OOH3OOH4N'],\n",
       " ['MACR2OOH3OH', 'OH', 'NO2', 'HCHO'],\n",
       " ['HAC', 'ETHLN', 'OH', 'OH'],\n",
       " ['ISOP1OH2OOH3N4N'],\n",
       " ['MACR2OOH3OH', 'NO2', 'NO2', 'HCHO'],\n",
       " ['HAC', 'ETHLN', 'OH', 'NO2'],\n",
       " ['ISOP1OOH2OOH3OH4N'],\n",
       " ['OH', 'OH', 'HCHO', 'MVK3OH4N'],\n",
       " ['ISOP1N2OOH3OH4N'],\n",
       " ['MVK3OH4N', 'OH', 'NO2', 'HCHO'],\n",
       " ['ISOP1N2OOH3OH4CO', 'OH'],\n",
       " ['ISOP1CO2OH3OOH4N', 'OH'],\n",
       " ['ISOP1OOH23O3OH4N', 'OH'],\n",
       " ['ISOP1N2OOH34O4OH', 'OH'],\n",
       " ['ISOP1OOH2OH3CO4N', 'OH'],\n",
       " ['ISOP1OH12O3OOH4N', 'OH'],\n",
       " ['ISOP1N23O4OH4R'],\n",
       " ['ISOP1N23O4CO', 'HO2'],\n",
       " ['HCHO', 'NO2', 'MVKENOL'],\n",
       " ['ISOP1N2OH3OO4CO'],\n",
       " ['ISOP1OH1R23O4N'],\n",
       " ['ISOP1CO23O4N', 'HO2'],\n",
       " ['HCHO', 'NO2', 'MACRENOL'],\n",
       " ['ISOP1CO2OO3OH4N'],\n",
       " ['ISOP1N2OH3OO4CO'],\n",
       " ['ISOP1N2OH3CO4OO'],\n",
       " ['ISOP12O3OH3R4N'],\n",
       " ['ISOP12O3CO4N', 'HO2'],\n",
       " ['ISOP1OH2OO3CO4N'],\n",
       " ['ISOP1N2OH3CO4N'],\n",
       " ['PROPNN', 'CO', 'HO2', 'HCHO', 'NO2'],\n",
       " ['PROPNN', 'CO', 'HO2', 'HCHO', 'OH'],\n",
       " ['ISOP1N2OH3CO4OOH'],\n",
       " ['ISOP1OH2OO3CO4N'],\n",
       " ['ISOP1OH2OOH3CO4N'],\n",
       " ['HAC', 'OH', 'NPA'],\n",
       " ['MVK3CO4N', 'HO2', 'OH', 'HCHO'],\n",
       " ['MVK3CO4N', 'NO2', 'HO2', 'HCHO'],\n",
       " ['ISOP1OH2N3CO4N'],\n",
       " ['HAC', 'NO2', 'NPA'],\n",
       " ['ISOP1N2N3CO4OH'],\n",
       " ['NO2', 'PROPNN', 'CH3CO3'],\n",
       " ['OH', 'PROPNN', 'CH3CO3'],\n",
       " ['ISOP1N4R4CO'],\n",
       " ['ISOP1N4CO4OO'],\n",
       " ['ISOP1N4PAN'],\n",
       " ['NO2', 'CO2', 'C4NVP2'],\n",
       " ['ISOP1N4CO4OOH'],\n",
       " ['O3', 'ISOP1N4CO4OH'],\n",
       " ['OH', 'CO2', 'C4NVP2'],\n",
       " ['NO2', 'MACR2OO3N'],\n",
       " ['OH', 'MACR2OO3N'],\n",
       " ['MACR2N3N'],\n",
       " ['CO', 'OH', 'PROPNN'],\n",
       " ['NO2', 'HO2', 'CO', 'PROPNN'],\n",
       " ['OH', 'HO2', 'CO', 'PROPNN'],\n",
       " ['ISOP1N4CO4OO', 'NO2'],\n",
       " ['ISOP1CO1R4N'],\n",
       " ['ISOP1CO1OO4N'],\n",
       " ['ISOP1PAN4N'],\n",
       " ['NO2', 'CO2', 'C4NVP1'],\n",
       " ['ISOP1CO1OOH4N'],\n",
       " ['O3', 'ISOP1CO1OH4N'],\n",
       " ['OH', 'CO2', 'C4NVP1'],\n",
       " ['NO2', 'MVK3OO4N'],\n",
       " ['OH', 'MVK3OO4N'],\n",
       " ['MVK3N4N'],\n",
       " ['NO2', 'ETHLN', 'CH3CO3'],\n",
       " ['OH', 'ETHLN', 'CH3CO3'],\n",
       " ['ISOP1CO1OO4N', 'NO2'],\n",
       " ['ISOP1N2R3OH4CO'],\n",
       " ['ISOP1N2OO3OH4CO'],\n",
       " ['ISOP12O3OH4CO', 'NO2'],\n",
       " ['ISOP1N2OH3OO4CO'],\n",
       " ['ISOP1CO2OH3R4N'],\n",
       " ['ISOP1CO2OH3OO4N'],\n",
       " ['ISOP1CO2OH34O', 'NO2'],\n",
       " ['ISOP1CO2OO3OH4N'],\n",
       " ['MACR2OOH3N', 'CO', 'HO2'],\n",
       " ['MVK3OOH4N', 'CO', 'HO2'],\n",
       " ['MACR2OH3N', 'CO', 'OH'],\n",
       " ['ISOP1N2OH3OOH4CO'],\n",
       " ['MACR2OH3N', 'OH', 'HO2', 'CO'],\n",
       " ['OH', 'HO2', 'PROPNN', 'GLYX'],\n",
       " ['ISOP1N2OH3N4CO'],\n",
       " ['MACR2OH3N', 'NO2', 'HO2', 'CO'],\n",
       " ['NO2', 'HO2', 'PROPNN', 'GLYX'],\n",
       " ['MVK3OH4N', 'CO', 'OH'],\n",
       " ['MVK3OH4N', 'OH', 'HO2', 'CO'],\n",
       " ['OH', 'HO2', 'MGLY', 'ETHLN'],\n",
       " ['ISOP1CO2OOH3OH4N'],\n",
       " ['MVK3OH4N', 'NO2', 'HO2', 'CO'],\n",
       " ['NO2', 'HO2', 'MGLY', 'ETHLN'],\n",
       " ['ISOP1CO2N3OH4N'],\n",
       " ['MVKENOL', 'OH', 'NO2', 'CO'],\n",
       " ['C4HVP1', 'NO2', 'CO'],\n",
       " ['ISOP1CO4CO', 'HO2', 'NO2'],\n",
       " ['ISOP1CO2OO3OOH4CO', 'NO2'],\n",
       " ['MACRENOL', 'NO2', 'OH', 'CO'],\n",
       " ['C4HVP2', 'NO2', 'CO'],\n",
       " ['ISOP1CO4CO', 'HO2', 'NO2'],\n",
       " ['ISOP1CO2OOH3OO4CO', 'NO2'],\n",
       " ['NO2', 'HCHO', 'MACR1OO'],\n",
       " ['ISOP1N2OH3OO4OH'],\n",
       " ['ISOP1N2OH3OH4OO'],\n",
       " ['ISOP1N2R3OH4OH'],\n",
       " ['ISOP1N2R3OH4OH'],\n",
       " ['ISOP1N2OO3OH4OH'],\n",
       " ['ISOP12O3OH4OH'],\n",
       " ['ISOP1N2OH3OO4OH'],\n",
       " ['ISOP1N2OH3OO4OH'],\n",
       " ['ISOP1OH2OO3OH4N'],\n",
       " ['ISOP1OO2OH3OH4N'],\n",
       " ['ISOP1OH2OH3R4N'],\n",
       " ['ISOP1OH2OH3R4N'],\n",
       " ['ISOP1OH2OH3OO4N'],\n",
       " ['ISOP1OH2OH34O'],\n",
       " ['ISOP1OH2OO3OH4N'],\n",
       " ['ISOP1OH2OO3OH4N'],\n",
       " ['ISOP1CO2OH3OOH4N', 'HO2'],\n",
       " ['ISOP1N2OOH3OH4CO', 'HO2'],\n",
       " ['ISOP1N2OOH3OH4OH'],\n",
       " ['OH', 'HO2', 'PROPNN', 'GLYC'],\n",
       " ['ISOP1N2OH3OOH4OH'],\n",
       " ['MACR2OH3N', 'HCHO', 'HO2', 'OH'],\n",
       " ['OH', 'HO2', 'PROPNN', 'GLYC'],\n",
       " ['ISOP1OH2OH3OOH4N'],\n",
       " ['OH', 'HO2', 'HAC', 'ETHLN'],\n",
       " ['ISOP1OH2OOH3OH4N'],\n",
       " ['MVK3OH4N', 'HCHO', 'HO2', 'OH'],\n",
       " ['OH', 'HO2', 'HAC', 'ETHLN'],\n",
       " ['ISOP1N2N3OH4OH'],\n",
       " ['NO2', 'HO2', 'PROPNN', 'GLYC'],\n",
       " ['ISOP1N2OH3N4OH'],\n",
       " ['MACR2OH3N', 'HCHO', 'HO2', 'NO2'],\n",
       " ['NO2', 'HO2', 'PROPNN', 'GLYC'],\n",
       " ['ISOP1OH2OH3N4N'],\n",
       " ['NO2', 'HO2', 'HAC', 'ETHLN'],\n",
       " ['ISOP1OH2N3OH4N'],\n",
       " ['MVK3OH4N', 'HCHO', 'HO2', 'NO2'],\n",
       " ['NO2', 'HO2', 'HAC', 'ETHLN'],\n",
       " ['ISOP1OOH2OH3CO4N', 'HO2'],\n",
       " ['ISOP1N2OH3OH4OOH'],\n",
       " ['OH', 'HO2', 'HCHO', 'MACR2OH3N'],\n",
       " ['ISOP1OOH2OH3OH4N'],\n",
       " ['OH', 'HO2', 'HCHO', 'MVK3OH4N'],\n",
       " ['ISOP1N2OH3OH4N'],\n",
       " ['HO2', 'NO2', 'HCHO', 'MACR2OH3N'],\n",
       " ['ISOP1N2OH3OH4N'],\n",
       " ['HO2', 'NO2', 'HCHO', 'MVK3OH4N'],\n",
       " ['ISOP1N4R4OH'],\n",
       " ['ISOP1N4R4OH'],\n",
       " ['ISOP1N4CO', 'HO2'],\n",
       " ['ISOP1N2OOH3OO4CO'],\n",
       " ['ISOP1N2OO3OOH4CO'],\n",
       " ['ISOP1N2OOH3OO4CO'],\n",
       " ['OH', 'CO', 'MACR2OOH3N'],\n",
       " ['OH', 'CO', 'MACR2OOH3N'],\n",
       " ['ISOP1OH1R4N'],\n",
       " ['ISOP1OH1R4N'],\n",
       " ['ISOP1CO4N', 'HO2'],\n",
       " ['ISOP1CO2OO3OOH4N'],\n",
       " ['ISOP1CO2OOH3OO4N'],\n",
       " ['ISOP1CO2OO3OOH4N'],\n",
       " ['OH', 'CO', 'MVK3OOH4N'],\n",
       " ['OH', 'CO', 'MVK3OOH4N'],\n",
       " ['ISOP3OH3R4N'],\n",
       " ['ISOP3CO4N', 'HO2'],\n",
       " ['ISOP1OOH2R3CO4N'],\n",
       " ['OH', 'ISOP12O3CO4N'],\n",
       " ['OH', 'CO2', 'MGLY', 'HO2', 'CO', 'MACR2OOH3OH', 'ISOP1OH2OH3OO4CO'],\n",
       " ['OH', 'CO2', 'MGLY', 'HO2', 'CO', 'MACR2OOH3OH', 'ISOP1OH2OH3OO4CO'],\n",
       " ['ISOP1OH2OO3CO4OH'],\n",
       " ['ISOP1OH2OOH3OOH4CO',\n",
       "  'ISOP1CO2OOH3OOH4OH',\n",
       "  'ISOP1OH2OOH3CO4OH',\n",
       "  'ISOP1CO2OOH3OOH4OOH',\n",
       "  'ISOP1OOH2OOH3OOH4CO',\n",
       "  'ISOP1OH2OOH3OH4CO',\n",
       "  'ISOP1OOH2OH3CO4OH',\n",
       "  'ISOP1CO2OH3OOH4OH',\n",
       "  'ISOP1OH3OH4CO',\n",
       "  'ISOP1CO3OH4OH',\n",
       "  'ISOP1OH2OH3OOH4CO',\n",
       "  'ISOP1CO2OOH3OH4OH',\n",
       "  'ISOP1CO1OH4OH',\n",
       "  'ISOP1OH4CO4OH',\n",
       "  'ISOP1CO1OOH4OH',\n",
       "  'ISOP1OH4CO4OOH',\n",
       "  'OH',\n",
       "  'MVK3CO4OH',\n",
       "  'HCHO',\n",
       "  'HO2',\n",
       "  'HAC',\n",
       "  'CO'],\n",
       " ['ISOP1OH2N3CO4OH', 'ISOP1OH2OH3N4CO'],\n",
       " ['NO2', 'HAC', 'CO', 'HCHO', 'HO2', 'MVK3CO4OH'],\n",
       " ['HO2', 'CO', 'CO', 'HAC', 'OH'],\n",
       " ['ISOP1CO2OOH34O4OH',\n",
       "  'ISOP1OH12O3OOH4CO',\n",
       "  'ISOP1OOH2OH34O4OH',\n",
       "  'ISOP1OH12O3OOH4OH',\n",
       "  'ISOP1OH12O3OH4OOH',\n",
       "  'ISOP1OH2OOH34O4OH',\n",
       "  'OH'],\n",
       " ['ISOP1CO2OOH34O4OH',\n",
       "  'ISOP1OH12O3OOH4CO',\n",
       "  'ISOP1OOH2OH34O4OH',\n",
       "  'ISOP1OH12O3OOH4OH',\n",
       "  'ISOP1OH12O3OH4OOH',\n",
       "  'ISOP1OH2OOH34O4OH',\n",
       "  'OH'],\n",
       " ['MACR2OOH3OH', 'HCHO', 'HPETHNL', 'HAC', 'NO2', 'HO2'],\n",
       " ['MACR2OOH3OH', 'HCHO', 'HPETHNL', 'HAC', 'NO2', 'HO2'],\n",
       " ['ISOP1OH2OOH3OH4N',\n",
       "  'ISOP1OH2N3OH4OOH',\n",
       "  'ISOP1N2OH3OOH4OH',\n",
       "  'ISOP1OOH2OH3N4OH',\n",
       "  'ISOP1OH2OOH3N4OH',\n",
       "  'ISOP1OH2N3OOH4OH',\n",
       "  'ISOP1N2OOH3OH4OH',\n",
       "  'ISOP1OH2OH3OOH4N',\n",
       "  'ISOP1N2OH3OH4OOH',\n",
       "  'ISOP1OOH2OH3OH4N'],\n",
       " ['ISOP1OH2OOH3OH4N',\n",
       "  'ISOP1OH2N3OH4OOH',\n",
       "  'ISOP1N2OH3OOH4OH',\n",
       "  'ISOP1OOH2OH3N4OH',\n",
       "  'ISOP1OH2OOH3N4OH',\n",
       "  'ISOP1OH2N3OOH4OH',\n",
       "  'ISOP1N2OOH3OH4OH',\n",
       "  'ISOP1OH2OH3OOH4N',\n",
       "  'ISOP1N2OH3OH4OOH',\n",
       "  'ISOP1OOH2OH3OH4N'],\n",
       " ['ISOP1OH2OOH3OH4OOH',\n",
       "  'ISOP1OOH2OH3OOH4OH',\n",
       "  'ISOP1OH2OOH3OOH4OH',\n",
       "  'MACR2OOH3OH',\n",
       "  'HCHO',\n",
       "  'HPETHNL',\n",
       "  'HAC',\n",
       "  'OH',\n",
       "  'HO2'],\n",
       " ['ISOP1OH2OOH3OH4OOH',\n",
       "  'ISOP1OOH2OH3OOH4OH',\n",
       "  'ISOP1OH2OOH3OOH4OH',\n",
       "  'MACR2OOH3OH',\n",
       "  'HCHO',\n",
       "  'HPETHNL',\n",
       "  'HAC',\n",
       "  'OH',\n",
       "  'HO2'],\n",
       " ['OH', 'MGLY', 'CO2'],\n",
       " ['GLYX', 'HO2', 'CH3CO3', 'CO', 'MGLY'],\n",
       " ['CO2', 'OH', 'CO', 'HO2', 'CH3CO3'],\n",
       " ['HCHO', 'NO2', 'CH3OO', 'CO2', 'MVK', 'MACR'],\n",
       " ['CH3OO', 'CO2', 'ISOP1N4O', 'HO2', 'ISOP1CO4N'],\n",
       " ['CH3OO', 'CO2', 'ISOP1N4O', 'HO2', 'ISOP1CO4N'],\n",
       " ['ISOP1N4CO', 'HO2'],\n",
       " ['IDHNBOO'],\n",
       " ['ISOP1OH2OOH3OH4N',\n",
       "  'ISOP1OH2N3OH4OOH',\n",
       "  'ISOP1N2OH3OOH4OH',\n",
       "  'ISOP1OOH2OH3N4OH',\n",
       "  'ISOP1OH2OOH3N4OH',\n",
       "  'ISOP1OH2N3OOH4OH',\n",
       "  'ISOP1N2OOH3OH4OH',\n",
       "  'ISOP1OH2OH3OOH4N',\n",
       "  'ISOP1N2OH3OH4OOH',\n",
       "  'ISOP1OOH2OH3OH4N',\n",
       "  'PROPNN',\n",
       "  'GLYC',\n",
       "  'MACR2OH3N',\n",
       "  'MACR2OH3N',\n",
       "  'MACR2OH3N',\n",
       "  'HCHO',\n",
       "  'HO2',\n",
       "  'OH'],\n",
       " ['ISOP1OH2OOH3OH4N',\n",
       "  'ISOP1OH2N3OH4OOH',\n",
       "  'ISOP1N2OH3OOH4OH',\n",
       "  'ISOP1OOH2OH3N4OH',\n",
       "  'ISOP1OH2OOH3N4OH',\n",
       "  'ISOP1OH2N3OOH4OH',\n",
       "  'ISOP1N2OOH3OH4OH',\n",
       "  'ISOP1OH2OH3OOH4N',\n",
       "  'ISOP1N2OH3OH4OOH',\n",
       "  'ISOP1OOH2OH3OH4N',\n",
       "  'PROPNN',\n",
       "  'GLYC',\n",
       "  'MACR2OH3N',\n",
       "  'MACR2OH3N',\n",
       "  'MACR2OH3N',\n",
       "  'HCHO',\n",
       "  'HO2',\n",
       "  'OH'],\n",
       " ['PROPNN', 'GLYC', 'MACR2OH3N', 'MACR4N', 'MACR2N3N', 'HCHO', 'HO2', 'NO2'],\n",
       " ['PROPNN', 'GLYC', 'MACR2OH3N', 'MACR4N', 'MACR2N3N', 'HCHO', 'HO2', 'NO2'],\n",
       " ['ISOP1OH2N3OH4N',\n",
       "  'ISOP1OH2N3N4OH',\n",
       "  'ISOP1N2OH3N4OH',\n",
       "  'ISOP1N2N3OH4OH',\n",
       "  'ISOP1OH2OH3N4N',\n",
       "  'ISOP1N2OH3OH4N'],\n",
       " ['ISOP1OH2N3OH4N',\n",
       "  'ISOP1OH2N3N4OH',\n",
       "  'ISOP1N2OH3N4OH',\n",
       "  'ISOP1N2N3OH4OH',\n",
       "  'ISOP1OH2OH3N4N',\n",
       "  'ISOP1N2OH3OH4N'],\n",
       " ['ISOP1CO2N3OOH4OH',\n",
       "  'ISOP1CO2OOH3N4OH',\n",
       "  'ISOP1OH2OOH3N4CO',\n",
       "  'ISOP1OH2N3OOH4CO',\n",
       "  'ISOP1CO2N3OOH4OOH',\n",
       "  'ISOP1CO2OOH3N4OOH',\n",
       "  'ISOP1CO2OOH3OOH4N',\n",
       "  'ISOP1OOH2OOH3N4CO',\n",
       "  'ISOP1OOH2N3OOH4CO',\n",
       "  'ISOP1N2OOH3OOH4CO',\n",
       "  'ISOP1N2OOH3OH4CO',\n",
       "  'ISOP1CO2OH3OOH4N',\n",
       "  'ISOP1OOH2OH3CO4N',\n",
       "  'ISOP1OOH2OH3N4CO',\n",
       "  'ISOP1N2OH3CO4OOH',\n",
       "  'ISOP1OH2OOH3CO4N',\n",
       "  'ISOP1N4CO4OOH',\n",
       "  'ISOP1N4CO4OH',\n",
       "  'ISOP1CO1OOH4N',\n",
       "  'ISOP1CO1OH4N',\n",
       "  'ISOP1N2OH3OOH4CO',\n",
       "  'ISOP1CO2OOH3OH4N',\n",
       "  'ISOP1CO2N3OH4OOH',\n",
       "  'HO2'],\n",
       " ['ISOP1CO2N3OOH4OH',\n",
       "  'ISOP1CO2OOH3N4OH',\n",
       "  'ISOP1OH2OOH3N4CO',\n",
       "  'ISOP1OH2N3OOH4CO',\n",
       "  'ISOP1CO2N3OOH4OOH',\n",
       "  'ISOP1CO2OOH3N4OOH',\n",
       "  'ISOP1CO2OOH3OOH4N',\n",
       "  'ISOP1OOH2OOH3N4CO',\n",
       "  'ISOP1OOH2N3OOH4CO',\n",
       "  'ISOP1N2OOH3OOH4CO',\n",
       "  'ISOP1N2OOH3OH4CO',\n",
       "  'ISOP1CO2OH3OOH4N',\n",
       "  'ISOP1OOH2OH3CO4N',\n",
       "  'ISOP1OOH2OH3N4CO',\n",
       "  'ISOP1N2OH3CO4OOH',\n",
       "  'ISOP1OH2OOH3CO4N',\n",
       "  'ISOP1N4CO4OOH',\n",
       "  'ISOP1N4CO4OH',\n",
       "  'ISOP1CO1OOH4N',\n",
       "  'ISOP1CO1OH4N',\n",
       "  'ISOP1N2OH3OOH4CO',\n",
       "  'ISOP1CO2OOH3OH4N',\n",
       "  'ISOP1CO2N3OH4OOH',\n",
       "  'HO2'],\n",
       " ['HO2',\n",
       "  'OH',\n",
       "  'ISOP1N2OOH3OH4OH',\n",
       "  'ISOP1OH2OH3OOH4N',\n",
       "  'ISOP1N2OH3OH4OOH',\n",
       "  'ISOP1OOH2OH3OH4N',\n",
       "  'ISOP1OH2N3OOH4OH',\n",
       "  'ISOP1OH2OOH3OH4N',\n",
       "  'ISOP1OH2N3OH4OOH',\n",
       "  'ISOP1N2OH3OOH4OH',\n",
       "  'ISOP1OOH2OH3N4OH',\n",
       "  'ISOP1OH2OOH3N4OH',\n",
       "  'MACR2OH3N',\n",
       "  'GLYC',\n",
       "  'PROPNN',\n",
       "  'MVK3OH4N',\n",
       "  'HAC',\n",
       "  'ETHLN',\n",
       "  'HCHO'],\n",
       " ['MACR2OH3N',\n",
       "  'PROPNN',\n",
       "  'GLYC',\n",
       "  'MVK3OH4N',\n",
       "  'ETHLN',\n",
       "  'HAC',\n",
       "  'HO2',\n",
       "  'NO2',\n",
       "  'HCHO'],\n",
       " ['ISOP1OH2N3OH4N',\n",
       "  'ISOP1OH2N3N4OH',\n",
       "  'ISOP1N2OH3N4OH',\n",
       "  'ISOP1N2N3OH4OH',\n",
       "  'ISOP1OH2OH3N4N',\n",
       "  'ISOP1N2OH3OH4N'],\n",
       " ['IHNEOO',\n",
       "  'ISOP1N2OH3OO4CO',\n",
       "  'ISOP1CO2OO3OH4N',\n",
       "  'ISOP1OH2OO3CO4N',\n",
       "  'MACRENOL',\n",
       "  'MVKENOL',\n",
       "  'NO2',\n",
       "  'HCHO'],\n",
       " ['IHNEOO',\n",
       "  'ISOP1N2OH3OO4CO',\n",
       "  'ISOP1CO2OO3OH4N',\n",
       "  'ISOP1OH2OO3CO4N',\n",
       "  'MACRENOL',\n",
       "  'MVKENOL',\n",
       "  'NO2',\n",
       "  'HCHO'],\n",
       " ['IHNEOO',\n",
       "  'ISOP1N2OH3OO4CO',\n",
       "  'ISOP1CO2OO3OH4N',\n",
       "  'ISOP1OH2OO3CO4N',\n",
       "  'MACRENOL',\n",
       "  'MVKENOL',\n",
       "  'NO2',\n",
       "  'HCHO'],\n",
       " ['IHNEOO', 'ISOP1N2OH3OO4CO', 'ISOP1N23O4CO', 'ISOP1CO23O4N', 'ISOP12O3CO4N'],\n",
       " ['IHNEOO', 'ISOP1N2OH3OO4CO', 'ISOP1N23O4CO', 'ISOP1CO23O4N', 'ISOP12O3CO4N'],\n",
       " ['IHNEOO', 'ISOP1N2OH3OO4CO', 'ISOP1N23O4CO', 'ISOP1CO23O4N', 'ISOP12O3CO4N'],\n",
       " ['ISOP1CO2N3OOH4OH',\n",
       "  'ISOP1CO2OOH3N4OH',\n",
       "  'ISOP1OH2OOH3N4CO',\n",
       "  'ISOP1OH2N3OOH4CO',\n",
       "  'ISOP1CO2N3OOH4OOH',\n",
       "  'ISOP1CO2OOH3N4OOH',\n",
       "  'ISOP1CO2OOH3OOH4N',\n",
       "  'ISOP1OOH2OOH3N4CO',\n",
       "  'ISOP1OOH2N3OOH4CO',\n",
       "  'ISOP1N2OOH3OOH4CO',\n",
       "  'ISOP1N2OOH3OH4CO',\n",
       "  'ISOP1CO2OH3OOH4N',\n",
       "  'ISOP1OOH2OH3CO4N',\n",
       "  'ISOP1OOH2OH3N4CO',\n",
       "  'ISOP1N2OH3CO4OOH',\n",
       "  'ISOP1OH2OOH3CO4N',\n",
       "  'ISOP1N4CO4OOH',\n",
       "  'ISOP1N4CO4OH',\n",
       "  'ISOP1CO1OOH4N',\n",
       "  'ISOP1CO1OH4N',\n",
       "  'ISOP1N2OH3OOH4CO',\n",
       "  'ISOP1CO2OOH3OH4N',\n",
       "  'ISOP1CO2N3OH4OOH',\n",
       "  'PROPNN',\n",
       "  'CO',\n",
       "  'HO2',\n",
       "  'HCHO',\n",
       "  'OH'],\n",
       " ['ISOP1N2OH3CO4N',\n",
       "  'ISOP1OH2N3CO4N',\n",
       "  'ISOP1N2N3CO4OH',\n",
       "  'ISOP1CO2N3OH4N',\n",
       "  'ISOP1N2OH3N4CO'],\n",
       " ['PROPNN', 'CO', 'HO2', 'HCHO', 'NO2'],\n",
       " ['OH', 'CO', 'HCHO', 'MGLY', 'HAC'],\n",
       " ['OH', 'CO', 'HCHO', 'MGLY', 'HAC'],\n",
       " ['OH', 'CO', 'HCHO', 'MGLY', 'HAC'],\n",
       " ['OH', 'CO', 'HCHO', 'MGLY', 'HAC'],\n",
       " ['OH', 'CO', 'HCHO', 'MGLY', 'HAC'],\n",
       " ['OH', 'CO', 'HCHO', 'MGLY', 'HAC'],\n",
       " ['OH', 'CO', 'HCHO', 'MGLY', 'HAC'],\n",
       " ['OH', 'CO', 'HCHO', 'MGLY', 'HAC'],\n",
       " ['OH', 'CO', 'HCHO', 'MGLY', 'HAC'],\n",
       " ['OH', 'CO', 'HCHO', 'MGLY', 'HAC'],\n",
       " ['OH', 'CO', 'PROPNN', 'MGLY', 'HO2', 'NO2'],\n",
       " ['OH', 'CO', 'PROPNN', 'MGLY', 'HO2', 'NO2'],\n",
       " ['OH', 'CO', 'PROPNN', 'MGLY', 'HO2', 'NO2'],\n",
       " ['CH3CO3', 'GLYC', 'NO2'],\n",
       " ['CH3CO3', 'GLYC', 'NO2'],\n",
       " ['HCOOH', 'NO3', 'MGLY', 'HCHO', 'PYRAC'],\n",
       " ['HCOOH', 'NO3', 'MGLY', 'HCHO', 'PYRAC'],\n",
       " ['CH3CO3', 'GLYC', 'OH'],\n",
       " ['MVK3CO4OH', 'OH'],\n",
       " ['MVK3OOH4CO4OOH', 'OH'],\n",
       " ['MVK3OOH4CO4OOH', 'OH'],\n",
       " ['OH', 'HO2', 'HCHO', 'MGLY'],\n",
       " ['OH', 'HO2', 'HCHO', 'MGLY'],\n",
       " ['OH', 'CO', 'HO2', 'HAC'],\n",
       " ['CO', 'OH', 'HAC'],\n",
       " ['OH', 'HCHO', 'HO2', 'MGLY'],\n",
       " ['OH', 'HCHO', 'HO2', 'MGLY'],\n",
       " ['CO2', 'OH', 'HPAC'],\n",
       " ['CO2', 'OH', 'HPAC'],\n",
       " ['CO2', 'OH', 'PROPNN'],\n",
       " ['CO2', 'OH', 'PROPNN'],\n",
       " ['CO2', 'OH', 'PROPNN'],\n",
       " ['CH3CO3', 'OH', 'ETHLN'],\n",
       " ['OH', 'MVK3CO4N'],\n",
       " ['CO', 'OH', 'PROPNN'],\n",
       " ['PROPNN', 'OH', 'CO', 'HO2'],\n",
       " ['CH3CO3', 'NO2'],\n",
       " ['CO', 'HO2', 'MVK3OOH4CO'],\n",
       " ['CO', 'OH', 'HCHO'],\n",
       " ['GLYX', 'OH'],\n",
       " ['OH', 'CO', 'HO2', 'HCHO'],\n",
       " ['MGLY', 'OH', 'CH3CO3', 'HCOOH'],\n",
       " ['OH', 'CO2', 'CH3OO', 'HCHO', 'CH3CO3'],\n",
       " ['CO2', 'HCHO', 'CH3CO3', 'CH3OO'],\n",
       " ['CH3CO3', 'HCHO', 'OH'],\n",
       " ['MGLY', 'OH'],\n",
       " ['MVK', 'MACR', 'HCHO', 'NO2', 'ISOP1N4O', 'ISOP1CO4N', 'HO2'],\n",
       " ['MVK', 'MACR', 'HCHO', 'NO2', 'ISOP1N4O', 'ISOP1CO4N', 'HO2'],\n",
       " ['MVK', 'MACR', 'HCHO', 'NO2', 'ISOP1N4O', 'ISOP1CO4N', 'HO2'],\n",
       " ['NO2', 'ISOP12O3OH4N', 'ISOP1OH23O4N', 'ISOP1N2OH34O'],\n",
       " ['NO2', 'ISOP12O3OH4N', 'ISOP1OH23O4N', 'ISOP1N2OH34O'],\n",
       " ['NO2', 'ISOP12O3OH4N', 'ISOP1OH23O4N', 'ISOP1N2OH34O'],\n",
       " ['IDNOO'],\n",
       " ['IDNOO'],\n",
       " ['IDNOO'],\n",
       " ['PROPNN', 'NO2', 'GLYC', 'ETHLN', 'HO2'],\n",
       " ['ISOP1N2N3OOH4OH',\n",
       "  'ISOP1OH2OOH3N4N',\n",
       "  'ISOP1OOH2OH3N4N',\n",
       "  'ISOP1OOH2N3OH4N',\n",
       "  'ISOP1N2OH3OOH4N',\n",
       "  'ISOP1N2OOH3OH4N',\n",
       "  'ISOP1N2OH3N4OOH',\n",
       "  'ISOP1N2N3OH4OOH',\n",
       "  'ISOP1OH2N3OOH4N',\n",
       "  'ISOP1N2OOH3N4OH',\n",
       "  'PROPNN',\n",
       "  'OH',\n",
       "  'GLYC',\n",
       "  'NO2',\n",
       "  'ETHLN',\n",
       "  'HO2'],\n",
       " ['HAC', 'OH', 'NO2', 'CO2', 'O3', 'MACRNOH', 'MACRNOOH'],\n",
       " ['HAC', 'NO2', 'CO2'],\n",
       " ['MPANHN'],\n",
       " ['HAC', 'NO2', 'CO2'],\n",
       " ['HAC', 'CO2', 'NO2', 'HO2', 'HCHO', 'MACRNOH'],\n",
       " ['HAC', 'OH', 'NO2', 'CO2', 'O3', 'MACRNOH', 'MACRNOOH'],\n",
       " ['HAC', 'NO2', 'CO2'],\n",
       " ['MPAN1OH2OOH'],\n",
       " ['HAC', 'NO2', 'CO2'],\n",
       " ['HAC', 'CO2', 'NO2', 'HO2', 'HCHO', 'MACRNOH'],\n",
       " ['HAC', 'OH', 'NO2', 'CO2', 'O3', 'MACRNOH', 'MACRNOOH'],\n",
       " ['HAC', 'NO2', 'CO2'],\n",
       " ['MPAN1OH2OOH'],\n",
       " ['HAC', 'NO2', 'CO2'],\n",
       " ...]"
      ]
     },
     "execution_count": 66,
     "metadata": {},
     "output_type": "execute_result"
    }
   ],
   "source": [
    "prod_list"
   ]
  },
  {
   "cell_type": "code",
   "execution_count": 67,
   "metadata": {
    "scrolled": true
   },
   "outputs": [
    {
     "ename": "NameError",
     "evalue": "name 'z' is not defined",
     "output_type": "error",
     "traceback": [
      "\u001b[1;31m---------------------------------------------------------------------------\u001b[0m",
      "\u001b[1;31mNameError\u001b[0m                                 Traceback (most recent call last)",
      "Input \u001b[1;32mIn [67]\u001b[0m, in \u001b[0;36m<cell line: 1>\u001b[1;34m()\u001b[0m\n\u001b[1;32m----> 1\u001b[0m \u001b[43mz\u001b[49m\n",
      "\u001b[1;31mNameError\u001b[0m: name 'z' is not defined"
     ]
    }
   ],
   "source": [
    "z"
   ]
  },
  {
   "cell_type": "code",
   "execution_count": 78,
   "metadata": {},
   "outputs": [],
   "source": [
    "conc_list_post = [#'OH','NO','NO2','NO3','HO2','O3','CH3OO',\n",
    "                 420,0,210000000,0,0.01,0,0.01,0,\n",
    "                  0,0,0,0,0,0,0,0,\n",
    "                  0,0,0,0,0,0,0,0,0,\n",
    "                  0,0,0,0,0,0,0,0,0,\n",
    "                  0,0,0,0,0,0,0,0,0,0,0,\n",
    "                  0,0,0,0,0,0, 0]"
   ]
  },
  {
   "cell_type": "code",
   "execution_count": 79,
   "metadata": {},
   "outputs": [],
   "source": [
    "#'OH','NO','NO2','NO3','HO2','O3','CH3OO'\n",
    "conc_list_input = [1e-5,1e-5,1e-5,1e-5,0.01,1,0.001]"
   ]
  },
  {
   "cell_type": "code",
   "execution_count": 80,
   "metadata": {},
   "outputs": [],
   "source": [
    "CFACTOR = 2.5e+19;\n",
    "RO2 = 0.01*10e-9;\n",
    "SUN = 1;\n",
    "TEMP = 295;\n",
    "M = pressure_to_m(1000,295);\n",
    "sza = 0;"
   ]
  },
  {
   "cell_type": "code",
   "execution_count": 81,
   "metadata": {
    "code_folding": [
     0
    ]
   },
   "outputs": [],
   "source": [
    "#klist\n",
    "x1 = time.time()\n",
    "k_list = []\n",
    "for i in eq_list:\n",
    "    if i[1] == 'J(22) ':\n",
    "        I = 5.804e-6;\n",
    "        m = 1.092;\n",
    "        n = 0.377;\n",
    "        k_list.append(j_func(sza,I,m,n))\n",
    "    elif i[1] == 'J(34) ':\n",
    "        I = 1.537e-4;\n",
    "        m = 0.170;\n",
    "        n = 0.208;\n",
    "        k_list.append(j_func(sza,I,m,n))\n",
    "    elif i[1] == 'J(41) ':\n",
    "        I = 7.649e-6;\n",
    "        m = 0.682;\n",
    "        n = 0.279;\n",
    "        k_list.append(j_func(sza,I,m,n))\n",
    "    else:\n",
    "        k_list.append(eval(i[1])) \n",
    "x2 = time.time()"
   ]
  },
  {
   "cell_type": "code",
   "execution_count": 82,
   "metadata": {},
   "outputs": [],
   "source": [
    "conc_list = conc_list_input\n",
    "conc_list.extend(conc_list_post)"
   ]
  },
  {
   "cell_type": "code",
   "execution_count": 83,
   "metadata": {
    "code_folding": []
   },
   "outputs": [],
   "source": [
    "# if reactant in group, dont add flux to group, if reactant not in group and product in group, add flux to group"
   ]
  },
  {
   "cell_type": "code",
   "execution_count": 84,
   "metadata": {
    "code_folding": []
   },
   "outputs": [],
   "source": [
    "# a list of background species to be excluded from our reaction network for visual clarity (and also because they will mess with the drg reduction method)\n",
    "background_spc = ['OH','NO','NO2','NO3','HO2','O3','CH3OO','CO2','CO','O2','N2O5','H2O','H2O2','H2Od','SO2',\n",
    "                  'H2S','HF','H2S','N2H4','HN3','HI','HBr',\n",
    "                  'HCl','HCN','H2Se','H2Te','NH2OH','HBrO','HClO','H3PO2','HPO3',\n",
    "                  'H2O3','OF2','O2F2','NOHSO4','COS','N2F4','N2O4','N2O3','HNO3',\n",
    "                  'HNO2','N2O','NF5','NI3','H2SO4','CS2','H2CO3','H2SO3','SO2Cl2','S4N4','H2SO5',\n",
    "                  'H2S2O7','S2F10','H3NO3S','Br2S','SF6','SF4']"
   ]
  },
  {
   "cell_type": "code",
   "execution_count": 85,
   "metadata": {},
   "outputs": [],
   "source": [
    "bckg_fluxes = np.zeros(len(background_spc))"
   ]
  },
  {
   "cell_type": "code",
   "execution_count": 86,
   "metadata": {},
   "outputs": [],
   "source": [
    "bckg_coeff = [np.zeros(len(background_spc)) for i in reac_list]"
   ]
  },
  {
   "cell_type": "code",
   "execution_count": 87,
   "metadata": {},
   "outputs": [],
   "source": [
    "bspc = set(background_spc)"
   ]
  },
  {
   "cell_type": "code",
   "execution_count": 88,
   "metadata": {},
   "outputs": [],
   "source": [
    "reaction_list = eqn_to_reactions2(reac_list,reac_coeff_list,prod_list,prod_coeff_list,eq_list)"
   ]
  },
  {
   "cell_type": "code",
   "execution_count": 89,
   "metadata": {},
   "outputs": [],
   "source": [
    "CFACTOR = 2.5e+19;\n",
    "RO2 = 0.01*10e-9;\n",
    "SUN = 1;\n",
    "TEMP = 295;\n",
    "M = pressure_to_m(1000,295);\n",
    "sza = 0;"
   ]
  },
  {
   "cell_type": "code",
   "execution_count": 90,
   "metadata": {},
   "outputs": [],
   "source": [
    "prod_list_n = [[species_list.index(j) for j in i] for i in prod_list]\n",
    "reac_list_n = [[species_list.index(j) for j in i] for i in reac_list]"
   ]
  },
  {
   "cell_type": "code",
   "execution_count": 91,
   "metadata": {},
   "outputs": [],
   "source": [
    "for i in range(len(reaction_list)):\n",
    "    for j in reaction_list[i][0]:\n",
    "        if j[0] in bspc:\n",
    "            bckg_coeff[i][background_spc.index(j[0])] = j[1]"
   ]
  },
  {
   "cell_type": "code",
   "execution_count": 92,
   "metadata": {},
   "outputs": [],
   "source": [
    "reaction_species = [[] for i in range(len(species_list))]\n",
    "for i in range(len(reac_list_n)):\n",
    "    if any([x for x in reac_list[i]]) in bspc:\n",
    "        for j in reac_list_n[i]:\n",
    "            reaction_species[j].append(i)"
   ]
  },
  {
   "cell_type": "code",
   "execution_count": 93,
   "metadata": {},
   "outputs": [],
   "source": [
    "reaction_species = [[] for i in range(len(species_list))]\n",
    "for i in range(len(reac_list_n)):\n",
    "    for j in reac_list_n[i]:\n",
    "        reaction_species[j].append(i)"
   ]
  },
  {
   "cell_type": "code",
   "execution_count": 94,
   "metadata": {},
   "outputs": [],
   "source": [
    "rates_0 = [k_list[n]*np.prod(np.array([conc_list[background_spc.index(species_list[m])] if species_list[m] in bspc else 1 for m in reac_list_n[n]])) for n in range(len(reac_list))]\n",
    "k_factors = [sum([rates_0[i] for i in j]) for j in reaction_species]"
   ]
  },
  {
   "cell_type": "code",
   "execution_count": 95,
   "metadata": {},
   "outputs": [],
   "source": [
    "g1 = [122,123,169]\n",
    "g2 = [67,69,71]"
   ]
  },
  {
   "cell_type": "code",
   "execution_count": 96,
   "metadata": {},
   "outputs": [],
   "source": [
    "flux_list,net,c_p, cycle_part,scc,net2, times = get_fluxes_init(species_list,reac_list,prod_list,background_spc,conc_list,k_list)"
   ]
  },
  {
   "cell_type": "code",
   "execution_count": 97,
   "metadata": {},
   "outputs": [],
   "source": [
    "org_nit = ['ISOP1CO2N3OOH4OH', 'ISOP1CO2OOH3N4OH', 'ISOP1OH2OOH3N4CO', 'ISOP1OH2N3OOH4CO', 'ISOP1OH2N3CO4OH', 'ISOP1CO2N3OOH4OOH', 'ISOP1CO2OOH3N4OOH', 'ISOP1CO2OOH3OOH4N', 'ISOP1OOH2OOH3N4CO', 'ISOP1OOH2N3OOH4CO', 'ISOP1N2OOH3OOH4CO', 'ISOP1OOH23O3OH4N', 'ISOP1N2OOH34O4OH', 'ISOP1OH12O3OOH4N', 'ISOP1OH2OOH3OH4N', 'ISOP1OH2N3OH4OOH', 'ISOP1N2OH3OOH4OH', 'ISOP1OOH2OH3N4OH', 'ISOP1OH2OOH3N4OH', 'ISOP1OH2N3OOH4OH', 'ISOP1N2OOH3OH4CO', 'ISOP1CO2OH3OOH4N', 'ISOP1OOH2OH3CO4N', 'ISOP1N4R4OH', 'ISOP1OH1R4N', 'ISOP3OH3R4N', 'ISOP1OOH2R3CO4N', 'ISOP1OH2OH3N4CO', 'ISOP1CO2N3OH4OH', 'ISOP1OH2N3R4OH', 'ISOP1OH2N3OH4N', 'ISOP1OH2N3N4OH', 'ISOP1CO2N3OH4OOH', 'ISOP1OH2R3N4OH', 'ISOP1N2OH3N4OH', 'ISOP1OOH2OH3N4CO', 'ISOP1N2OOH', 'ISOP1N4OOH', 'ISOP3OOH4N', 'ISOP1OOH4N', 'ISOP1N2OH', 'ISOP3CO4N', 'ISOP1CO4N', 'ISOP1O4N', 'ISOP1N4CO', 'ISOP1N4O', 'ISOP3OH4N', 'ISOP1N2N', 'ISOP1N4N', 'ISOP3N4N', 'ISOP1N253O4OH', 'ISOP1N253N4OH', 'ISOP1N253OOH4OH', 'ISOP1N253CO4OH', 'ISOP1N253OH4OH', 'ISOP1N2OOH3R4OH', 'ISOP1N23O4OH', 'ISOP1N2OH3R4OOH', 'ISOP1N2OH34O', 'ISOP1N2R3OH4OOH', 'ISOP1OH2R3OOH4N', 'ISOP1OH23O4N', 'ISOP1OOH2R3OH4N', 'ISOP12O3OH4N', 'ISOP1OOH2OH3R4N', 'ISOP1N2OOH3N4OH', 'ISOP1N2OOH3OOH4OH', 'ISOP1N2OOH3OH4N', 'ISOP1N2OOH3OH4OOH', 'ISOP1N2OH3N4OOH', 'ISOP1N2OH3OOH4OOH', 'ISOP1N2N3OH4OOH', 'ISOP1OH2N3OOH4N', 'ISOP1OH2OOH3OOH4N', 'ISOP1N2OH3OOH4N', 'ISOP1OOH2OH3OOH4N', 'ISOP1OOH2N3OH4N', 'ISOP1OOH2OOH3OH4N', 'ISOP1OO2OOH3OH4N', 'ISOP1N2N3OOH4OH', 'ISOP1OH2OOH3N4N', 'ISOP1N23O4OH4R', 'ISOP1N23O4CO', 'ISOP1OH1R23O4N', 'ISOP1CO23O4N', 'ISOP1N2OH3CO4OOH', 'ISOP12O3OH3R4N', 'ISOP12O3CO4N', 'ISOP1N2OH3CO4N', 'ISOP1OH2OOH3CO4N', 'ISOP1N4R4CO', 'ISOP1N4CO4OOH', 'ISOP1N4CO4OH', 'ISOP1CO1R4N', 'ISOP1CO1OOH4N', 'ISOP1CO1OH4N', 'ISOP1N2R3OH4CO', 'ISOP1CO2OH3R4N', 'ISOP1N2OH3OOH4CO', 'ISOP1CO2OOH3OH4N', 'ISOP1N2R3OH4OH', 'ISOP1OH2OH3R4N', 'ISOP1N2OOH3OH4OH', 'ISOP1OH2OH3OOH4N', 'ISOP1N2OH3OH4OOH', 'ISOP1OOH2OH3OH4N', 'ISOP1OOH2OH3N4N', 'ISOP1OH2N3CO4N', 'ISOP1N2N3CO4OH', 'ISOP1OH2OH3N4N', 'ISOP1N2OH3OH4N', 'ISOP1N2N3OH4OH', 'ISOP1CO2N3OH4N', 'ISOP1N2OH3N4CO', 'ISOP1N4PAN', 'ISOP1PAN4N','ISOP1PAN4OH','ISOP1OH4PAN']"
   ]
  },
  {
   "cell_type": "code",
   "execution_count": 98,
   "metadata": {},
   "outputs": [],
   "source": [
    "#df2 = pd.DataFrame(bbn)"
   ]
  },
  {
   "cell_type": "code",
   "execution_count": 99,
   "metadata": {},
   "outputs": [],
   "source": [
    "#df2.to_csv('/Users/woods/Documents/Documents - Woods MacBook Air/Jobs/Columbia/McNeill Lab/Woods_AMORE_code/cyc.csv')"
   ]
  },
  {
   "cell_type": "code",
   "execution_count": 123,
   "metadata": {},
   "outputs": [],
   "source": [
    "#new x\n",
    "xOH = [1e-6,1e-4]\n",
    "xNO = [1.17e-6,5.32e-1]\n",
    "xNO2 = [1.01e-4,1.01e-2]\n",
    "xNO3 = [2.3e-4,2e-2]\n",
    "xHO2 = [4.15e-2,0.3]\n",
    "xO3 = [16.7,100]\n",
    "xCH3OO = [0.1,0.2]\n",
    "xT = [292,292]\n",
    "xP = [1000,1000]\n",
    "xSol = [0.,1]"
   ]
  },
  {
   "cell_type": "code",
   "execution_count": 112,
   "metadata": {},
   "outputs": [],
   "source": [
    "#new x\n",
    "xOH = [1e-6,1e-4]\n",
    "xNO = [1.17e-6,1.32e-1]\n",
    "xNO2 = [1.01e-4,1.01e-2]\n",
    "xNO3 = [2.3e-4,2e-3]\n",
    "xHO2 = [4.15e-2,0.3]\n",
    "xO3 = [16.7,50]\n",
    "xCH3OO = [1e-4,0.2]\n",
    "xT = [300,300]\n",
    "xP = [1000,1000]\n",
    "xSol = [0,0.1]"
   ]
  },
  {
   "cell_type": "code",
   "execution_count": 124,
   "metadata": {
    "code_folding": []
   },
   "outputs": [],
   "source": [
    "x_list = []\n",
    "for i in xOH:\n",
    "    for j in xNO:\n",
    "        for k in xNO2:\n",
    "            for l in xNO3:\n",
    "                for m in xHO2:\n",
    "                    for n in xO3:\n",
    "                        for o in xCH3OO:\n",
    "                            for p in xT:\n",
    "                                for q in xP:\n",
    "                                    for r in xSol:\n",
    "                                        x_list.append([i,j,k,l,m,n,o,p,q,r])"
   ]
  },
  {
   "cell_type": "code",
   "execution_count": 125,
   "metadata": {
    "code_folding": [
     2
    ]
   },
   "outputs": [],
   "source": [
    "k_lists = [[[[],[]],[[],[]]],[[[],[]],[[],[]]]]\n",
    "count = 0\n",
    "for a in [0,1]:\n",
    "    for b in [0,1]:\n",
    "        for c in [0,1]:\n",
    "            CFACTOR = 2.5e+19;\n",
    "            RO2 = 0.01*10e-9;\n",
    "            SUN = xSol[c];\n",
    "            TEMP = xT[a];\n",
    "            M = pressure_to_m(xP[b],xT[a]);\n",
    "            sza = 0;\n",
    "            k_list = []\n",
    "            for i in eq_list:\n",
    "                if i[1] == 'J(22) ':\n",
    "                    I = 5.804e-6;\n",
    "                    m = 1.092;\n",
    "                    n = 0.377;\n",
    "                    k_list.append(j_func(sza,I,m,n))\n",
    "                elif i[1] == 'J(34) ':\n",
    "                    I = 1.537e-4;\n",
    "                    m = 0.170;\n",
    "                    n = 0.208;\n",
    "                    k_list.append(j_func(sza,I,m,n))\n",
    "                elif i[1] == 'J(41) ':\n",
    "                    I = 7.649e-6;\n",
    "                    m = 0.682;\n",
    "                    n = 0.279;\n",
    "                    k_list.append(j_func(sza,I,m,n))\n",
    "                else:\n",
    "                    k_list.append(eval(i[1])) \n",
    "            count = count + 1\n",
    "            k_lists[a][b][c] = k_list\n",
    "            "
   ]
  },
  {
   "cell_type": "code",
   "execution_count": 126,
   "metadata": {},
   "outputs": [],
   "source": [
    "protected2 = ['ISOP1OH23O4OHt','ISOP1OH23O4OHt',\n",
    " 'ISOP1OH23O4OHc','ISOP1OH23O4OHc',\n",
    " 'ISOP1OH2OH34O', 'ISOP1OH2OH34O',\n",
    " 'HCHO','HCHO','HCHO',\n",
    " 'GLYC',\n",
    " 'HAC',\n",
    " 'PYRAC',\n",
    " 'MGLY',\n",
    " 'HCOOH',\n",
    " 'MACR',\n",
    " 'MPAN',\n",
    " 'GLYX',\n",
    " 'MVK']"
   ]
  },
  {
   "cell_type": "code",
   "execution_count": 127,
   "metadata": {},
   "outputs": [],
   "source": [
    "protected2 = ['ISOP1OH23O4OHt',\n",
    " 'ISOP1OH23O4OHc',\n",
    " 'ISOP1OH2OH34O',\n",
    " 'HCHO',\n",
    " 'GLYC',\n",
    " 'HAC',\n",
    " 'PYRAC',\n",
    " 'MGLY',\n",
    " 'HCOOH',\n",
    " 'MACR',\n",
    " 'MPAN',\n",
    " 'GLYX',\n",
    " 'MVK']"
   ]
  },
  {
   "cell_type": "code",
   "execution_count": 128,
   "metadata": {},
   "outputs": [
    {
     "name": "stdout",
     "output_type": "stream",
     "text": [
      "26.042194604873657\n"
     ]
    }
   ],
   "source": [
    "xx = time.time()\n",
    "z = []\n",
    "for i in range(1000):\n",
    "    conc_list_input = x_list[i][0:7]\n",
    "    conc_list = conc_list_input\n",
    "    conc_list.extend(conc_list_post)\n",
    "    k_list_now = k_lists[xT.index(x_list[i][7])][xP.index(x_list[i][8])][xSol.index(x_list[i][9])]\n",
    "    a,b,cc,dd = get_fluxes_quick_groups(species_list,in_list,out_list,scc,c_p,reac_list_n,prod_list_n,bspc,conc_list,k_list_now,[g1,g2],edge_list,reaction_species)\n",
    "    f = [b[species_list.index(i)] for i in protected2]\n",
    "    fnit = [b[species_list.index(i)] for i in org_nit]\n",
    "    f.append(sum(fnit))\n",
    "    #f.append(sum(fnit))\n",
    "    #f.append(sum(fnit))\n",
    "    #z.append([f, cc, dd])\n",
    "    z.append([f])\n",
    "xy = time.time() \n",
    "print(xy-xx)"
   ]
  },
  {
   "cell_type": "code",
   "execution_count": 129,
   "metadata": {},
   "outputs": [],
   "source": [
    "spec = [[] for i in range(len(z[1][0]))]\n",
    "for i in z:\n",
    "    for j in i:\n",
    "        for k in range(len(j)):\n",
    "            spec[k].append(j[k])"
   ]
  },
  {
   "cell_type": "code",
   "execution_count": 130,
   "metadata": {},
   "outputs": [],
   "source": [
    "n = [max(i) for i in spec]"
   ]
  },
  {
   "cell_type": "code",
   "execution_count": 131,
   "metadata": {},
   "outputs": [
    {
     "data": {
      "text/plain": [
       "[0.19920299543393782,\n",
       " 0.09576710268162678,\n",
       " 0.0009643754772037256,\n",
       " 1.5026419199064844,\n",
       " 3.849360707565448,\n",
       " 11.249158534971896,\n",
       " 0.18982142050875864,\n",
       " 0.9042082665579319,\n",
       " 0.019877161139686142,\n",
       " 0.32234031151497833,\n",
       " 7.473867735472757e-06,\n",
       " 0.5816114268855229,\n",
       " 0.40695827875977336,\n",
       " 2.5167356127483167]"
      ]
     },
     "execution_count": 131,
     "metadata": {},
     "output_type": "execute_result"
    }
   ],
   "source": [
    "n"
   ]
  },
  {
   "cell_type": "code",
   "execution_count": 132,
   "metadata": {},
   "outputs": [],
   "source": [
    "delta = []\n",
    "ones_list = []\n",
    "for i in range(len(z)):\n",
    "    x_inds = [xOH.index(x_list[i][0]),xNO.index(x_list[i][1]),xNO2.index(x_list[i][2]),xNO3.index(x_list[i][3]),xHO2.index(x_list[i][4]),xO3.index(x_list[i][5]),xCH3OO.index(x_list[i][6]),xT.index(x_list[i][7]),xP.index(x_list[i][8]),xSol.index(x_list[i][9])]\n",
    "    ones = []\n",
    "    for j in range(len(x_inds)):\n",
    "        if x_inds[j] ==1:\n",
    "            ones.append(j)\n",
    "    ones_list.append(ones)\n",
    "    condishes = []\n",
    "    for j in ones:\n",
    "        c = deepcopy(x_inds)\n",
    "        c[j] = 0\n",
    "        condishes.append(c)\n",
    "    deltas = [1]\n",
    "    for k in condishes:\n",
    "        index = x_list.index([xOH[k[0]],xNO[k[1]],xNO2[k[2]],xNO3[k[3]],xHO2[k[4]],xO3[k[5]],xCH3OO[k[6]],xT[k[7]],xP[k[8]],xSol[k[9]]])\n",
    "        deltas.append(get_delt(z[i],z[index]))\n",
    "    delta.append(min(deltas))"
   ]
  },
  {
   "cell_type": "code",
   "execution_count": 135,
   "metadata": {
    "scrolled": true
   },
   "outputs": [
    {
     "data": {
      "text/plain": [
       "(13,\n",
       " [[],\n",
       "  [9],\n",
       "  [5],\n",
       "  [3],\n",
       "  [3, 9],\n",
       "  [3, 4, 9],\n",
       "  [1],\n",
       "  [1, 3],\n",
       "  [0],\n",
       "  [0, 3],\n",
       "  [0, 3, 9],\n",
       "  [0, 1],\n",
       "  [0, 1, 3]])"
      ]
     },
     "execution_count": 135,
     "metadata": {},
     "output_type": "execute_result"
    }
   ],
   "source": [
    "thresh = 0.12\n",
    "groups = []\n",
    "for i in range(len(delta)):\n",
    "    if delta[i] > thresh:\n",
    "        if ones_list[i] not in groups:\n",
    "            groups.append(ones_list[i])\n",
    "len(groups),groups"
   ]
  },
  {
   "cell_type": "code",
   "execution_count": null,
   "metadata": {},
   "outputs": [],
   "source": [
    "ones_list.index([5])"
   ]
  },
  {
   "cell_type": "code",
   "execution_count": null,
   "metadata": {},
   "outputs": [],
   "source": [
    "z[16]"
   ]
  },
  {
   "cell_type": "code",
   "execution_count": null,
   "metadata": {},
   "outputs": [],
   "source": [
    "protected2"
   ]
  },
  {
   "cell_type": "code",
   "execution_count": null,
   "metadata": {},
   "outputs": [],
   "source": [
    "z[768]"
   ]
  },
  {
   "cell_type": "code",
   "execution_count": null,
   "metadata": {},
   "outputs": [],
   "source": [
    "(15,\n",
    " [[],\n",
    " x [9],\n",
    "  [5],\n",
    "  [3],\n",
    " x [3, 9],\n",
    "  [3, 4],\n",
    " x [3, 4, 9],\n",
    " x [1],\n",
    "  [1, 3],\n",
    "  [0],\n",
    "  [0, 4],\n",
    "  [0, 3],\n",
    " x [0, 3, 9],\n",
    "  [0, 1],\n",
    " x [0, 1, 3]])"
   ]
  },
  {
   "cell_type": "code",
   "execution_count": null,
   "metadata": {},
   "outputs": [],
   "source": [
    "ones_list.index([3])"
   ]
  },
  {
   "cell_type": "markdown",
   "metadata": {},
   "source": [
    "## Yield Estimation Algorithm Assessment"
   ]
  },
  {
   "cell_type": "code",
   "execution_count": null,
   "metadata": {},
   "outputs": [],
   "source": [
    "#new x\n",
    "xOH = [1e-6,1e-4]\n",
    "xNO = [1.17e-6,5.32e-1]\n",
    "xNO2 = [1.01e-4,1.01e-2]\n",
    "xNO3 = [2.3e-4,2e-2]\n",
    "xHO2 = [4.15e-2,0.3]\n",
    "xO3 = [16.7,100]\n",
    "xCH3OO = [0.1,0.2]\n",
    "xT = [290,290.1]\n",
    "xP = [900,900.1]\n",
    "xSol = [0,1]"
   ]
  },
  {
   "cell_type": "code",
   "execution_count": null,
   "metadata": {
    "code_folding": []
   },
   "outputs": [],
   "source": [
    "x_list = []\n",
    "for i in xOH:\n",
    "    for j in xNO:\n",
    "        for k in xNO2:\n",
    "            for l in xNO3:\n",
    "                for m in xHO2:\n",
    "                    for n in xO3:\n",
    "                        for r in xSol:\n",
    "                            x_list.append([i,j,k,l,m,n,r])"
   ]
  },
  {
   "cell_type": "code",
   "execution_count": null,
   "metadata": {},
   "outputs": [],
   "source": [
    "matlab_input = pd.DataFrame(x_list)"
   ]
  },
  {
   "cell_type": "code",
   "execution_count": null,
   "metadata": {},
   "outputs": [],
   "source": [
    "matlab_input.to_csv(\"C:/Users/woods/OneDrive/Documents/MATLAB/yield_estimation_algo_data\")"
   ]
  },
  {
   "cell_type": "code",
   "execution_count": null,
   "metadata": {},
   "outputs": [],
   "source": [
    "protected2"
   ]
  },
  {
   "cell_type": "code",
   "execution_count": null,
   "metadata": {},
   "outputs": [],
   "source": [
    "x_list[1]"
   ]
  },
  {
   "cell_type": "code",
   "execution_count": null,
   "metadata": {},
   "outputs": [],
   "source": []
  },
  {
   "cell_type": "code",
   "execution_count": 68,
   "metadata": {},
   "outputs": [],
   "source": [
    "protected3  = ['HCHO',\"MVK\",\"GLYX\",\"MACR\",\"MGLY\",\"PAN\",\"ISOP1OH23O4OHt\",\"ISOP1OH23O4OHc\",\"ISOP1OH2OH34O\"]"
   ]
  },
  {
   "cell_type": "code",
   "execution_count": 69,
   "metadata": {},
   "outputs": [
    {
     "data": {
      "text/plain": [
       "['OH',\n",
       " 'NO',\n",
       " 'NO2',\n",
       " 'NO3',\n",
       " 'HO2',\n",
       " 'O3',\n",
       " 'CH3OO',\n",
       " 'CO2',\n",
       " 'CO',\n",
       " 'O2',\n",
       " 'N2O5',\n",
       " 'H2O',\n",
       " 'H2O2',\n",
       " 'H2Od',\n",
       " 'SO2',\n",
       " 'H2S',\n",
       " 'HF',\n",
       " 'H2S',\n",
       " 'N2H4',\n",
       " 'HN3',\n",
       " 'HI',\n",
       " 'HBr',\n",
       " 'HCl',\n",
       " 'HCN',\n",
       " 'H2Se',\n",
       " 'H2Te',\n",
       " 'NH2OH',\n",
       " 'HBrO',\n",
       " 'HClO',\n",
       " 'H3PO2',\n",
       " 'HPO3',\n",
       " 'H2O3',\n",
       " 'OF2',\n",
       " 'O2F2',\n",
       " 'NOHSO4',\n",
       " 'COS',\n",
       " 'N2F4',\n",
       " 'N2O4',\n",
       " 'N2O3',\n",
       " 'HNO3',\n",
       " 'HNO2',\n",
       " 'N2O',\n",
       " 'NF5',\n",
       " 'NI3',\n",
       " 'H2SO4',\n",
       " 'CS2',\n",
       " 'H2CO3',\n",
       " 'H2SO3',\n",
       " 'SO2Cl2',\n",
       " 'S4N4',\n",
       " 'H2SO5',\n",
       " 'H2S2O7',\n",
       " 'S2F10',\n",
       " 'H3NO3S',\n",
       " 'Br2S',\n",
       " 'SF6',\n",
       " 'SF4',\n",
       " 'CH3CO3']"
      ]
     },
     "execution_count": 69,
     "metadata": {},
     "output_type": "execute_result"
    }
   ],
   "source": [
    "background_spc"
   ]
  },
  {
   "cell_type": "code",
   "execution_count": 70,
   "metadata": {},
   "outputs": [],
   "source": [
    "conc_list_post = [0.01, 420, 0, 210000000, 0, 0.01, 0,0.01,0, 0, 0, 0, 0, 0, 0, 0, 0, 0,0, 0, 0, 0, 0, 0, 0, 0, 0, 0,0, 0, 0,0, 0, 0, 0, 0, 0, 0, 0, 0, 0, 0, 0, 0, 0, 0,0, 0, 0, 0, 0, 0, 0]"
   ]
  },
  {
   "cell_type": "code",
   "execution_count": 71,
   "metadata": {},
   "outputs": [
    {
     "ename": "NameError",
     "evalue": "name 'x_list' is not defined",
     "output_type": "error",
     "traceback": [
      "\u001b[1;31m---------------------------------------------------------------------------\u001b[0m",
      "\u001b[1;31mNameError\u001b[0m                                 Traceback (most recent call last)",
      "Input \u001b[1;32mIn [71]\u001b[0m, in \u001b[0;36m<cell line: 3>\u001b[1;34m()\u001b[0m\n\u001b[0;32m      2\u001b[0m z \u001b[38;5;241m=\u001b[39m []\n\u001b[0;32m      3\u001b[0m \u001b[38;5;28;01mfor\u001b[39;00m i \u001b[38;5;129;01min\u001b[39;00m \u001b[38;5;28mrange\u001b[39m(\u001b[38;5;241m128\u001b[39m):\n\u001b[1;32m----> 4\u001b[0m     conc_list_input \u001b[38;5;241m=\u001b[39m \u001b[43mx_list\u001b[49m[i][\u001b[38;5;241m0\u001b[39m:\u001b[38;5;241m6\u001b[39m]\n\u001b[0;32m      5\u001b[0m     conc_list \u001b[38;5;241m=\u001b[39m conc_list_input\n\u001b[0;32m      6\u001b[0m     conc_list\u001b[38;5;241m.\u001b[39mextend(conc_list_post)\n",
      "\u001b[1;31mNameError\u001b[0m: name 'x_list' is not defined"
     ]
    }
   ],
   "source": [
    "xx = time.time()\n",
    "z = []\n",
    "for i in range(128):\n",
    "    conc_list_input = x_list[i][0:6]\n",
    "    conc_list = conc_list_input\n",
    "    conc_list.extend(conc_list_post)\n",
    "    k_list_now = k_lists[0][0][xSol.index(x_list[i][6])]\n",
    "    a,b,cc,dd = get_fluxes_quick_groups(species_list,in_list,out_list,scc,c_p,reac_list_n,prod_list_n,bspc,conc_list,k_list_now,[g1,g2],edge_list,reaction_species)\n",
    "    f = [b[species_list.index(i)] for i in protected3]\n",
    "    fnit = [b[species_list.index(i)] for i in org_nit]\n",
    "    f.append(sum(fnit))\n",
    "    #f.append(sum(fnit))\n",
    "    #f.append(sum(fnit))\n",
    "    #z.append([f, cc, dd])\n",
    "    z.append([f])\n",
    "xy = time.time() \n",
    "print(xy-xx)"
   ]
  },
  {
   "cell_type": "code",
   "execution_count": null,
   "metadata": {},
   "outputs": [],
   "source": [
    "sum(fnit)"
   ]
  },
  {
   "cell_type": "code",
   "execution_count": 72,
   "metadata": {},
   "outputs": [],
   "source": [
    "yield_estimator_output = pd.DataFrame(z)"
   ]
  },
  {
   "cell_type": "code",
   "execution_count": 73,
   "metadata": {},
   "outputs": [],
   "source": [
    "yield_estimator_output.to_csv(\"C:/Users/woods/OneDrive/Documents/MATLAB/yield_estimation_compare_data3\")"
   ]
  },
  {
   "cell_type": "code",
   "execution_count": 74,
   "metadata": {},
   "outputs": [
    {
     "data": {
      "text/plain": [
       "[]"
      ]
     },
     "execution_count": 74,
     "metadata": {},
     "output_type": "execute_result"
    }
   ],
   "source": [
    "z"
   ]
  },
  {
   "cell_type": "code",
   "execution_count": null,
   "metadata": {},
   "outputs": [],
   "source": []
  },
  {
   "cell_type": "code",
   "execution_count": null,
   "metadata": {},
   "outputs": [],
   "source": []
  },
  {
   "cell_type": "code",
   "execution_count": null,
   "metadata": {},
   "outputs": [],
   "source": []
  },
  {
   "cell_type": "code",
   "execution_count": null,
   "metadata": {},
   "outputs": [],
   "source": []
  },
  {
   "cell_type": "code",
   "execution_count": null,
   "metadata": {},
   "outputs": [],
   "source": []
  },
  {
   "cell_type": "code",
   "execution_count": 75,
   "metadata": {},
   "outputs": [
    {
     "data": {
      "text/plain": [
       "['HCHO',\n",
       " 'MVK',\n",
       " 'GLYX',\n",
       " 'MACR',\n",
       " 'MGLY',\n",
       " 'PAN',\n",
       " 'ISOP1OH23O4OHt',\n",
       " 'ISOP1OH23O4OHc',\n",
       " 'ISOP1OH2OH34O']"
      ]
     },
     "execution_count": 75,
     "metadata": {},
     "output_type": "execute_result"
    }
   ],
   "source": [
    "protected3"
   ]
  },
  {
   "cell_type": "code",
   "execution_count": 76,
   "metadata": {},
   "outputs": [
    {
     "ename": "NameError",
     "evalue": "name 'x_list' is not defined",
     "output_type": "error",
     "traceback": [
      "\u001b[1;31m---------------------------------------------------------------------------\u001b[0m",
      "\u001b[1;31mNameError\u001b[0m                                 Traceback (most recent call last)",
      "Input \u001b[1;32mIn [76]\u001b[0m, in \u001b[0;36m<cell line: 1>\u001b[1;34m()\u001b[0m\n\u001b[1;32m----> 1\u001b[0m \u001b[43mx_list\u001b[49m[\u001b[38;5;241m0\u001b[39m]\n",
      "\u001b[1;31mNameError\u001b[0m: name 'x_list' is not defined"
     ]
    }
   ],
   "source": [
    "x_list[0]"
   ]
  },
  {
   "cell_type": "code",
   "execution_count": 77,
   "metadata": {},
   "outputs": [
    {
     "ename": "NameError",
     "evalue": "name 'x_list' is not defined",
     "output_type": "error",
     "traceback": [
      "\u001b[1;31m---------------------------------------------------------------------------\u001b[0m",
      "\u001b[1;31mNameError\u001b[0m                                 Traceback (most recent call last)",
      "Input \u001b[1;32mIn [77]\u001b[0m, in \u001b[0;36m<cell line: 1>\u001b[1;34m()\u001b[0m\n\u001b[1;32m----> 1\u001b[0m \u001b[43mx_list\u001b[49m[\u001b[38;5;241m1\u001b[39m]\n",
      "\u001b[1;31mNameError\u001b[0m: name 'x_list' is not defined"
     ]
    }
   ],
   "source": [
    "x_list[1]"
   ]
  },
  {
   "cell_type": "code",
   "execution_count": null,
   "metadata": {},
   "outputs": [],
   "source": []
  },
  {
   "cell_type": "code",
   "execution_count": null,
   "metadata": {},
   "outputs": [],
   "source": []
  },
  {
   "cell_type": "code",
   "execution_count": null,
   "metadata": {},
   "outputs": [],
   "source": []
  }
 ],
 "metadata": {
  "kernelspec": {
   "display_name": "Python 3 (ipykernel)",
   "language": "python",
   "name": "python3"
  },
  "language_info": {
   "codemirror_mode": {
    "name": "ipython",
    "version": 3
   },
   "file_extension": ".py",
   "mimetype": "text/x-python",
   "name": "python",
   "nbconvert_exporter": "python",
   "pygments_lexer": "ipython3",
   "version": "3.10.6"
  }
 },
 "nbformat": 4,
 "nbformat_minor": 2
}
